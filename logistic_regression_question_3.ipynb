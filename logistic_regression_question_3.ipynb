{
 "cells": [
  {
   "cell_type": "markdown",
   "metadata": {},
   "source": [
    "# Sentiment analysis with Logistic Regression"
   ]
  },
  {
   "cell_type": "markdown",
   "metadata": {},
   "source": [
    "## Sentiment analysis\n",
    "\n",
    "Let's first of all have a look at the data"
   ]
  },
  {
   "cell_type": "code",
   "execution_count": 6,
   "metadata": {},
   "outputs": [
    {
     "data": {
      "text/html": [
       "<div>\n",
       "<style>\n",
       "    .dataframe thead tr:only-child th {\n",
       "        text-align: right;\n",
       "    }\n",
       "\n",
       "    .dataframe thead th {\n",
       "        text-align: left;\n",
       "    }\n",
       "\n",
       "    .dataframe tbody tr th {\n",
       "        vertical-align: top;\n",
       "    }\n",
       "</style>\n",
       "<table border=\"1\" class=\"dataframe\">\n",
       "  <thead>\n",
       "    <tr style=\"text-align: right;\">\n",
       "      <th></th>\n",
       "      <th>recipedetails</th>\n",
       "      <th>assist_action_ad</th>\n",
       "      <th>assist_action_image</th>\n",
       "      <th>assist_action_sub</th>\n",
       "      <th>assist_action_search</th>\n",
       "      <th>assist_action_video</th>\n",
       "      <th>assist_action_activate</th>\n",
       "      <th>assist_action_clarify</th>\n",
       "    </tr>\n",
       "  </thead>\n",
       "  <tbody>\n",
       "    <tr>\n",
       "      <th>0</th>\n",
       "      <td>in a medium saucepan mix figs and sugar togeth...</td>\n",
       "      <td>0</td>\n",
       "      <td>0</td>\n",
       "      <td>0</td>\n",
       "      <td>0</td>\n",
       "      <td>1</td>\n",
       "      <td>0</td>\n",
       "      <td>0</td>\n",
       "    </tr>\n",
       "    <tr>\n",
       "      <th>1</th>\n",
       "      <td>if processing pour hot preserves mixture into ...</td>\n",
       "      <td>0</td>\n",
       "      <td>0</td>\n",
       "      <td>1</td>\n",
       "      <td>0</td>\n",
       "      <td>0</td>\n",
       "      <td>1</td>\n",
       "      <td>0</td>\n",
       "    </tr>\n",
       "    <tr>\n",
       "      <th>2</th>\n",
       "      <td>this recipe yields a quart of preserves</td>\n",
       "      <td>0</td>\n",
       "      <td>0</td>\n",
       "      <td>0</td>\n",
       "      <td>0</td>\n",
       "      <td>0</td>\n",
       "      <td>0</td>\n",
       "      <td>1</td>\n",
       "    </tr>\n",
       "    <tr>\n",
       "      <th>3</th>\n",
       "      <td>drain pineapple reserving of cup juice save re...</td>\n",
       "      <td>0</td>\n",
       "      <td>0</td>\n",
       "      <td>0</td>\n",
       "      <td>1</td>\n",
       "      <td>1</td>\n",
       "      <td>0</td>\n",
       "      <td>0</td>\n",
       "    </tr>\n",
       "    <tr>\n",
       "      <th>4</th>\n",
       "      <td>in a large bowl combine the flour sugar baking...</td>\n",
       "      <td>0</td>\n",
       "      <td>0</td>\n",
       "      <td>1</td>\n",
       "      <td>0</td>\n",
       "      <td>0</td>\n",
       "      <td>1</td>\n",
       "      <td>0</td>\n",
       "    </tr>\n",
       "    <tr>\n",
       "      <th>5</th>\n",
       "      <td>pour into two greased and floured in round bak...</td>\n",
       "      <td>0</td>\n",
       "      <td>0</td>\n",
       "      <td>0</td>\n",
       "      <td>1</td>\n",
       "      <td>0</td>\n",
       "      <td>0</td>\n",
       "      <td>1</td>\n",
       "    </tr>\n",
       "    <tr>\n",
       "      <th>6</th>\n",
       "      <td>cool for of minutes before removing from pans ...</td>\n",
       "      <td>0</td>\n",
       "      <td>0</td>\n",
       "      <td>0</td>\n",
       "      <td>1</td>\n",
       "      <td>1</td>\n",
       "      <td>0</td>\n",
       "      <td>0</td>\n",
       "    </tr>\n",
       "    <tr>\n",
       "      <th>7</th>\n",
       "      <td>preheat oven to 325Â° f</td>\n",
       "      <td>1</td>\n",
       "      <td>0</td>\n",
       "      <td>0</td>\n",
       "      <td>0</td>\n",
       "      <td>0</td>\n",
       "      <td>1</td>\n",
       "      <td>0</td>\n",
       "    </tr>\n",
       "    <tr>\n",
       "      <th>8</th>\n",
       "      <td>place baguette slices on baking sheet and bake...</td>\n",
       "      <td>0</td>\n",
       "      <td>0</td>\n",
       "      <td>0</td>\n",
       "      <td>1</td>\n",
       "      <td>1</td>\n",
       "      <td>0</td>\n",
       "      <td>0</td>\n",
       "    </tr>\n",
       "    <tr>\n",
       "      <th>9</th>\n",
       "      <td>take out of the oven and set aside</td>\n",
       "      <td>0</td>\n",
       "      <td>1</td>\n",
       "      <td>0</td>\n",
       "      <td>0</td>\n",
       "      <td>1</td>\n",
       "      <td>0</td>\n",
       "      <td>0</td>\n",
       "    </tr>\n",
       "  </tbody>\n",
       "</table>\n",
       "</div>"
      ],
      "text/plain": [
       "                                       recipedetails  assist_action_ad  \\\n",
       "0  in a medium saucepan mix figs and sugar togeth...                 0   \n",
       "1  if processing pour hot preserves mixture into ...                 0   \n",
       "2            this recipe yields a quart of preserves                 0   \n",
       "3  drain pineapple reserving of cup juice save re...                 0   \n",
       "4  in a large bowl combine the flour sugar baking...                 0   \n",
       "5  pour into two greased and floured in round bak...                 0   \n",
       "6  cool for of minutes before removing from pans ...                 0   \n",
       "7                            preheat oven to 325Â° f                 1   \n",
       "8  place baguette slices on baking sheet and bake...                 0   \n",
       "9                 take out of the oven and set aside                 0   \n",
       "\n",
       "   assist_action_image  assist_action_sub  assist_action_search  \\\n",
       "0                    0                  0                     0   \n",
       "1                    0                  1                     0   \n",
       "2                    0                  0                     0   \n",
       "3                    0                  0                     1   \n",
       "4                    0                  1                     0   \n",
       "5                    0                  0                     1   \n",
       "6                    0                  0                     1   \n",
       "7                    0                  0                     0   \n",
       "8                    0                  0                     1   \n",
       "9                    1                  0                     0   \n",
       "\n",
       "   assist_action_video  assist_action_activate  assist_action_clarify  \n",
       "0                    1                       0                      0  \n",
       "1                    0                       1                      0  \n",
       "2                    0                       0                      1  \n",
       "3                    1                       0                      0  \n",
       "4                    0                       1                      0  \n",
       "5                    0                       0                      1  \n",
       "6                    1                       0                      0  \n",
       "7                    0                       1                      0  \n",
       "8                    1                       0                      0  \n",
       "9                    1                       0                      0  "
      ]
     },
     "execution_count": 6,
     "metadata": {},
     "output_type": "execute_result"
    }
   ],
   "source": [
    "import pandas as pd\n",
    "import numpy as np\n",
    "from sklearn.feature_extraction.text import TfidfTransformer\n",
    "\n",
    "\n",
    "#Load the data into a DataFrame\n",
    "train = pd.read_csv('../pytorch-text-classification/data/question_3/train.csv', encoding='latin-1',sep=',')\n",
    "test = pd.read_csv('../pytorch-text-classification/data/question_3/test.csv', encoding='latin-1',sep=',')\n",
    "\n",
    "train.head(10)"
   ]
  },
  {
   "cell_type": "code",
   "execution_count": 2,
   "metadata": {
    "collapsed": true
   },
   "outputs": [],
   "source": [
    "labels = ['assist_action_ad', \n",
    "          'assist_action_image', \n",
    "          'assist_action_sub', \n",
    "          'assist_action_search', \n",
    "          'assist_action_video', \n",
    "          'assist_action_activate', \n",
    "          'assist_action_clarify']"
   ]
  },
  {
   "cell_type": "code",
   "execution_count": 5,
   "metadata": {},
   "outputs": [
    {
     "data": {
      "text/plain": [
       "{'about': 0,\n",
       " 'am': 1,\n",
       " 'amazing': 2,\n",
       " 'best': 3,\n",
       " 'end': 4,\n",
       " 'going': 5,\n",
       " 'how': 6,\n",
       " 'is': 7,\n",
       " 'it': 8,\n",
       " 'ml': 9,\n",
       " 'not': 10,\n",
       " 'sure': 11,\n",
       " 'the': 12,\n",
       " 'this': 13,\n",
       " 'to': 14,\n",
       " 'yes': 15}"
      ]
     },
     "execution_count": 5,
     "metadata": {},
     "output_type": "execute_result"
    }
   ],
   "source": [
    "from sklearn.feature_extraction.text import CountVectorizer\n",
    "\n",
    "twits = [\n",
    "    'This is amazing!',\n",
    "    'ML is the best, yes it is',\n",
    "    'I am not sure about how this is going to end...'\n",
    "]\n",
    "\n",
    "count = CountVectorizer()\n",
    "bag = count.fit_transform(twits)\n",
    "\n",
    "count.vocabulary_"
   ]
  },
  {
   "cell_type": "markdown",
   "metadata": {},
   "source": [
    "As we can see from executing the preceding command, the vocabulary is stored in a Python dictionary that maps the unique words to integer indices. Next, let's print the feature vectors that we just created:"
   ]
  },
  {
   "cell_type": "code",
   "execution_count": 3,
   "metadata": {},
   "outputs": [
    {
     "data": {
      "text/plain": [
       "array([[0, 0, 1, 0, 0, 0, 0, 1, 0, 0, 0, 0, 0, 1, 0, 0],\n",
       "       [0, 0, 0, 1, 0, 0, 0, 2, 1, 1, 0, 0, 1, 0, 0, 1],\n",
       "       [1, 1, 0, 0, 1, 1, 1, 1, 0, 0, 1, 1, 0, 1, 1, 0]], dtype=int64)"
      ]
     },
     "execution_count": 3,
     "metadata": {},
     "output_type": "execute_result"
    }
   ],
   "source": [
    "bag.toarray()"
   ]
  },
  {
   "cell_type": "code",
   "execution_count": 6,
   "metadata": {},
   "outputs": [
    {
     "data": {
      "text/plain": [
       "array([[0.  , 0.  , 0.72, 0.  , 0.  , 0.  , 0.  , 0.43, 0.  , 0.  , 0.  ,\n",
       "        0.  , 0.  , 0.55, 0.  , 0.  ],\n",
       "       [0.  , 0.  , 0.  , 0.4 , 0.  , 0.  , 0.  , 0.47, 0.4 , 0.4 , 0.  ,\n",
       "        0.  , 0.4 , 0.  , 0.  , 0.4 ],\n",
       "       [0.33, 0.33, 0.  , 0.  , 0.33, 0.33, 0.33, 0.2 , 0.  , 0.  , 0.33,\n",
       "        0.33, 0.  , 0.25, 0.33, 0.  ]])"
      ]
     },
     "execution_count": 6,
     "metadata": {},
     "output_type": "execute_result"
    }
   ],
   "source": [
    "import numpy as np\n",
    "\n",
    "from sklearn.feature_extraction.text import TfidfTransformer\n",
    "\n",
    "tfidf = TfidfTransformer(use_idf=True,\n",
    "                         norm='l2',\n",
    "                         smooth_idf=True)\n",
    "\n",
    "np.set_printoptions(precision=2)\n",
    "\n",
    "# Feed the tf-idf transformer with our previously created Bag of Words\n",
    "tfidf.fit_transform(bag).toarray()"
   ]
  },
  {
   "cell_type": "markdown",
   "metadata": {},
   "source": [
    "As you can see, words that appear in all documents like _is_ (with 0.47 ), get a lower score than others that don't appear in all documents, like _amazing_ (with 0.72).\n",
    "\n",
    "Note also that `norm='l2'` parameter: This is an important one, and what is doing is normalize the tf-idfs so that they're all in the same scale and thus work better with Logistic Regression."
   ]
  },
  {
   "cell_type": "markdown",
   "metadata": {},
   "source": [
    "## Data clean up (yay...)\n",
    "\n",
    "### Removing stop words\n",
    "\n",
    "Now that we know how to format and score our input, we can start doing the analysis! Can we?... Well, we _can_, but let's look at our **real** vocabulary. Specifically, the most common words:"
   ]
  },
  {
   "cell_type": "code",
   "execution_count": 7,
   "metadata": {},
   "outputs": [
    {
     "data": {
      "text/plain": [
       "[('the', 10687),\n",
       " ('and', 8971),\n",
       " ('a', 8059),\n",
       " ('of', 5022),\n",
       " ('in', 4585),\n",
       " ('to', 4581),\n",
       " ('with', 3050),\n",
       " ('add', 2494),\n",
       " ('for', 2449),\n",
       " ('until', 2298),\n",
       " ('minutes', 1997),\n",
       " ('on', 1512),\n",
       " ('or', 1454),\n",
       " ('into', 1402),\n",
       " ('heat', 1236),\n",
       " ('it', 1169),\n",
       " ('is', 1075),\n",
       " ('water', 1017),\n",
       " ('mixture', 948),\n",
       " ('over', 944)]"
      ]
     },
     "execution_count": 7,
     "metadata": {},
     "output_type": "execute_result"
    }
   ],
   "source": [
    "from collections import Counter\n",
    "\n",
    "vocab = Counter()\n",
    "for twit in train.recipedetails:\n",
    "    for word in twit.split(' '):\n",
    "        vocab[word] += 1\n",
    "\n",
    "vocab.most_common(20)"
   ]
  },
  {
   "cell_type": "markdown",
   "metadata": {},
   "source": [
    "As you can see, the most common words are meaningless in terms of sentiment: _I, to, the, and_... they don't give any information on positiveness or negativeness. They're basically **noise** that can most probably be eliminated. Let's see the whole distribution to convince ourselves of this:"
   ]
  },
  {
   "cell_type": "code",
   "execution_count": 8,
   "metadata": {},
   "outputs": [
    {
     "data": {
      "text/html": [
       "\n",
       "    <div class=\"bk-root\">\n",
       "        <a href=\"https://bokeh.pydata.org\" target=\"_blank\" class=\"bk-logo bk-logo-small bk-logo-notebook\"></a>\n",
       "        <span id=\"3f56cd9d-8a87-4069-9cec-69f642940ee3\">Loading BokehJS ...</span>\n",
       "    </div>"
      ]
     },
     "metadata": {},
     "output_type": "display_data"
    },
    {
     "data": {
      "application/javascript": [
       "\n",
       "(function(root) {\n",
       "  function now() {\n",
       "    return new Date();\n",
       "  }\n",
       "\n",
       "  var force = true;\n",
       "\n",
       "  if (typeof (root._bokeh_onload_callbacks) === \"undefined\" || force === true) {\n",
       "    root._bokeh_onload_callbacks = [];\n",
       "    root._bokeh_is_loading = undefined;\n",
       "  }\n",
       "\n",
       "  var JS_MIME_TYPE = 'application/javascript';\n",
       "  var HTML_MIME_TYPE = 'text/html';\n",
       "  var EXEC_MIME_TYPE = 'application/vnd.bokehjs_exec.v0+json';\n",
       "  var CLASS_NAME = 'output_bokeh rendered_html';\n",
       "\n",
       "  /**\n",
       "   * Render data to the DOM node\n",
       "   */\n",
       "  function render(props, node) {\n",
       "    var script = document.createElement(\"script\");\n",
       "    node.appendChild(script);\n",
       "  }\n",
       "\n",
       "  /**\n",
       "   * Handle when an output is cleared or removed\n",
       "   */\n",
       "  function handleClearOutput(event, handle) {\n",
       "    var cell = handle.cell;\n",
       "\n",
       "    var id = cell.output_area._bokeh_element_id;\n",
       "    var server_id = cell.output_area._bokeh_server_id;\n",
       "    // Clean up Bokeh references\n",
       "    if (id !== undefined) {\n",
       "      Bokeh.index[id].model.document.clear();\n",
       "      delete Bokeh.index[id];\n",
       "    }\n",
       "\n",
       "    if (server_id !== undefined) {\n",
       "      // Clean up Bokeh references\n",
       "      var cmd = \"from bokeh.io.state import curstate; print(curstate().uuid_to_server['\" + server_id + \"'].get_sessions()[0].document.roots[0]._id)\";\n",
       "      cell.notebook.kernel.execute(cmd, {\n",
       "        iopub: {\n",
       "          output: function(msg) {\n",
       "            var element_id = msg.content.text.trim();\n",
       "            Bokeh.index[element_id].model.document.clear();\n",
       "            delete Bokeh.index[element_id];\n",
       "          }\n",
       "        }\n",
       "      });\n",
       "      // Destroy server and session\n",
       "      var cmd = \"import bokeh.io.notebook as ion; ion.destroy_server('\" + server_id + \"')\";\n",
       "      cell.notebook.kernel.execute(cmd);\n",
       "    }\n",
       "  }\n",
       "\n",
       "  /**\n",
       "   * Handle when a new output is added\n",
       "   */\n",
       "  function handleAddOutput(event, handle) {\n",
       "    var output_area = handle.output_area;\n",
       "    var output = handle.output;\n",
       "\n",
       "    // limit handleAddOutput to display_data with EXEC_MIME_TYPE content only\n",
       "    if ((output.output_type != \"display_data\") || (!output.data.hasOwnProperty(EXEC_MIME_TYPE))) {\n",
       "      return\n",
       "    }\n",
       "\n",
       "    var toinsert = output_area.element.find(`.${CLASS_NAME.split(' ')[0]}`);\n",
       "\n",
       "    if (output.metadata[EXEC_MIME_TYPE][\"id\"] !== undefined) {\n",
       "      toinsert[0].firstChild.textContent = output.data[JS_MIME_TYPE];\n",
       "      // store reference to embed id on output_area\n",
       "      output_area._bokeh_element_id = output.metadata[EXEC_MIME_TYPE][\"id\"];\n",
       "    }\n",
       "    if (output.metadata[EXEC_MIME_TYPE][\"server_id\"] !== undefined) {\n",
       "      var bk_div = document.createElement(\"div\");\n",
       "      bk_div.innerHTML = output.data[HTML_MIME_TYPE];\n",
       "      var script_attrs = bk_div.children[0].attributes;\n",
       "      for (var i = 0; i < script_attrs.length; i++) {\n",
       "        toinsert[0].firstChild.setAttribute(script_attrs[i].name, script_attrs[i].value);\n",
       "      }\n",
       "      // store reference to server id on output_area\n",
       "      output_area._bokeh_server_id = output.metadata[EXEC_MIME_TYPE][\"server_id\"];\n",
       "    }\n",
       "  }\n",
       "\n",
       "  function register_renderer(events, OutputArea) {\n",
       "\n",
       "    function append_mime(data, metadata, element) {\n",
       "      // create a DOM node to render to\n",
       "      var toinsert = this.create_output_subarea(\n",
       "        metadata,\n",
       "        CLASS_NAME,\n",
       "        EXEC_MIME_TYPE\n",
       "      );\n",
       "      this.keyboard_manager.register_events(toinsert);\n",
       "      // Render to node\n",
       "      var props = {data: data, metadata: metadata[EXEC_MIME_TYPE]};\n",
       "      render(props, toinsert[0]);\n",
       "      element.append(toinsert);\n",
       "      return toinsert\n",
       "    }\n",
       "\n",
       "    /* Handle when an output is cleared or removed */\n",
       "    events.on('clear_output.CodeCell', handleClearOutput);\n",
       "    events.on('delete.Cell', handleClearOutput);\n",
       "\n",
       "    /* Handle when a new output is added */\n",
       "    events.on('output_added.OutputArea', handleAddOutput);\n",
       "\n",
       "    /**\n",
       "     * Register the mime type and append_mime function with output_area\n",
       "     */\n",
       "    OutputArea.prototype.register_mime_type(EXEC_MIME_TYPE, append_mime, {\n",
       "      /* Is output safe? */\n",
       "      safe: true,\n",
       "      /* Index of renderer in `output_area.display_order` */\n",
       "      index: 0\n",
       "    });\n",
       "  }\n",
       "\n",
       "  // register the mime type if in Jupyter Notebook environment and previously unregistered\n",
       "  if (root.Jupyter !== undefined) {\n",
       "    var events = require('base/js/events');\n",
       "    var OutputArea = require('notebook/js/outputarea').OutputArea;\n",
       "\n",
       "    if (OutputArea.prototype.mime_types().indexOf(EXEC_MIME_TYPE) == -1) {\n",
       "      register_renderer(events, OutputArea);\n",
       "    }\n",
       "  }\n",
       "\n",
       "  \n",
       "  if (typeof (root._bokeh_timeout) === \"undefined\" || force === true) {\n",
       "    root._bokeh_timeout = Date.now() + 5000;\n",
       "    root._bokeh_failed_load = false;\n",
       "  }\n",
       "\n",
       "  var NB_LOAD_WARNING = {'data': {'text/html':\n",
       "     \"<div style='background-color: #fdd'>\\n\"+\n",
       "     \"<p>\\n\"+\n",
       "     \"BokehJS does not appear to have successfully loaded. If loading BokehJS from CDN, this \\n\"+\n",
       "     \"may be due to a slow or bad network connection. Possible fixes:\\n\"+\n",
       "     \"</p>\\n\"+\n",
       "     \"<ul>\\n\"+\n",
       "     \"<li>re-rerun `output_notebook()` to attempt to load from CDN again, or</li>\\n\"+\n",
       "     \"<li>use INLINE resources instead, as so:</li>\\n\"+\n",
       "     \"</ul>\\n\"+\n",
       "     \"<code>\\n\"+\n",
       "     \"from bokeh.resources import INLINE\\n\"+\n",
       "     \"output_notebook(resources=INLINE)\\n\"+\n",
       "     \"</code>\\n\"+\n",
       "     \"</div>\"}};\n",
       "\n",
       "  function display_loaded() {\n",
       "    var el = document.getElementById(\"3f56cd9d-8a87-4069-9cec-69f642940ee3\");\n",
       "    if (el != null) {\n",
       "      el.textContent = \"BokehJS is loading...\";\n",
       "    }\n",
       "    if (root.Bokeh !== undefined) {\n",
       "      if (el != null) {\n",
       "        el.textContent = \"BokehJS \" + root.Bokeh.version + \" successfully loaded.\";\n",
       "      }\n",
       "    } else if (Date.now() < root._bokeh_timeout) {\n",
       "      setTimeout(display_loaded, 100)\n",
       "    }\n",
       "  }\n",
       "\n",
       "\n",
       "  function run_callbacks() {\n",
       "    try {\n",
       "      root._bokeh_onload_callbacks.forEach(function(callback) { callback() });\n",
       "    }\n",
       "    finally {\n",
       "      delete root._bokeh_onload_callbacks\n",
       "    }\n",
       "    console.info(\"Bokeh: all callbacks have finished\");\n",
       "  }\n",
       "\n",
       "  function load_libs(js_urls, callback) {\n",
       "    root._bokeh_onload_callbacks.push(callback);\n",
       "    if (root._bokeh_is_loading > 0) {\n",
       "      console.log(\"Bokeh: BokehJS is being loaded, scheduling callback at\", now());\n",
       "      return null;\n",
       "    }\n",
       "    if (js_urls == null || js_urls.length === 0) {\n",
       "      run_callbacks();\n",
       "      return null;\n",
       "    }\n",
       "    console.log(\"Bokeh: BokehJS not loaded, scheduling load and callback at\", now());\n",
       "    root._bokeh_is_loading = js_urls.length;\n",
       "    for (var i = 0; i < js_urls.length; i++) {\n",
       "      var url = js_urls[i];\n",
       "      var s = document.createElement('script');\n",
       "      s.src = url;\n",
       "      s.async = false;\n",
       "      s.onreadystatechange = s.onload = function() {\n",
       "        root._bokeh_is_loading--;\n",
       "        if (root._bokeh_is_loading === 0) {\n",
       "          console.log(\"Bokeh: all BokehJS libraries loaded\");\n",
       "          run_callbacks()\n",
       "        }\n",
       "      };\n",
       "      s.onerror = function() {\n",
       "        console.warn(\"failed to load library \" + url);\n",
       "      };\n",
       "      console.log(\"Bokeh: injecting script tag for BokehJS library: \", url);\n",
       "      document.getElementsByTagName(\"head\")[0].appendChild(s);\n",
       "    }\n",
       "  };var element = document.getElementById(\"3f56cd9d-8a87-4069-9cec-69f642940ee3\");\n",
       "  if (element == null) {\n",
       "    console.log(\"Bokeh: ERROR: autoload.js configured with elementid '3f56cd9d-8a87-4069-9cec-69f642940ee3' but no matching script tag was found. \")\n",
       "    return false;\n",
       "  }\n",
       "\n",
       "  var js_urls = [\"https://cdn.pydata.org/bokeh/release/bokeh-0.12.10.min.js\", \"https://cdn.pydata.org/bokeh/release/bokeh-widgets-0.12.10.min.js\", \"https://cdn.pydata.org/bokeh/release/bokeh-tables-0.12.10.min.js\", \"https://cdn.pydata.org/bokeh/release/bokeh-gl-0.12.10.min.js\"];\n",
       "\n",
       "  var inline_js = [\n",
       "    function(Bokeh) {\n",
       "      Bokeh.set_log_level(\"info\");\n",
       "    },\n",
       "    \n",
       "    function(Bokeh) {\n",
       "      \n",
       "    },\n",
       "    function(Bokeh) {\n",
       "      console.log(\"Bokeh: injecting CSS: https://cdn.pydata.org/bokeh/release/bokeh-0.12.10.min.css\");\n",
       "      Bokeh.embed.inject_css(\"https://cdn.pydata.org/bokeh/release/bokeh-0.12.10.min.css\");\n",
       "      console.log(\"Bokeh: injecting CSS: https://cdn.pydata.org/bokeh/release/bokeh-widgets-0.12.10.min.css\");\n",
       "      Bokeh.embed.inject_css(\"https://cdn.pydata.org/bokeh/release/bokeh-widgets-0.12.10.min.css\");\n",
       "      console.log(\"Bokeh: injecting CSS: https://cdn.pydata.org/bokeh/release/bokeh-tables-0.12.10.min.css\");\n",
       "      Bokeh.embed.inject_css(\"https://cdn.pydata.org/bokeh/release/bokeh-tables-0.12.10.min.css\");\n",
       "    }\n",
       "  ];\n",
       "\n",
       "  function run_inline_js() {\n",
       "    \n",
       "    if ((root.Bokeh !== undefined) || (force === true)) {\n",
       "      for (var i = 0; i < inline_js.length; i++) {\n",
       "        inline_js[i].call(root, root.Bokeh);\n",
       "      }if (force === true) {\n",
       "        display_loaded();\n",
       "      }} else if (Date.now() < root._bokeh_timeout) {\n",
       "      setTimeout(run_inline_js, 100);\n",
       "    } else if (!root._bokeh_failed_load) {\n",
       "      console.log(\"Bokeh: BokehJS failed to load within specified timeout.\");\n",
       "      root._bokeh_failed_load = true;\n",
       "    } else if (force !== true) {\n",
       "      var cell = $(document.getElementById(\"3f56cd9d-8a87-4069-9cec-69f642940ee3\")).parents('.cell').data().cell;\n",
       "      cell.output_area.append_execute_result(NB_LOAD_WARNING)\n",
       "    }\n",
       "\n",
       "  }\n",
       "\n",
       "  if (root._bokeh_is_loading === 0) {\n",
       "    console.log(\"Bokeh: BokehJS loaded, going straight to plotting\");\n",
       "    run_inline_js();\n",
       "  } else {\n",
       "    load_libs(js_urls, function() {\n",
       "      console.log(\"Bokeh: BokehJS plotting callback run at\", now());\n",
       "      run_inline_js();\n",
       "    });\n",
       "  }\n",
       "}(window));"
      ],
      "application/vnd.bokehjs_load.v0+json": "\n(function(root) {\n  function now() {\n    return new Date();\n  }\n\n  var force = true;\n\n  if (typeof (root._bokeh_onload_callbacks) === \"undefined\" || force === true) {\n    root._bokeh_onload_callbacks = [];\n    root._bokeh_is_loading = undefined;\n  }\n\n  \n\n  \n  if (typeof (root._bokeh_timeout) === \"undefined\" || force === true) {\n    root._bokeh_timeout = Date.now() + 5000;\n    root._bokeh_failed_load = false;\n  }\n\n  var NB_LOAD_WARNING = {'data': {'text/html':\n     \"<div style='background-color: #fdd'>\\n\"+\n     \"<p>\\n\"+\n     \"BokehJS does not appear to have successfully loaded. If loading BokehJS from CDN, this \\n\"+\n     \"may be due to a slow or bad network connection. Possible fixes:\\n\"+\n     \"</p>\\n\"+\n     \"<ul>\\n\"+\n     \"<li>re-rerun `output_notebook()` to attempt to load from CDN again, or</li>\\n\"+\n     \"<li>use INLINE resources instead, as so:</li>\\n\"+\n     \"</ul>\\n\"+\n     \"<code>\\n\"+\n     \"from bokeh.resources import INLINE\\n\"+\n     \"output_notebook(resources=INLINE)\\n\"+\n     \"</code>\\n\"+\n     \"</div>\"}};\n\n  function display_loaded() {\n    var el = document.getElementById(\"3f56cd9d-8a87-4069-9cec-69f642940ee3\");\n    if (el != null) {\n      el.textContent = \"BokehJS is loading...\";\n    }\n    if (root.Bokeh !== undefined) {\n      if (el != null) {\n        el.textContent = \"BokehJS \" + root.Bokeh.version + \" successfully loaded.\";\n      }\n    } else if (Date.now() < root._bokeh_timeout) {\n      setTimeout(display_loaded, 100)\n    }\n  }\n\n\n  function run_callbacks() {\n    try {\n      root._bokeh_onload_callbacks.forEach(function(callback) { callback() });\n    }\n    finally {\n      delete root._bokeh_onload_callbacks\n    }\n    console.info(\"Bokeh: all callbacks have finished\");\n  }\n\n  function load_libs(js_urls, callback) {\n    root._bokeh_onload_callbacks.push(callback);\n    if (root._bokeh_is_loading > 0) {\n      console.log(\"Bokeh: BokehJS is being loaded, scheduling callback at\", now());\n      return null;\n    }\n    if (js_urls == null || js_urls.length === 0) {\n      run_callbacks();\n      return null;\n    }\n    console.log(\"Bokeh: BokehJS not loaded, scheduling load and callback at\", now());\n    root._bokeh_is_loading = js_urls.length;\n    for (var i = 0; i < js_urls.length; i++) {\n      var url = js_urls[i];\n      var s = document.createElement('script');\n      s.src = url;\n      s.async = false;\n      s.onreadystatechange = s.onload = function() {\n        root._bokeh_is_loading--;\n        if (root._bokeh_is_loading === 0) {\n          console.log(\"Bokeh: all BokehJS libraries loaded\");\n          run_callbacks()\n        }\n      };\n      s.onerror = function() {\n        console.warn(\"failed to load library \" + url);\n      };\n      console.log(\"Bokeh: injecting script tag for BokehJS library: \", url);\n      document.getElementsByTagName(\"head\")[0].appendChild(s);\n    }\n  };var element = document.getElementById(\"3f56cd9d-8a87-4069-9cec-69f642940ee3\");\n  if (element == null) {\n    console.log(\"Bokeh: ERROR: autoload.js configured with elementid '3f56cd9d-8a87-4069-9cec-69f642940ee3' but no matching script tag was found. \")\n    return false;\n  }\n\n  var js_urls = [\"https://cdn.pydata.org/bokeh/release/bokeh-0.12.10.min.js\", \"https://cdn.pydata.org/bokeh/release/bokeh-widgets-0.12.10.min.js\", \"https://cdn.pydata.org/bokeh/release/bokeh-tables-0.12.10.min.js\", \"https://cdn.pydata.org/bokeh/release/bokeh-gl-0.12.10.min.js\"];\n\n  var inline_js = [\n    function(Bokeh) {\n      Bokeh.set_log_level(\"info\");\n    },\n    \n    function(Bokeh) {\n      \n    },\n    function(Bokeh) {\n      console.log(\"Bokeh: injecting CSS: https://cdn.pydata.org/bokeh/release/bokeh-0.12.10.min.css\");\n      Bokeh.embed.inject_css(\"https://cdn.pydata.org/bokeh/release/bokeh-0.12.10.min.css\");\n      console.log(\"Bokeh: injecting CSS: https://cdn.pydata.org/bokeh/release/bokeh-widgets-0.12.10.min.css\");\n      Bokeh.embed.inject_css(\"https://cdn.pydata.org/bokeh/release/bokeh-widgets-0.12.10.min.css\");\n      console.log(\"Bokeh: injecting CSS: https://cdn.pydata.org/bokeh/release/bokeh-tables-0.12.10.min.css\");\n      Bokeh.embed.inject_css(\"https://cdn.pydata.org/bokeh/release/bokeh-tables-0.12.10.min.css\");\n    }\n  ];\n\n  function run_inline_js() {\n    \n    if ((root.Bokeh !== undefined) || (force === true)) {\n      for (var i = 0; i < inline_js.length; i++) {\n        inline_js[i].call(root, root.Bokeh);\n      }if (force === true) {\n        display_loaded();\n      }} else if (Date.now() < root._bokeh_timeout) {\n      setTimeout(run_inline_js, 100);\n    } else if (!root._bokeh_failed_load) {\n      console.log(\"Bokeh: BokehJS failed to load within specified timeout.\");\n      root._bokeh_failed_load = true;\n    } else if (force !== true) {\n      var cell = $(document.getElementById(\"3f56cd9d-8a87-4069-9cec-69f642940ee3\")).parents('.cell').data().cell;\n      cell.output_area.append_execute_result(NB_LOAD_WARNING)\n    }\n\n  }\n\n  if (root._bokeh_is_loading === 0) {\n    console.log(\"Bokeh: BokehJS loaded, going straight to plotting\");\n    run_inline_js();\n  } else {\n    load_libs(js_urls, function() {\n      console.log(\"Bokeh: BokehJS plotting callback run at\", now());\n      run_inline_js();\n    });\n  }\n}(window));"
     },
     "metadata": {},
     "output_type": "display_data"
    }
   ],
   "source": [
    "from bokeh.models import ColumnDataSource, LabelSet\n",
    "from bokeh.plotting import figure, show, output_file\n",
    "from bokeh.io import output_notebook\n",
    "output_notebook()"
   ]
  },
  {
   "cell_type": "code",
   "execution_count": 9,
   "metadata": {},
   "outputs": [
    {
     "data": {
      "text/html": [
       "\n",
       "<div class=\"bk-root\">\n",
       "    <div class=\"bk-plotdiv\" id=\"d796650d-a47e-4e21-9088-a421a073f850\"></div>\n",
       "</div>"
      ]
     },
     "metadata": {},
     "output_type": "display_data"
    },
    {
     "data": {
      "application/javascript": [
       "(function(root) {\n",
       "  function embed_document(root) {\n",
       "    var docs_json = {\"39e21b98-7696-4d7e-90e3-c54ad201f566\":{\"roots\":{\"references\":[{\"attributes\":{},\"id\":\"8cc24759-271f-4b15-80be-1030a4f109a1\",\"type\":\"ResetTool\"},{\"attributes\":{},\"id\":\"d1d46a69-810e-4deb-9048-24ba79fc2214\",\"type\":\"WheelZoomTool\"},{\"attributes\":{},\"id\":\"d779bde7-eb45-4d5a-be79-ee5764199b6a\",\"type\":\"BasicTicker\"},{\"attributes\":{\"bottom\":{\"value\":0},\"fill_alpha\":{\"value\":0.1},\"fill_color\":{\"value\":\"#1f77b4\"},\"left\":{\"field\":\"left\"},\"line_alpha\":{\"value\":0.1},\"line_color\":{\"value\":\"#1f77b4\"},\"right\":{\"field\":\"right\"},\"top\":{\"field\":\"top\"}},\"id\":\"e9f7519d-8e69-4c85-bd44-134bd98928fd\",\"type\":\"Quad\"},{\"attributes\":{\"plot\":null,\"text\":\"Word distribution accross all twits\"},\"id\":\"59f75518-7b2f-4636-8c66-e96a8561d319\",\"type\":\"Title\"},{\"attributes\":{\"below\":[{\"id\":\"cd1a898b-825e-4ffb-801b-d2750b5ea81a\",\"type\":\"LinearAxis\"}],\"left\":[{\"id\":\"fee6fc15-72c0-4107-9eed-80c0661566a0\",\"type\":\"LinearAxis\"}],\"renderers\":[{\"id\":\"cd1a898b-825e-4ffb-801b-d2750b5ea81a\",\"type\":\"LinearAxis\"},{\"id\":\"23da9750-90ee-44b8-aa7e-5e939537b0be\",\"type\":\"Grid\"},{\"id\":\"fee6fc15-72c0-4107-9eed-80c0661566a0\",\"type\":\"LinearAxis\"},{\"id\":\"7ae18492-95a9-45b9-a7a7-ba9fabee59c4\",\"type\":\"Grid\"},{\"id\":\"62197bf0-b5da-4ead-afeb-a1011fbdb748\",\"type\":\"GlyphRenderer\"}],\"title\":{\"id\":\"59f75518-7b2f-4636-8c66-e96a8561d319\",\"type\":\"Title\"},\"toolbar\":{\"id\":\"b76489a6-152a-46d0-908d-34d1f719e75a\",\"type\":\"Toolbar\"},\"toolbar_location\":\"above\",\"x_range\":{\"id\":\"5fa9078b-6b04-42a8-8888-9583b01fe33d\",\"type\":\"DataRange1d\"},\"x_scale\":{\"id\":\"c4ff4d68-4e85-48f7-afff-4237e95c96b1\",\"type\":\"LinearScale\"},\"y_range\":{\"id\":\"cd48227b-47aa-42ff-84c4-5cbb912ff104\",\"type\":\"DataRange1d\"},\"y_scale\":{\"id\":\"90a48762-d38c-4104-a731-7a1d0c966303\",\"type\":\"LinearScale\"}},\"id\":\"b747318f-6f93-4f50-9ccd-c638171ef4ee\",\"subtype\":\"Figure\",\"type\":\"Plot\"},{\"attributes\":{},\"id\":\"5d0d534e-fd82-4f72-b87e-88a80f4379ac\",\"type\":\"BasicTickFormatter\"},{\"attributes\":{\"formatter\":{\"id\":\"5d0d534e-fd82-4f72-b87e-88a80f4379ac\",\"type\":\"BasicTickFormatter\"},\"plot\":{\"id\":\"b747318f-6f93-4f50-9ccd-c638171ef4ee\",\"subtype\":\"Figure\",\"type\":\"Plot\"},\"ticker\":{\"id\":\"d779bde7-eb45-4d5a-be79-ee5764199b6a\",\"type\":\"BasicTicker\"}},\"id\":\"cd1a898b-825e-4ffb-801b-d2750b5ea81a\",\"type\":\"LinearAxis\"},{\"attributes\":{\"active_drag\":\"auto\",\"active_inspect\":\"auto\",\"active_scroll\":\"auto\",\"active_tap\":\"auto\",\"tools\":[{\"id\":\"29f1950a-65b6-498b-8bb6-02490b6d4fb1\",\"type\":\"PanTool\"},{\"id\":\"d1d46a69-810e-4deb-9048-24ba79fc2214\",\"type\":\"WheelZoomTool\"},{\"id\":\"8cc24759-271f-4b15-80be-1030a4f109a1\",\"type\":\"ResetTool\"},{\"id\":\"d12476fe-4459-448a-b081-ab1b7ecadc1d\",\"type\":\"SaveTool\"}]},\"id\":\"b76489a6-152a-46d0-908d-34d1f719e75a\",\"type\":\"Toolbar\"},{\"attributes\":{\"bottom\":{\"value\":0},\"fill_color\":{\"value\":\"#1f77b4\"},\"left\":{\"field\":\"left\"},\"line_color\":{\"value\":\"#555555\"},\"right\":{\"field\":\"right\"},\"top\":{\"field\":\"top\"}},\"id\":\"75fbf805-26dd-43a4-9df9-6b897d98b56a\",\"type\":\"Quad\"},{\"attributes\":{},\"id\":\"90a48762-d38c-4104-a731-7a1d0c966303\",\"type\":\"LinearScale\"},{\"attributes\":{},\"id\":\"d12476fe-4459-448a-b081-ab1b7ecadc1d\",\"type\":\"SaveTool\"},{\"attributes\":{\"callback\":null,\"column_names\":[\"left\",\"right\",\"top\"],\"data\":{\"left\":{\"__ndarray__\":\"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\",\"dtype\":\"float64\",\"shape\":[500]},\"right\":{\"__ndarray__\":\"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\",\"dtype\":\"float64\",\"shape\":[500]},\"top\":{\"__ndarray__\":\"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\",\"dtype\":\"float64\",\"shape\":[500]}}},\"id\":\"b5babeb4-099a-4aac-a00e-9c91d56b1435\",\"type\":\"ColumnDataSource\"},{\"attributes\":{\"callback\":null},\"id\":\"cd48227b-47aa-42ff-84c4-5cbb912ff104\",\"type\":\"DataRange1d\"},{\"attributes\":{\"source\":{\"id\":\"b5babeb4-099a-4aac-a00e-9c91d56b1435\",\"type\":\"ColumnDataSource\"}},\"id\":\"0ed88a76-857c-41a9-9675-daa921b06e87\",\"type\":\"CDSView\"},{\"attributes\":{},\"id\":\"6d2e779e-40a9-404b-bcf2-c08e78f009a3\",\"type\":\"BasicTickFormatter\"},{\"attributes\":{},\"id\":\"5ce18de3-5aff-4433-92a9-b5b15fb0b0b8\",\"type\":\"BasicTicker\"},{\"attributes\":{\"formatter\":{\"id\":\"6d2e779e-40a9-404b-bcf2-c08e78f009a3\",\"type\":\"BasicTickFormatter\"},\"plot\":{\"id\":\"b747318f-6f93-4f50-9ccd-c638171ef4ee\",\"subtype\":\"Figure\",\"type\":\"Plot\"},\"ticker\":{\"id\":\"5ce18de3-5aff-4433-92a9-b5b15fb0b0b8\",\"type\":\"BasicTicker\"}},\"id\":\"fee6fc15-72c0-4107-9eed-80c0661566a0\",\"type\":\"LinearAxis\"},{\"attributes\":{},\"id\":\"c4ff4d68-4e85-48f7-afff-4237e95c96b1\",\"type\":\"LinearScale\"},{\"attributes\":{},\"id\":\"29f1950a-65b6-498b-8bb6-02490b6d4fb1\",\"type\":\"PanTool\"},{\"attributes\":{\"callback\":null},\"id\":\"5fa9078b-6b04-42a8-8888-9583b01fe33d\",\"type\":\"DataRange1d\"},{\"attributes\":{\"dimension\":1,\"plot\":{\"id\":\"b747318f-6f93-4f50-9ccd-c638171ef4ee\",\"subtype\":\"Figure\",\"type\":\"Plot\"},\"ticker\":{\"id\":\"5ce18de3-5aff-4433-92a9-b5b15fb0b0b8\",\"type\":\"BasicTicker\"}},\"id\":\"7ae18492-95a9-45b9-a7a7-ba9fabee59c4\",\"type\":\"Grid\"},{\"attributes\":{\"plot\":{\"id\":\"b747318f-6f93-4f50-9ccd-c638171ef4ee\",\"subtype\":\"Figure\",\"type\":\"Plot\"},\"ticker\":{\"id\":\"d779bde7-eb45-4d5a-be79-ee5764199b6a\",\"type\":\"BasicTicker\"}},\"id\":\"23da9750-90ee-44b8-aa7e-5e939537b0be\",\"type\":\"Grid\"},{\"attributes\":{\"data_source\":{\"id\":\"b5babeb4-099a-4aac-a00e-9c91d56b1435\",\"type\":\"ColumnDataSource\"},\"glyph\":{\"id\":\"75fbf805-26dd-43a4-9df9-6b897d98b56a\",\"type\":\"Quad\"},\"hover_glyph\":null,\"muted_glyph\":null,\"nonselection_glyph\":{\"id\":\"e9f7519d-8e69-4c85-bd44-134bd98928fd\",\"type\":\"Quad\"},\"selection_glyph\":null,\"view\":{\"id\":\"0ed88a76-857c-41a9-9675-daa921b06e87\",\"type\":\"CDSView\"}},\"id\":\"62197bf0-b5da-4ead-afeb-a1011fbdb748\",\"type\":\"GlyphRenderer\"}],\"root_ids\":[\"b747318f-6f93-4f50-9ccd-c638171ef4ee\"]},\"title\":\"Bokeh Application\",\"version\":\"0.12.10\"}};\n",
       "    var render_items = [{\"docid\":\"39e21b98-7696-4d7e-90e3-c54ad201f566\",\"elementid\":\"d796650d-a47e-4e21-9088-a421a073f850\",\"modelid\":\"b747318f-6f93-4f50-9ccd-c638171ef4ee\"}];\n",
       "\n",
       "    root.Bokeh.embed.embed_items(docs_json, render_items);\n",
       "  }\n",
       "\n",
       "  if (root.Bokeh !== undefined) {\n",
       "    embed_document(root);\n",
       "  } else {\n",
       "    var attempts = 0;\n",
       "    var timer = setInterval(function(root) {\n",
       "      if (root.Bokeh !== undefined) {\n",
       "        embed_document(root);\n",
       "        clearInterval(timer);\n",
       "      }\n",
       "      attempts++;\n",
       "      if (attempts > 100) {\n",
       "        console.log(\"Bokeh: ERROR: Unable to embed document because BokehJS library is missing\")\n",
       "        clearInterval(timer);\n",
       "      }\n",
       "    }, 10, root)\n",
       "  }\n",
       "})(window);"
      ],
      "application/vnd.bokehjs_exec.v0+json": ""
     },
     "metadata": {
      "application/vnd.bokehjs_exec.v0+json": {
       "id": "b747318f-6f93-4f50-9ccd-c638171ef4ee"
      }
     },
     "output_type": "display_data"
    }
   ],
   "source": [
    "import math\n",
    "\n",
    "def plot_distribution(vocabulary):\n",
    "\n",
    "    hist, edges = np.histogram(list(map(lambda x:math.log(x[1]),vocabulary.most_common())), density=True, bins=500)\n",
    "\n",
    "    p = figure(tools=\"pan,wheel_zoom,reset,save\",\n",
    "               toolbar_location=\"above\",\n",
    "               title=\"Word distribution accross all twits\")\n",
    "    p.quad(top=hist, bottom=0, left=edges[:-1], right=edges[1:], line_color=\"#555555\", )\n",
    "    show(p)\n",
    "\n",
    "plot_distribution(vocab)"
   ]
  },
  {
   "cell_type": "markdown",
   "metadata": {},
   "source": [
    "It's clear now that a porcion of the words are overly represented. These kind of words are called _stop words_, and it is a common practice to remove them when doing text analysis. Let's do it and see the distribution again:"
   ]
  },
  {
   "cell_type": "code",
   "execution_count": 10,
   "metadata": {},
   "outputs": [
    {
     "name": "stdout",
     "output_type": "stream",
     "text": [
      "[nltk_data] Downloading package stopwords to\n",
      "[nltk_data]     /export/home/ehsan/nltk_data...\n",
      "[nltk_data]   Package stopwords is already up-to-date!\n"
     ]
    },
    {
     "data": {
      "text/plain": [
       "True"
      ]
     },
     "execution_count": 10,
     "metadata": {},
     "output_type": "execute_result"
    }
   ],
   "source": [
    "import nltk\n",
    "\n",
    "nltk.download('stopwords')"
   ]
  },
  {
   "cell_type": "code",
   "execution_count": 11,
   "metadata": {},
   "outputs": [
    {
     "data": {
      "text/plain": [
       "[('add', 2494),\n",
       " ('minutes', 1997),\n",
       " ('heat', 1236),\n",
       " ('water', 1017),\n",
       " ('mixture', 948),\n",
       " ('bowl', 943),\n",
       " ('pan', 930),\n",
       " ('mix', 915),\n",
       " ('oil', 874),\n",
       " ('place', 848),\n",
       " ('cook', 775),\n",
       " ('oven', 766),\n",
       " ('dough', 761),\n",
       " ('stir', 759),\n",
       " ('sugar', 747),\n",
       " ('salt', 746),\n",
       " ('remove', 685),\n",
       " ('butter', 679),\n",
       " ('large', 665),\n",
       " ('well', 641)]"
      ]
     },
     "execution_count": 11,
     "metadata": {},
     "output_type": "execute_result"
    }
   ],
   "source": [
    "from nltk.corpus import stopwords\n",
    "stop = stopwords.words('english')\n",
    "\n",
    "vocab_reduced = Counter()\n",
    "for w, c in vocab.items():\n",
    "    if not w in stop:\n",
    "        vocab_reduced[w]=c\n",
    "\n",
    "vocab_reduced.most_common(20)"
   ]
  },
  {
   "cell_type": "code",
   "execution_count": 12,
   "metadata": {},
   "outputs": [
    {
     "data": {
      "text/plain": [
       "['i',\n",
       " 'me',\n",
       " 'my',\n",
       " 'myself',\n",
       " 'we',\n",
       " 'our',\n",
       " 'ours',\n",
       " 'ourselves',\n",
       " 'you',\n",
       " \"you're\",\n",
       " \"you've\",\n",
       " \"you'll\",\n",
       " \"you'd\",\n",
       " 'your',\n",
       " 'yours',\n",
       " 'yourself',\n",
       " 'yourselves',\n",
       " 'he',\n",
       " 'him',\n",
       " 'his',\n",
       " 'himself',\n",
       " 'she',\n",
       " \"she's\",\n",
       " 'her',\n",
       " 'hers',\n",
       " 'herself',\n",
       " 'it',\n",
       " \"it's\",\n",
       " 'its',\n",
       " 'itself',\n",
       " 'they',\n",
       " 'them',\n",
       " 'their',\n",
       " 'theirs',\n",
       " 'themselves',\n",
       " 'what',\n",
       " 'which',\n",
       " 'who',\n",
       " 'whom',\n",
       " 'this',\n",
       " 'that',\n",
       " \"that'll\",\n",
       " 'these',\n",
       " 'those',\n",
       " 'am',\n",
       " 'is',\n",
       " 'are',\n",
       " 'was',\n",
       " 'were',\n",
       " 'be',\n",
       " 'been',\n",
       " 'being',\n",
       " 'have',\n",
       " 'has',\n",
       " 'had',\n",
       " 'having',\n",
       " 'do',\n",
       " 'does',\n",
       " 'did',\n",
       " 'doing',\n",
       " 'a',\n",
       " 'an',\n",
       " 'the',\n",
       " 'and',\n",
       " 'but',\n",
       " 'if',\n",
       " 'or',\n",
       " 'because',\n",
       " 'as',\n",
       " 'until',\n",
       " 'while',\n",
       " 'of',\n",
       " 'at',\n",
       " 'by',\n",
       " 'for',\n",
       " 'with',\n",
       " 'about',\n",
       " 'against',\n",
       " 'between',\n",
       " 'into',\n",
       " 'through',\n",
       " 'during',\n",
       " 'before',\n",
       " 'after',\n",
       " 'above',\n",
       " 'below',\n",
       " 'to',\n",
       " 'from',\n",
       " 'up',\n",
       " 'down',\n",
       " 'in',\n",
       " 'out',\n",
       " 'on',\n",
       " 'off',\n",
       " 'over',\n",
       " 'under',\n",
       " 'again',\n",
       " 'further',\n",
       " 'then',\n",
       " 'once',\n",
       " 'here',\n",
       " 'there',\n",
       " 'when',\n",
       " 'where',\n",
       " 'why',\n",
       " 'how',\n",
       " 'all',\n",
       " 'any',\n",
       " 'both',\n",
       " 'each',\n",
       " 'few',\n",
       " 'more',\n",
       " 'most',\n",
       " 'other',\n",
       " 'some',\n",
       " 'such',\n",
       " 'no',\n",
       " 'nor',\n",
       " 'not',\n",
       " 'only',\n",
       " 'own',\n",
       " 'same',\n",
       " 'so',\n",
       " 'than',\n",
       " 'too',\n",
       " 'very',\n",
       " 's',\n",
       " 't',\n",
       " 'can',\n",
       " 'will',\n",
       " 'just',\n",
       " 'don',\n",
       " \"don't\",\n",
       " 'should',\n",
       " \"should've\",\n",
       " 'now',\n",
       " 'd',\n",
       " 'll',\n",
       " 'm',\n",
       " 'o',\n",
       " 're',\n",
       " 've',\n",
       " 'y',\n",
       " 'ain',\n",
       " 'aren',\n",
       " \"aren't\",\n",
       " 'couldn',\n",
       " \"couldn't\",\n",
       " 'didn',\n",
       " \"didn't\",\n",
       " 'doesn',\n",
       " \"doesn't\",\n",
       " 'hadn',\n",
       " \"hadn't\",\n",
       " 'hasn',\n",
       " \"hasn't\",\n",
       " 'haven',\n",
       " \"haven't\",\n",
       " 'isn',\n",
       " \"isn't\",\n",
       " 'ma',\n",
       " 'mightn',\n",
       " \"mightn't\",\n",
       " 'mustn',\n",
       " \"mustn't\",\n",
       " 'needn',\n",
       " \"needn't\",\n",
       " 'shan',\n",
       " \"shan't\",\n",
       " 'shouldn',\n",
       " \"shouldn't\",\n",
       " 'wasn',\n",
       " \"wasn't\",\n",
       " 'weren',\n",
       " \"weren't\",\n",
       " 'won',\n",
       " \"won't\",\n",
       " 'wouldn',\n",
       " \"wouldn't\"]"
      ]
     },
     "execution_count": 12,
     "metadata": {},
     "output_type": "execute_result"
    }
   ],
   "source": [
    "stop"
   ]
  },
  {
   "cell_type": "markdown",
   "metadata": {},
   "source": [
    "This looks better, only in the 20 most common words we already see words that make sense: _good, love, really_... Let's see the distribution now"
   ]
  },
  {
   "cell_type": "code",
   "execution_count": 13,
   "metadata": {},
   "outputs": [
    {
     "data": {
      "text/html": [
       "\n",
       "<div class=\"bk-root\">\n",
       "    <div class=\"bk-plotdiv\" id=\"b0f77fd4-ee20-4a11-a6ea-097c8bd90cc3\"></div>\n",
       "</div>"
      ]
     },
     "metadata": {},
     "output_type": "display_data"
    },
    {
     "data": {
      "application/javascript": [
       "(function(root) {\n",
       "  function embed_document(root) {\n",
       "    var docs_json = {\"8476aebf-52b3-4b66-8108-1dec8dadcb3d\":{\"roots\":{\"references\":[{\"attributes\":{},\"id\":\"e7b31e18-09a9-470c-ba94-d71a99533130\",\"type\":\"BasicTickFormatter\"},{\"attributes\":{\"callback\":null,\"column_names\":[\"left\",\"right\",\"top\"],\"data\":{\"left\":{\"__ndarray__\":\"AAAAAAAAAACx62wrywSQP7HrbCvLBKA/imEjwTAHqD+x62wrywSwP50mSPb9BbQ/imEjwTAHuD92nP6LYwi8P7HrbCvLBMA/J4nakGQFwj+dJkj2/QXEPxPEtVuXBsY/imEjwTAHyD8A/5AmygfKP3ac/otjCMw/7Dls8fwIzj+x62wrywTQP2y6I94XBdE/J4nakGQF0j/iV5FDsQXTP50mSPb9BdQ/WPX+qEoG1T8TxLVblwbWP86SbA7kBtc/imEjwTAH2D9FMNpzfQfZPwD/kCbKB9o/u81H2RYI2z92nP6LYwjcPzFrtT6wCN0/7Dls8fwI3j+nCCOkSQnfP7HrbCvLBOA/D1PIhPGE4D9suiPeFwXhP8ohfzc+heE/J4nakGQF4j+F8DXqioXiP+JXkUOxBeM/QL/snNeF4z+dJkj2/QXkP/uNo08khuQ/WPX+qEoG5T+2XFoCcYblPxPEtVuXBuY/cSsRtb2G5j/OkmwO5AbnPyz6x2cKh+c/imEjwTAH6D/nyH4aV4foP0Uw2nN9B+k/opc1zaOH6T8A/5AmygfqP11m7H/wh+o/u81H2RYI6z8YNaMyPYjrP3ac/otjCOw/0wNa5YmI7D8xa7U+sAjtP47SEJjWiO0/7Dls8fwI7j9JocdKI4nuP6cII6RJCe8/BHB+/W+J7z+x62wrywTwP2CfGljeRPA/D1PIhPGE8D+9BnaxBMXwP2y6I94XBfE/G27RCitF8T/KIX83PoXxP3jVLGRRxfE/J4nakGQF8j/WPIi9d0XyP4XwNeqKhfI/M6TjFp7F8j/iV5FDsQXzP5ELP3DERfM/QL/snNeF8z/ucprJ6sXzP50mSPb9BfQ/TNr1IhFG9D/7jaNPJIb0P6pBUXw3xvQ/WPX+qEoG9T8HqazVXUb1P7ZcWgJxhvU/ZRAIL4TG9T8TxLVblwb2P8J3Y4iqRvY/cSsRtb2G9j8g377h0Mb2P86SbA7kBvc/fUYaO/dG9z8s+sdnCof3P9utdZQdx/c/imEjwTAH+D84FdHtQ0f4P+fIfhpXh/g/lnwsR2rH+D9FMNpzfQf5P/Pjh6CQR/k/opc1zaOH+T9RS+P5tsf5PwD/kCbKB/o/rrI+U91H+j9dZux/8If6PwwamqwDyPo/u81H2RYI+z9pgfUFKkj7Pxg1ozI9iPs/x+hQX1DI+z92nP6LYwj8PyVQrLh2SPw/0wNa5YmI/D+CtwcSncj8PzFrtT6wCP0/4B5ja8NI/T+O0hCY1oj9Pz2GvsTpyP0/7Dls8fwI/j+b7RkeEEn+P0mhx0ojif4/+FR1dzbJ/j+nCCOkSQn/P1a80NBcSf8/BHB+/W+J/z+zIywqg8n/P7HrbCvLBABAiMXDwdQkAEBgnxpY3kQAQDd5ce7nZABAD1PIhPGEAEDmLB8b+6QAQL0GdrEExQBAleDMRw7lAEBsuiPeFwUBQEOUenQhJQFAG27RCitFAUDyRyihNGUBQMohfzc+hQFAofvVzUelAUB41SxkUcUBQFCvg/pa5QFAJ4nakGQFAkD/YjEnbiUCQNY8iL13RQJArRbfU4FlAkCF8DXqioUCQFzKjICUpQJAM6TjFp7FAkALfjqtp+UCQOJXkUOxBQNAujHo2bolA0CRCz9wxEUDQGjllQbOZQNAQL/snNeFA0AXmUMz4aUDQO5ymsnqxQNAxkzxX/TlA0CdJkj2/QUEQHUAn4wHJgRATNr1IhFGBEAjtEy5GmYEQPuNo08khgRA0mf65S2mBECqQVF8N8YEQIEbqBJB5gRAWPX+qEoGBUAwz1U/VCYFQAeprNVdRgVA3oIDbGdmBUC2XFoCcYYFQI02sZh6pgVAZRAIL4TGBUA86l7FjeYFQBPEtVuXBgZA650M8qAmBkDCd2OIqkYGQJpRuh60ZgZAcSsRtb2GBkBIBWhLx6YGQCDfvuHQxgZA97gVeNrmBkDOkmwO5AYHQKZsw6TtJgdAfUYaO/dGB0BVIHHRAGcHQCz6x2cKhwdAA9Qe/hOnB0DbrXWUHccHQLKHzCon5wdAimEjwTAHCEBhO3pXOicIQDgV0e1DRwhAEO8nhE1nCEDnyH4aV4cIQL6i1bBgpwhAlnwsR2rHCEBtVoPdc+cIQEUw2nN9BwlAHAoxCocnCUDz44egkEcJQMu93jaaZwlAopc1zaOHCUB5cYxjracJQFFL4/m2xwlAKCU6kMDnCUAA/5AmygcKQNfY57zTJwpArrI+U91HCkCGjJXp5mcKQF1m7H/whwpANUBDFvqnCkAMGpqsA8gKQOPz8EIN6ApAu81H2RYIC0CSp55vICgLQGmB9QUqSAtAQVtMnDNoC0AYNaMyPYgLQPAO+shGqAtAx+hQX1DIC0Cewqf1WegLQHac/otjCAxATXZVIm0oDEAlUKy4dkgMQPwpA0+AaAxA0wNa5YmIDECr3bB7k6gMQIK3BxKdyAxAWZFeqKboDEAxa7U+sAgNQAhFDNW5KA1A4B5ja8NIDUC3+LkBzWgNQI7SEJjWiA1AZqxnLuCoDUA9hr7E6cgNQBRgFVvz6A1A7Dls8fwIDkDDE8OHBikOQJvtGR4QSQ5AcsdwtBlpDkBJocdKI4kOQCF7HuEsqQ5A+FR1dzbJDkDQLswNQOkOQKcII6RJCQ9AfuJ5OlMpD0BWvNDQXEkPQC2WJ2dmaQ9ABHB+/W+JD0DcSdWTeakPQLMjLCqDyQ9Ai/2CwIzpD0Cx62wrywQQQJ1YmPbPFBBAiMXDwdQkEEB0Mu+M2TQQQGCfGljeRBBASwxGI+NUEEA3eXHu52QQQCPmnLnsdBBAD1PIhPGEEED6v/NP9pQQQOYsHxv7pBBA0plK5v+0EEC9BnaxBMUQQKlzoXwJ1RBAleDMRw7lEECATfgSE/UQQGy6I94XBRFAWCdPqRwVEUBDlHp0ISURQC8Bpj8mNRFAG27RCitFEUAH2/zVL1URQPJHKKE0ZRFA3rRTbDl1EUDKIX83PoURQLWOqgJDlRFAofvVzUelEUCNaAGZTLURQHjVLGRRxRFAZEJYL1bVEUBQr4P6WuURQDscr8Vf9RFAJ4nakGQFEkAT9gVcaRUSQP9iMSduJRJA6s9c8nI1EkDWPIi9d0USQMKps4h8VRJArRbfU4FlEkCZgwofhnUSQIXwNeqKhRJAcF1htY+VEkBcyoyAlKUSQEg3uEuZtRJAM6TjFp7FEkAfEQ/iotUSQAt+Oq2n5RJA9upleKz1EkDiV5FDsQUTQM7EvA62FRNAujHo2bolE0ClnhOlvzUTQJELP3DERRNAfXhqO8lVE0Bo5ZUGzmUTQFRSwdHSdRNAQL/snNeFE0ArLBho3JUTQBeZQzPhpRNAAwZv/uW1E0DucprJ6sUTQNrfxZTv1RNAxkzxX/TlE0CyuRwr+fUTQJ0mSPb9BRRAiZNzwQIWFEB1AJ+MByYUQGBtylcMNhRATNr1IhFGFEA4RyHuFVYUQCO0TLkaZhRADyF4hB92FED7jaNPJIYUQOb6zhoplhRA0mf65S2mFEC+1CWxMrYUQKpBUXw3xhRAla58RzzWFECBG6gSQeYUQG2I091F9hRAWPX+qEoGFUBEYip0TxYVQDDPVT9UJhVAGzyBClk2FUAHqazVXUYVQPMV2KBiVhVA3oIDbGdmFUDK7y43bHYVQLZcWgJxhhVAosmFzXWWFUCNNrGYeqYVQHmj3GN/thVAZRAIL4TGFUBQfTP6iNYVQDzqXsWN5hVAKFeKkJL2FUATxLVblwYWQP8w4SacFhZA650M8qAmFkDWCji9pTYWQMJ3Y4iqRhZAruSOU69WFkCaUboetGYWQIW+5em4dhZAcSsRtb2GFkBdmDyAwpYWQEgFaEvHphZANHKTFsy2FkAg377h0MYWQAtM6qzV1hZA97gVeNrmFkDjJUFD3/YWQM6SbA7kBhdAuv+X2egWF0CmbMOk7SYXQJLZ7m/yNhdAfUYaO/dGF0Bps0UG/FYXQFUgcdEAZxdAQI2cnAV3F0As+sdnCocXQBhn8zIPlxdAA9Qe/hOnF0DvQErJGLcXQNutdZQdxxdAxhqhXyLXF0Cyh8wqJ+cXQJ709/Ur9xdAimEjwTAHGEB1zk6MNRcYQGE7elc6JxhATailIj83GEA4FdHtQ0cYQCSC/LhIVxhAEO8nhE1nGED7W1NPUncYQOfIfhpXhxhA0zWq5VuXGEC+otWwYKcYQKoPAXxltxhAlnwsR2rHGECB6VcSb9cYQG1Wg91z5xhAWcOuqHj3GEBFMNpzfQcZQDCdBT+CFxlAHAoxCocnGUAId1zVizcZQPPjh6CQRxlA31Cza5VXGUDLvd42mmcZQLYqCgKfdxlAopc1zaOHGUCOBGGYqJcZQHlxjGOtpxlAZd63LrK3GUBRS+P5tscZQD24DsW71xlAKCU6kMDnGUAUkmVbxfcZQAD/kCbKBxpA62u88c4XGkDX2Oe80ycaQMNFE4jYNxpArrI+U91HGkCaH2oe4lcaQIaMlenmZxpAcfnAtOt3GkBdZux/8IcaQEnTF0v1lxpANUBDFvqnGkAgrW7h/rcaQAwamqwDyBpA+IbFdwjYGkDj8/BCDegaQM9gHA4S+BpAu81H2RYIG0CmOnOkGxgbQJKnnm8gKBtAfhTKOiU4G0BpgfUFKkgbQFXuINEuWBtAQVtMnDNoG0AtyHdnOHgbQBg1ozI9iBtABKLO/UGYG0DwDvrIRqgbQNt7JZRLuBtAx+hQX1DIG0CzVXwqVdgbQJ7Cp/VZ6BtAii/TwF74G0B2nP6LYwgcQGEJKldoGBxATXZVIm0oHEA544DtcTgcQCVQrLh2SBxAEL3Xg3tYHED8KQNPgGgcQOiWLhqFeBxA0wNa5YmIHEC/cIWwjpgcQKvdsHuTqBxAlkrcRpi4HECCtwcSncgcQG4kM92h2BxAWZFeqKboHEBF/olzq/gcQDFrtT6wCB1AHdjgCbUYHUAIRQzVuSgdQPSxN6C+OB1A4B5ja8NIHUDLi442yFgdQLf4uQHNaB1Ao2XlzNF4HUCO0hCY1ogdQHo/PGPbmB1AZqxnLuCoHUBRGZP55LgdQD2GvsTpyB1AKfPpj+7YHUAUYBVb8+gdQADNQCb4+B1A7Dls8fwIHkDYppe8ARkeQMMTw4cGKR5Ar4DuUgs5HkCb7RkeEEkeQIZaRekUWR5AcsdwtBlpHkBeNJx/HnkeQEmhx0ojiR5ANQ7zFSiZHkAhex7hLKkeQAzoSawxuR5A+FR1dzbJHkDkwaBCO9keQNAuzA1A6R5Au5v32ET5HkCnCCOkSQkfQJN1Tm9OGR9AfuJ5OlMpH0BqT6UFWDkfQA==\",\"dtype\":\"float64\",\"shape\":[500]},\"right\":{\"__ndarray__\":\"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\",\"dtype\":\"float64\",\"shape\":[500]},\"top\":{\"__ndarray__\":\"OGUfsMtuyT8AAAAAAAAAAAAAAAAAAAAAAAAAAAAAAAAAAAAAAAAAAAAAAAAAAAAAAAAAAAAAAAAAAAAAAAAAAAAAAAAAAAAAAAAAAAAAAAAAAAAAAAAAAAAAAAAAAAAAAAAAAAAAAAAAAAAAAAAAAAAAAAAAAAAAAAAAAAAAAAAAAAAAAAAAAAAAAAAAAAAAAAAAAAAAAAAAAAAAAAAAAAAAAAAAAAAAAAAAAAAAAAAAAAAAAAAAAAAAAAAAAAAAAAAAAAAAAAAAAAAAAAAAAAAAAAAAAAAAAAAAAAAAAAAAAAAAAAAAAAAAAAAAAAAAAAAAAAAAAAAAAAAAAAAAAAAAAAAAAAAAAAAAAAAAAAAAAAAAAAAAAAAAAAAAAAAAAAAAAAAAAAAAAAAAAAAAAAAAAAAAAAAAAAAAAAAAAAAAAAAAAAAAAAAAAAAAAAAAAAAAAAAAAAAAAAAAAAAAAEOdDx2CgP8/AAAAAAAAAAAAAAAAAAAAAAAAAAAAAAAAAAAAAAAAAAAAAAAAAAAAAAAAAAAAAAAAAAAAAAAAAAAAAAAAAAAAAAAAAAAAAAAAAAAAAAAAAAAAAAAAAAAAAAAAAAAAAAAAAAAAAAAAAAAAAAAAAAAAAAAAAAAAAAAAAAAAAAAAAAAAAAAAAAAAAAAAAAAAAAAAAAAAAAAAAAAAAAAAAAAAAAAAAAAAAAAAAAAAAAAAAAAAAAAAAAAAAAAAAAAAAAAAAAAAAAAAAADYVIOdgUMqQAAAAAAAAAAAAAAAAAAAAAAAAAAAAAAAAAAAAAAAAAAAAAAAAAAAAAAAAAAAAAAAAAAAAAAAAAAAAAAAAAAAAAAAAAAAAAAAAAAAAAAAAAAAAAAAAAAAAAAAAAAAAAAAAAAAAAAAAAAAAAAAAAAAAAAAAAAAAAAAAAAAAAAAAAAAAAAAAAAAAAClc5yXaAwnQAAAAAAAAAAAAAAAAAAAAAAAAAAAAAAAAAAAAAAAAAAAAAAAAAAAAAAAAAAAAAAAAAAAAAAAAAAAAAAAAAAAAAAAAAAAAAAAAAAAAAAAAAAAAAAAAAAAAAAAAAAAAAAAAAAAAAAAAAAAIGUfsMtu+T8AAAAAAAAAAAAAAAAAAAAAAAAAAAAAAAAAAAAAAAAAAAAAAAAAAAAAAAAAAAAAAAAAAAAAAAAAAAAAAAAAAAAAAAAAAAAAAAAAAAAAAAAAAAAAAAAAAAAAhpUVCSx8EUAAAAAAAAAAAAAAAAAAAAAAAAAAAAAAAAAAAAAAAAAAAAAAAAAAAAAAAAAAAAAAAAAAAAAAAAAAAAAAAAAAAAAAAAAAAAAAAAAZZqFIKqEBQAAAAAAAAAAAAAAAAAAAAAAAAAAAAAAAAAAAAAAAAAAAAAAAAAAAAAAAAAAAAAAAAAAAAAAAAAAA1knoxR9/AkAAAAAAAAAAAAAAAAAAAAAAAAAAAAAAAAAAAAAAAAAAAAAAAAAAAAAAAAAAAAAAAAAAAAAAAAAAAPxIZi3BTPo/AAAAAAAAAAAAAAAAAAAAAAAAAAAAAAAAAAAAAAAAAAAAAAAAAAAAAAAAAAAAAAAAk1tit+ce9z8AAAAAAAAAAAAAAAAAAAAAAAAAAAAAAAAAAAAAAAAAAAAAAAAAAAAAYGahSCqh8T8AAAAAAAAAAAAAAAAAAAAAAAAAAAAAAAAAAAAAAAAAAN8FNy/IuPk/AAAAAAAAAAAAAAAAAAAAAAAAAAAAAAAAAAAAAAAAAADjbdyor77rPwAAAAAAAAAAAAAAAAAAAAAAAAAAAAAAAAAAAAAAAAAALbALp6hS7D8AAAAAAAAAAAAAAAAAAAAAAAAAAAAAAAAAAAAAAAAAAP7WA7v19uU/AAAAAAAAAAAAAAAAAAAAAAAAAAAAAAAA6eDAs9lG6D8AAAAAAAAAAAAAAAAAAAAAAAAAAAAAAAD4BrnHJuvhPwAAAAAAAAAAAAAAAAAAAAD4BrnHJuvhPwAAAAAAAAAAAAAAAAAAAAAAAAAAAAAAAIcHuccm6+E/AAAAAAAAAAAAAAAAAAAAAGSCWss0w+A/AAAAAAAAAAAAAAAAAAAAALtkH7DLbtk/AAAAAAAAAAAAAAAAAAAAAK7EicktV+E/AAAAAAAAAAAAAAAAAAAAAHPORsIRp9M/AAAAAAAAAAAAAAAAAAAAAEtcYrfnHtc/AAAAAAAAAAALd5mhkw7ePwAAAAAAAAAAAAAAAAAAAACu1wO79fbVPwAAAAAAAAAArsSJyS1X0T8AAAAAAAAAAAAAAAAAAAAArtcDu/X21T8AAAAAAAAAACbgwLPZRtg/AAAAAAAAAADp4MCz2UbYPwAAAAAAAAAAEVOlvgPP1D8AAAAAAAAAANZJ6MUff7I/AAAAAAAAAADWzUbCEafTPwAAAAAAAAAAalKlvgPP1D8AAAAAAAAAAIZlH7DLbsk/AAAAAAAAAACGZR+wy27JP5tAK807L9A/AAAAAAAAAADWSejFH3/SPwAAAAAAAAAAhmUfsMtuyT+bQCvNOy/QPwAAAAAAAAAAwW7cqK++uz+GZR+wy27JPwAAAAAAAAAA/HeZoZMOzj/jbdyor767PwAAAAAAAAAA1knoxR9/wj/jbdyor767PwAAAAAAAAAAk1tit+cetz+GZR+wy27JPxFTpb4Dz8Q/AAAAAAAAAADBbtyor767P4ZlH7DLbsk/QknoxR9/sj/Bbtyor76rP+Nt3Kivvrs/AAAAAAAAAADjbdyor76rP59v3Kivvqs/423cqK++uz9CSejFH3+yPwRdYrfnHsc/alKlvgPPxD9qUqW+A8/EP2pSpb4Dz8Q/BF1it+cetz8ZQCvNOy/APxlAK807L8A/n2/cqK++uz/jbdyor76rP+Nt3Kivvqs/aUroxR9/oj+TW2K35x63P0JJ6MUff7I/n2/cqK++qz/jbdyor76rP+Nt3Kivvrs/QknoxR9/sj8EXWK35x63P5NbYrfnHrc/k1tit+cetz9pSujFH3+iP0JJ6MUff6I/k1tit+cetz+fb9yor77LP+Nt3Kivvqs/QknoxR9/kj+3U6W+A8/EP+Nt3Kivvqs/423cqK++qz9CSejFH3/CP59v3Kivvqs/423cqK++qz9CSejFH3+yP2lK6MUff6I/423cqK++qz/jbdyor767P59v3Kivvqs/423cqK++qz9CSejFH3+yPwRdYrfnHrc/423cqK++qz/jbdyor76rP59v3Kivvqs/k1tit+cetz9CSejFH3+yPwAAAAAAAAAAn2/cqK++qz9CSejFH3+iP0JJ6MUff6I/aUroxR9/sj9CSejFH3+yP0JJ6MUff5I/n2/cqK++qz9CSejFH3+yPxlAK807L8A/n2/cqK++qz9CSejFH3+SP0JJ6MUff7I/QknoxR9/kj8AAAAAAAAAAEJJ6MUff5I/AAAAAAAAAACfb9yor76rP0JJ6MUff7I/423cqK++qz9pSujFH3+SP0JJ6MUff5I/QknoxR9/kj9pSujFH3+SP+Nt3Kivvqs/QknoxR9/oj8AAAAAAAAAAGlK6MUff6I/QknoxR9/kj/jbdyor76rP2lK6MUff5I/QknoxR9/oj9CSejFH3+SP2lK6MUff7I/QknoxR9/kj9CSejFH3+yP2lK6MUff7I/QknoxR9/oj9CSejFH3+iP0JJ6MUff5I/AAAAAAAAAABCSejFH3+SP0JJ6MUff6I/aUroxR9/oj/jbdyor767PwAAAAAAAAAAaUroxR9/kj9CSejFH3+SP0JJ6MUff7I/aUroxR9/kj/jbdyor76rP0JJ6MUff6I/423cqK++qz8AAAAAAAAAAAAAAAAAAAAA423cqK++qz9pSujFH3+iP0JJ6MUff5I/AAAAAAAAAABpSujFH3+SPwAAAAAAAAAAQknoxR9/oj9pSujFH3+iPwAAAAAAAAAAQknoxR9/kj8AAAAAAAAAAGlK6MUff5I/AAAAAAAAAABCSejFH3+iPwAAAAAAAAAAQknoxR9/kj9CSejFH3+iPwAAAAAAAAAAQknoxR9/kj/jbdyor76rPwAAAAAAAAAAQknoxR9/kj9CSejFH3+SPwAAAAAAAAAAaUroxR9/kj8AAAAAAAAAAAAAAAAAAAAAaUroxR9/oj8AAAAAAAAAAEJJ6MUff6I/aUroxR9/oj8AAAAAAAAAAEJJ6MUff5I/n2/cqK++qz8AAAAAAAAAAEJJ6MUff6I/AAAAAAAAAAAAAAAAAAAAAEJJ6MUff5I/AAAAAAAAAAAAAAAAAAAAAEJJ6MUff5I/QknoxR9/oj8AAAAAAAAAAEJJ6MUff5I/QknoxR9/kj8AAAAAAAAAAAAAAAAAAAAAAAAAAAAAAAAAAAAAAAAAAEJJ6MUff5I/AAAAAAAAAAAAAAAAAAAAAGlK6MUff5I/AAAAAAAAAABCSejFH3+SP2lK6MUff5I/QknoxR9/kj8AAAAAAAAAAAAAAAAAAAAAAAAAAAAAAAAAAAAAAAAAAGlK6MUff6I/QknoxR9/kj9CSejFH3+iP0JJ6MUff5I/AAAAAAAAAAAAAAAAAAAAAAAAAAAAAAAAAAAAAAAAAAAAAAAAAAAAAEJJ6MUff5I/aUroxR9/kj8AAAAAAAAAAAAAAAAAAAAAaUroxR9/kj9CSejFH3+SP0JJ6MUff5I/QknoxR9/kj8AAAAAAAAAAAAAAAAAAAAAAAAAAAAAAABpSujFH3+SPwAAAAAAAAAAAAAAAAAAAAAAAAAAAAAAAAAAAAAAAAAAAAAAAAAAAAAAAAAAAAAAAAAAAAAAAAAAAAAAAAAAAAAAAAAAAAAAAAAAAAAAAAAAAAAAAAAAAAAAAAAAAAAAAGlK6MUff5I/AAAAAAAAAAAAAAAAAAAAAAAAAAAAAAAAAAAAAAAAAAAAAAAAAAAAAAAAAAAAAAAAAAAAAAAAAAAAAAAAAAAAAAAAAAAAAAAAAAAAAAAAAAAAAAAAAAAAAAAAAAAAAAAAAAAAAAAAAAAAAAAAAAAAAAAAAAAAAAAAAAAAAAAAAAAAAAAAAAAAAAAAAAAAAAAAAAAAAAAAAAAAAAAAAAAAAAAAAAAAAAAAAAAAAAAAAAAAAAAAAAAAAAAAAAAAAAAAAAAAAAAAAAAAAAAAAAAAAAAAAAAAAAAAAAAAAAAAAAAAAAAAAAAAAEJJ6MUff5I/AAAAAAAAAAAAAAAAAAAAAAAAAAAAAAAAAAAAAAAAAAAAAAAAAAAAAAAAAAAAAAAAAAAAAAAAAAAAAAAAAAAAAAAAAAAAAAAAAAAAAAAAAAAAAAAAAAAAAAAAAAAAAAAAAAAAAAAAAABCSejFH3+SPw==\",\"dtype\":\"float64\",\"shape\":[500]}}},\"id\":\"d3666d1a-629d-4afa-b7a1-29f171bdf90e\",\"type\":\"ColumnDataSource\"},{\"attributes\":{\"bottom\":{\"value\":0},\"fill_alpha\":{\"value\":0.1},\"fill_color\":{\"value\":\"#1f77b4\"},\"left\":{\"field\":\"left\"},\"line_alpha\":{\"value\":0.1},\"line_color\":{\"value\":\"#1f77b4\"},\"right\":{\"field\":\"right\"},\"top\":{\"field\":\"top\"}},\"id\":\"2e615aff-eb16-4f36-9137-307f6a7b8441\",\"type\":\"Quad\"},{\"attributes\":{\"formatter\":{\"id\":\"e7b31e18-09a9-470c-ba94-d71a99533130\",\"type\":\"BasicTickFormatter\"},\"plot\":{\"id\":\"5f420fef-3af2-4548-85b9-16f84751d3cb\",\"subtype\":\"Figure\",\"type\":\"Plot\"},\"ticker\":{\"id\":\"658f6517-f9a1-40af-a9d5-7d3cca0ed422\",\"type\":\"BasicTicker\"}},\"id\":\"9edeec0a-71c2-45bd-a96a-aece1b1a4552\",\"type\":\"LinearAxis\"},{\"attributes\":{\"active_drag\":\"auto\",\"active_inspect\":\"auto\",\"active_scroll\":\"auto\",\"active_tap\":\"auto\",\"tools\":[{\"id\":\"5e051f8b-0884-4cc9-b89d-c58509d97938\",\"type\":\"PanTool\"},{\"id\":\"f8a8547c-7026-4974-aef3-68a665d5ce2d\",\"type\":\"WheelZoomTool\"},{\"id\":\"392810cc-3d1e-49e9-bae4-19bb6eb9901c\",\"type\":\"ResetTool\"},{\"id\":\"0fd170f3-86d0-4728-9ba9-13332df36126\",\"type\":\"SaveTool\"}]},\"id\":\"538f07d5-96a1-49f0-9ab7-1913d194273f\",\"type\":\"Toolbar\"},{\"attributes\":{},\"id\":\"13e1e274-6cfa-4997-ac46-1f7c3930dc4f\",\"type\":\"BasicTicker\"},{\"attributes\":{\"below\":[{\"id\":\"2eabc2b5-c4c8-4dc5-ab64-8e92ee493c93\",\"type\":\"LinearAxis\"}],\"left\":[{\"id\":\"9edeec0a-71c2-45bd-a96a-aece1b1a4552\",\"type\":\"LinearAxis\"}],\"renderers\":[{\"id\":\"2eabc2b5-c4c8-4dc5-ab64-8e92ee493c93\",\"type\":\"LinearAxis\"},{\"id\":\"a515c790-91ac-4da0-9762-08a104c03a83\",\"type\":\"Grid\"},{\"id\":\"9edeec0a-71c2-45bd-a96a-aece1b1a4552\",\"type\":\"LinearAxis\"},{\"id\":\"870ce83f-2755-44b1-9cc7-4c763ae83efd\",\"type\":\"Grid\"},{\"id\":\"0abd4f95-9889-4350-a0a4-7311ee921103\",\"type\":\"GlyphRenderer\"}],\"title\":{\"id\":\"07249849-9f89-4f36-b7af-b317057c1be4\",\"type\":\"Title\"},\"toolbar\":{\"id\":\"538f07d5-96a1-49f0-9ab7-1913d194273f\",\"type\":\"Toolbar\"},\"toolbar_location\":\"above\",\"x_range\":{\"id\":\"d460fc67-3dc1-47d7-9104-d7df1fe3fc03\",\"type\":\"DataRange1d\"},\"x_scale\":{\"id\":\"a5b3f9c9-ed80-4f83-b22a-b1d679a58296\",\"type\":\"LinearScale\"},\"y_range\":{\"id\":\"595cdd3a-d2a3-45f8-aa8e-1095d825af76\",\"type\":\"DataRange1d\"},\"y_scale\":{\"id\":\"4c7cf1b0-a71a-4b5c-b34e-07fe8d4310fe\",\"type\":\"LinearScale\"}},\"id\":\"5f420fef-3af2-4548-85b9-16f84751d3cb\",\"subtype\":\"Figure\",\"type\":\"Plot\"},{\"attributes\":{},\"id\":\"658f6517-f9a1-40af-a9d5-7d3cca0ed422\",\"type\":\"BasicTicker\"},{\"attributes\":{\"plot\":{\"id\":\"5f420fef-3af2-4548-85b9-16f84751d3cb\",\"subtype\":\"Figure\",\"type\":\"Plot\"},\"ticker\":{\"id\":\"13e1e274-6cfa-4997-ac46-1f7c3930dc4f\",\"type\":\"BasicTicker\"}},\"id\":\"a515c790-91ac-4da0-9762-08a104c03a83\",\"type\":\"Grid\"},{\"attributes\":{},\"id\":\"392810cc-3d1e-49e9-bae4-19bb6eb9901c\",\"type\":\"ResetTool\"},{\"attributes\":{\"data_source\":{\"id\":\"d3666d1a-629d-4afa-b7a1-29f171bdf90e\",\"type\":\"ColumnDataSource\"},\"glyph\":{\"id\":\"50cd317a-0b88-4857-8afa-1854586f82f7\",\"type\":\"Quad\"},\"hover_glyph\":null,\"muted_glyph\":null,\"nonselection_glyph\":{\"id\":\"2e615aff-eb16-4f36-9137-307f6a7b8441\",\"type\":\"Quad\"},\"selection_glyph\":null,\"view\":{\"id\":\"beea269b-8a71-4576-adfd-e8f070bd1890\",\"type\":\"CDSView\"}},\"id\":\"0abd4f95-9889-4350-a0a4-7311ee921103\",\"type\":\"GlyphRenderer\"},{\"attributes\":{\"dimension\":1,\"plot\":{\"id\":\"5f420fef-3af2-4548-85b9-16f84751d3cb\",\"subtype\":\"Figure\",\"type\":\"Plot\"},\"ticker\":{\"id\":\"658f6517-f9a1-40af-a9d5-7d3cca0ed422\",\"type\":\"BasicTicker\"}},\"id\":\"870ce83f-2755-44b1-9cc7-4c763ae83efd\",\"type\":\"Grid\"},{\"attributes\":{\"plot\":null,\"text\":\"Word distribution accross all twits\"},\"id\":\"07249849-9f89-4f36-b7af-b317057c1be4\",\"type\":\"Title\"},{\"attributes\":{},\"id\":\"0fd170f3-86d0-4728-9ba9-13332df36126\",\"type\":\"SaveTool\"},{\"attributes\":{\"callback\":null},\"id\":\"595cdd3a-d2a3-45f8-aa8e-1095d825af76\",\"type\":\"DataRange1d\"},{\"attributes\":{},\"id\":\"4c7cf1b0-a71a-4b5c-b34e-07fe8d4310fe\",\"type\":\"LinearScale\"},{\"attributes\":{},\"id\":\"5e051f8b-0884-4cc9-b89d-c58509d97938\",\"type\":\"PanTool\"},{\"attributes\":{\"source\":{\"id\":\"d3666d1a-629d-4afa-b7a1-29f171bdf90e\",\"type\":\"ColumnDataSource\"}},\"id\":\"beea269b-8a71-4576-adfd-e8f070bd1890\",\"type\":\"CDSView\"},{\"attributes\":{\"formatter\":{\"id\":\"882c608d-1740-4ca4-9fb1-21e057071cbd\",\"type\":\"BasicTickFormatter\"},\"plot\":{\"id\":\"5f420fef-3af2-4548-85b9-16f84751d3cb\",\"subtype\":\"Figure\",\"type\":\"Plot\"},\"ticker\":{\"id\":\"13e1e274-6cfa-4997-ac46-1f7c3930dc4f\",\"type\":\"BasicTicker\"}},\"id\":\"2eabc2b5-c4c8-4dc5-ab64-8e92ee493c93\",\"type\":\"LinearAxis\"},{\"attributes\":{},\"id\":\"882c608d-1740-4ca4-9fb1-21e057071cbd\",\"type\":\"BasicTickFormatter\"},{\"attributes\":{},\"id\":\"f8a8547c-7026-4974-aef3-68a665d5ce2d\",\"type\":\"WheelZoomTool\"},{\"attributes\":{},\"id\":\"a5b3f9c9-ed80-4f83-b22a-b1d679a58296\",\"type\":\"LinearScale\"},{\"attributes\":{\"callback\":null},\"id\":\"d460fc67-3dc1-47d7-9104-d7df1fe3fc03\",\"type\":\"DataRange1d\"},{\"attributes\":{\"bottom\":{\"value\":0},\"fill_color\":{\"value\":\"#1f77b4\"},\"left\":{\"field\":\"left\"},\"line_color\":{\"value\":\"#555555\"},\"right\":{\"field\":\"right\"},\"top\":{\"field\":\"top\"}},\"id\":\"50cd317a-0b88-4857-8afa-1854586f82f7\",\"type\":\"Quad\"}],\"root_ids\":[\"5f420fef-3af2-4548-85b9-16f84751d3cb\"]},\"title\":\"Bokeh Application\",\"version\":\"0.12.10\"}};\n",
       "    var render_items = [{\"docid\":\"8476aebf-52b3-4b66-8108-1dec8dadcb3d\",\"elementid\":\"b0f77fd4-ee20-4a11-a6ea-097c8bd90cc3\",\"modelid\":\"5f420fef-3af2-4548-85b9-16f84751d3cb\"}];\n",
       "\n",
       "    root.Bokeh.embed.embed_items(docs_json, render_items);\n",
       "  }\n",
       "\n",
       "  if (root.Bokeh !== undefined) {\n",
       "    embed_document(root);\n",
       "  } else {\n",
       "    var attempts = 0;\n",
       "    var timer = setInterval(function(root) {\n",
       "      if (root.Bokeh !== undefined) {\n",
       "        embed_document(root);\n",
       "        clearInterval(timer);\n",
       "      }\n",
       "      attempts++;\n",
       "      if (attempts > 100) {\n",
       "        console.log(\"Bokeh: ERROR: Unable to embed document because BokehJS library is missing\")\n",
       "        clearInterval(timer);\n",
       "      }\n",
       "    }, 10, root)\n",
       "  }\n",
       "})(window);"
      ],
      "application/vnd.bokehjs_exec.v0+json": ""
     },
     "metadata": {
      "application/vnd.bokehjs_exec.v0+json": {
       "id": "5f420fef-3af2-4548-85b9-16f84751d3cb"
      }
     },
     "output_type": "display_data"
    }
   ],
   "source": [
    "plot_distribution(vocab_reduced)"
   ]
  },
  {
   "cell_type": "markdown",
   "metadata": {},
   "source": [
    "### Removing special characters and \"trash\"\n",
    "\n",
    "We still se a very uneaven distribution. If you look closer, you'll see that we're also taking into consideration punctuation signs ('-', ',', etc) and other html tags like `&amp`. We can definitely remove them for the sentiment analysis, but we will try to keep the emoticons, since those _do_ have a sentiment load:"
   ]
  },
  {
   "cell_type": "code",
   "execution_count": 14,
   "metadata": {},
   "outputs": [
    {
     "name": "stdout",
     "output_type": "stream",
     "text": [
      "this twit man is nice :)\n"
     ]
    }
   ],
   "source": [
    "import re\n",
    "\n",
    "def preprocessor(text):\n",
    "    \"\"\" Return a cleaned version of text\n",
    "    \"\"\"\n",
    "    # Remove HTML markup\n",
    "    text = re.sub('<[^>]*>', '', text)\n",
    "    # Save emoticons for later appending\n",
    "    emoticons = re.findall('(?::|;|=)(?:-)?(?:\\)|\\(|D|P)', text)\n",
    "    # Remove any non-word character and append the emoticons,\n",
    "    # removing the nose character for standarization. Convert to lower case\n",
    "    text = (re.sub('[\\W]+', ' ', text.lower()) + ' ' + ' '.join(emoticons).replace('-', ''))\n",
    "    \n",
    "    return text\n",
    "\n",
    "print(preprocessor('This!! twit man :) is <b>nice</b>'))"
   ]
  },
  {
   "cell_type": "markdown",
   "metadata": {},
   "source": [
    "We are almost ready! There is another trick we can use to reduce our vocabulary and consolidate words. If you think about it, words like: love, loving, etc. _Could_ express the same positivity. If that was the case, we would be  having two words in our vocabulary when we could have only one: lov. This process of reducing a word to its root is called **steaming**.\n",
    "\n",
    "We also need a _tokenizer_ to break down our twits in individual words. We will implement two tokenizers, a regular one and one that does steaming:"
   ]
  },
  {
   "cell_type": "code",
   "execution_count": 15,
   "metadata": {},
   "outputs": [
    {
     "name": "stdout",
     "output_type": "stream",
     "text": [
      "['Hi', 'there,', 'I', 'am', 'loving', 'this,', 'like', 'with', 'a', 'lot', 'of', 'love']\n",
      "['Hi', 'there,', 'I', 'am', 'love', 'this,', 'like', 'with', 'a', 'lot', 'of', 'love']\n"
     ]
    }
   ],
   "source": [
    "from nltk.stem import PorterStemmer\n",
    "\n",
    "porter = PorterStemmer()\n",
    "\n",
    "def tokenizer(text):\n",
    "    return text.split()\n",
    "\n",
    "def tokenizer_porter(text):\n",
    "    return [porter.stem(word) for word in text.split()]\n",
    "\n",
    "print(tokenizer('Hi there, I am loving this, like with a lot of love'))\n",
    "print(tokenizer_porter('Hi there, I am loving this, like with a lot of love'))"
   ]
  },
  {
   "cell_type": "markdown",
   "metadata": {},
   "source": [
    "## Training Logistic Regression\n",
    "\n",
    "We are finally ready to train our algorythm. We need to choose the best hyperparameters like the _learning rate_ or _regularization strength_. We also would like to know if our algorithm performs better steaming words or not, or removing html or not, etc...\n",
    "\n",
    "To take these decisions methodically, we can use a Grid Search. Grid search is a method of training an algorythm with different variations of parameters to latter select the best combination"
   ]
  },
  {
   "cell_type": "code",
   "execution_count": 16,
   "metadata": {
    "collapsed": true
   },
   "outputs": [],
   "source": [
    "from sklearn.model_selection import train_test_split\n",
    "\n",
    "# split the dataset in train and test\n",
    "# X = train['recipedetails']\n",
    "# y = train['label']\n",
    "X_train = train['recipedetails']\n",
    "X_test = test['recipedetails']\n",
    "# X_train, X_test, y_train, y_test = train_test_split(X, y, test_size=0.3, random_state=0)"
   ]
  },
  {
   "cell_type": "markdown",
   "metadata": {},
   "source": [
    "In the code line above, `stratify` will create a train set with the same class balance than the original set"
   ]
  },
  {
   "cell_type": "code",
   "execution_count": 17,
   "metadata": {
    "collapsed": true
   },
   "outputs": [],
   "source": [
    "from sklearn.model_selection import GridSearchCV\n",
    "from sklearn.pipeline import Pipeline\n",
    "from sklearn.linear_model import LogisticRegression\n",
    "from sklearn.feature_extraction.text import TfidfVectorizer\n",
    "from sklearn.multiclass import OneVsRestClassifier\n",
    "from sklearn.metrics import accuracy_score\n",
    "\n",
    "tfidf = TfidfVectorizer(strip_accents=None,\n",
    "                        lowercase=False,\n",
    "                        preprocessor=None)\n",
    "\n",
    "param_grid = [{'vect__ngram_range': [(1, 1)],\n",
    "               'vect__stop_words': [stop, None],\n",
    "               'vect__tokenizer': [tokenizer, tokenizer_porter],\n",
    "               'vect__preprocessor': [None, preprocessor],\n",
    "               'clf__penalty': ['l1', 'l2'],\n",
    "               'clf__C': [1.0, 10.0, 100.0]},\n",
    "              {'vect__ngram_range': [(1, 1)],\n",
    "               'vect__stop_words': [stop, None],\n",
    "               'vect__tokenizer': [tokenizer, tokenizer_porter],\n",
    "               'vect__preprocessor': [None, preprocessor],\n",
    "               'vect__use_idf':[False],\n",
    "               'vect__norm':[None],\n",
    "               'clf__penalty': ['l1', 'l2'],\n",
    "               'clf__C': [1.0, 10.0, 100.0]},\n",
    "              ]\n",
    "\n",
    "lr_tfidf = Pipeline([('vect', tfidf),\n",
    "                     ('clf', OneVsRestClassifier(LogisticRegression(random_state=0)))])\n",
    "\n",
    "# gs_lr_tfidf = GridSearchCV(lr_tfidf, param_grid,\n",
    "#                            scoring='accuracy',\n",
    "#                            cv=5,\n",
    "#                            verbose=1,\n",
    "#                            n_jobs=-1)"
   ]
  },
  {
   "cell_type": "code",
   "execution_count": 18,
   "metadata": {},
   "outputs": [
    {
     "name": "stdout",
     "output_type": "stream",
     "text": [
      "... Processing assist_action_ad\n",
      "Test accuracy is 0.9681978798586572\n",
      "... Processing assist_action_image\n",
      "Test accuracy is 0.7954946996466431\n",
      "... Processing assist_action_sub\n",
      "Test accuracy is 0.9390459363957597\n",
      "... Processing assist_action_search\n",
      "Test accuracy is 0.9143109540636042\n",
      "... Processing assist_action_video\n",
      "Test accuracy is 0.7999116607773852\n",
      "... Processing assist_action_activate\n",
      "Test accuracy is 0.9598056537102474\n",
      "... Processing assist_action_clarify\n",
      "Test accuracy is 0.8074204946996466\n",
      "Avg. accuracy: 0.8834553255931349\n"
     ]
    }
   ],
   "source": [
    "accuracies = []\n",
    "for label in labels:\n",
    "    print('... Processing {}'.format(label))\n",
    "    # train the model using X_dtm & y\n",
    "    lr_tfidf.fit(X_train, train[label])\n",
    "    # compute the testing accuracy\n",
    "    prediction = lr_tfidf.predict(X_test)\n",
    "    acc = accuracy_score(test[label], prediction)\n",
    "    accuracies.append(acc)\n",
    "    print('Test accuracy is {}'.format(acc))\n",
    "\n",
    "print('Avg. accuracy: {}'.format(np.mean(accuracies)))"
   ]
  },
  {
   "cell_type": "code",
   "execution_count": 26,
   "metadata": {},
   "outputs": [
    {
     "name": "stdout",
     "output_type": "stream",
     "text": [
      "Best parameter set: {'clf__C': 100.0, 'clf__penalty': 'l1', 'vect__ngram_range': (1, 1), 'vect__preprocessor': None, 'vect__stop_words': ['i', 'me', 'my', 'myself', 'we', 'our', 'ours', 'ourselves', 'you', \"you're\", \"you've\", \"you'll\", \"you'd\", 'your', 'yours', 'yourself', 'yourselves', 'he', 'him', 'his', 'himself', 'she', \"she's\", 'her', 'hers', 'herself', 'it', \"it's\", 'its', 'itself', 'they', 'them', 'their', 'theirs', 'themselves', 'what', 'which', 'who', 'whom', 'this', 'that', \"that'll\", 'these', 'those', 'am', 'is', 'are', 'was', 'were', 'be', 'been', 'being', 'have', 'has', 'had', 'having', 'do', 'does', 'did', 'doing', 'a', 'an', 'the', 'and', 'but', 'if', 'or', 'because', 'as', 'until', 'while', 'of', 'at', 'by', 'for', 'with', 'about', 'against', 'between', 'into', 'through', 'during', 'before', 'after', 'above', 'below', 'to', 'from', 'up', 'down', 'in', 'out', 'on', 'off', 'over', 'under', 'again', 'further', 'then', 'once', 'here', 'there', 'when', 'where', 'why', 'how', 'all', 'any', 'both', 'each', 'few', 'more', 'most', 'other', 'some', 'such', 'no', 'nor', 'not', 'only', 'own', 'same', 'so', 'than', 'too', 'very', 's', 't', 'can', 'will', 'just', 'don', \"don't\", 'should', \"should've\", 'now', 'd', 'll', 'm', 'o', 're', 've', 'y', 'ain', 'aren', \"aren't\", 'couldn', \"couldn't\", 'didn', \"didn't\", 'doesn', \"doesn't\", 'hadn', \"hadn't\", 'hasn', \"hasn't\", 'haven', \"haven't\", 'isn', \"isn't\", 'ma', 'mightn', \"mightn't\", 'mustn', \"mustn't\", 'needn', \"needn't\", 'shan', \"shan't\", 'shouldn', \"shouldn't\", 'wasn', \"wasn't\", 'weren', \"weren't\", 'won', \"won't\", 'wouldn', \"wouldn't\"], 'vect__tokenizer': <function tokenizer at 0x7f88486fa400>}\n",
      "Best accuracy: 0.928\n"
     ]
    }
   ],
   "source": [
    "# print('Best parameter set: ' + str(gs_lr_tfidf.best_params_))\n",
    "# print('Best accuracy: %.3f' % gs_lr_tfidf.best_score_)"
   ]
  },
  {
   "cell_type": "code",
   "execution_count": 27,
   "metadata": {},
   "outputs": [
    {
     "name": "stdout",
     "output_type": "stream",
     "text": [
      "Accuracy in test: 0.946\n"
     ]
    }
   ],
   "source": [
    "# clf = gs_lr_tfidf.best_estimator_\n",
    "# print('Accuracy in test: %.3f' % clf.score(X_test, y_test))"
   ]
  },
  {
   "cell_type": "markdown",
   "metadata": {},
   "source": [
    "If we would like to use the classifier in another place, or just not train it again and again everytime, we can save the model in a pickle file:"
   ]
  },
  {
   "cell_type": "code",
   "execution_count": 28,
   "metadata": {
    "collapsed": true
   },
   "outputs": [],
   "source": [
    "# import pickle\n",
    "# import os\n",
    "\n",
    "# pickle.dump(clf, open(os.path.join('data', 'logisticRegression.pkl'), 'wb'), protocol=4)"
   ]
  },
  {
   "cell_type": "markdown",
   "metadata": {},
   "source": [
    "Finally, let's run some tests :-)"
   ]
  },
  {
   "cell_type": "code",
   "execution_count": 28,
   "metadata": {},
   "outputs": [
    {
     "ename": "NameError",
     "evalue": "name 'clf' is not defined",
     "output_type": "error",
     "traceback": [
      "\u001b[0;31m---------------------------------------------------------------------------\u001b[0m",
      "\u001b[0;31mNameError\u001b[0m                                 Traceback (most recent call last)",
      "\u001b[0;32m<ipython-input-28-97cf6b14db47>\u001b[0m in \u001b[0;36m<module>\u001b[0;34m()\u001b[0m\n\u001b[1;32m      6\u001b[0m ]\n\u001b[1;32m      7\u001b[0m \u001b[0;34m\u001b[0m\u001b[0m\n\u001b[0;32m----> 8\u001b[0;31m \u001b[0mpreds\u001b[0m \u001b[0;34m=\u001b[0m \u001b[0mclf\u001b[0m\u001b[0;34m.\u001b[0m\u001b[0mpredict\u001b[0m\u001b[0;34m(\u001b[0m\u001b[0mtwits\u001b[0m\u001b[0;34m)\u001b[0m\u001b[0;34m\u001b[0m\u001b[0m\n\u001b[0m\u001b[1;32m      9\u001b[0m \u001b[0;34m\u001b[0m\u001b[0m\n\u001b[1;32m     10\u001b[0m \u001b[0;32mfor\u001b[0m \u001b[0mi\u001b[0m \u001b[0;32min\u001b[0m \u001b[0mrange\u001b[0m\u001b[0;34m(\u001b[0m\u001b[0mlen\u001b[0m\u001b[0;34m(\u001b[0m\u001b[0mtwits\u001b[0m\u001b[0;34m)\u001b[0m\u001b[0;34m)\u001b[0m\u001b[0;34m:\u001b[0m\u001b[0;34m\u001b[0m\u001b[0m\n",
      "\u001b[0;31mNameError\u001b[0m: name 'clf' is not defined"
     ]
    }
   ],
   "source": [
    "twits = [\n",
    "    \"This is really bad, I don't like it at all\",\n",
    "    \"I love this!\",\n",
    "    \":)\",\n",
    "    \"I'm sad... :(\"\n",
    "]\n",
    "\n",
    "preds = clf.predict(twits)\n",
    "\n",
    "for i in range(len(twits)):\n",
    "    print(f'{twits[i]} --> {preds[i]}')"
   ]
  },
  {
   "cell_type": "markdown",
   "metadata": {},
   "source": [
    "## And you're done! I hope you liked this!"
   ]
  }
 ],
 "metadata": {
  "kernelspec": {
   "display_name": "Python 3",
   "language": "python",
   "name": "python3"
  },
  "language_info": {
   "codemirror_mode": {
    "name": "ipython",
    "version": 3
   },
   "file_extension": ".py",
   "mimetype": "text/x-python",
   "name": "python",
   "nbconvert_exporter": "python",
   "pygments_lexer": "ipython3",
   "version": "3.6.6"
  }
 },
 "nbformat": 4,
 "nbformat_minor": 2
}
