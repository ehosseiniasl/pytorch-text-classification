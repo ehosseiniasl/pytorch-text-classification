{
 "cells": [
  {
   "cell_type": "markdown",
   "metadata": {},
   "source": [
    "# Sentiment analysis with Logistic Regression"
   ]
  },
  {
   "cell_type": "markdown",
   "metadata": {},
   "source": [
    "## Logistic Regression\n",
    "\n",
    "> Some of the explanations in this tutoarial are inspired by chapters 3 and 8 in the book _\"Python Machine Learning\"_ by Sebastian Raschka\n",
    "\n",
    "First, let's introduce what Logistic Regression is. \n",
    "\n",
    "[Logistic Regression](https://en.wikipedia.org/wiki/Logistic_regression) is a classification model that is very easy to implement and performs very well on linearly separable classes. It is one of the most widely used\n",
    "algorithms for classification in industry too, which makes it attractive to play with.\n",
    "\n",
    "_Very_ simplistically explained, Logistic Regression works as follows:\n",
    "\n",
    "![Logistic Regression](./images/logistic_regression.png)\n",
    "\n",
    "First we will define the input for our algorithm. The imput will be each sample in whatever dataset we are working with. Each sample will consist of several features. For example, if we're working with housing price prediction, the features for each sample could be the size of the house, number of rooms, etc. We'll call the input vector **X**.\n",
    "\n",
    "For the algorythm to learn, we need to define variables that we can adjust accordingly to what we want to predict. We will create a vector of _weights_ (**W**) that the model will adjust in order to predict more accurately. The process of adjusting those weights is what we call **learning**.\n",
    "\n",
    "For every input sample, we will perform a dot product of the features by the weights **XW**. This product is sometimes referred as _net input_. This will give us a real number. Since in this particular problem we want to _classify_ (positive/negative), we need squash this number in the range [0, 1]. This will give us the _probability_ of a positive event. A function that does precisely that is called **sigmoid**. The sigmoid function looks like this:\n",
    "\n",
    "![sigmoid](./images/sigmoid.svg)\n",
    "\n",
    "What sigmoid is doing is basically transforming big inputs into a value close to 1, and small inputs into a value close to 0. This is exactly what we want. \n",
    "\n",
    "We will do this for every sample in our training set and compute the errors. To calculate the error we only need to compare our prediction with the true label for each sample. We will sum the square errors of all the samples to get a global prediction error. This will be our **cost function**.\n",
    "\n",
    "A cost function is then something we want to minimize. **Gradient descent** is a method for finding the minimum of a function of multiple variables, such like the one we're dealing with here."
   ]
  },
  {
   "cell_type": "markdown",
   "metadata": {
    "collapsed": true
   },
   "source": [
    "### Gradient descent\n",
    "\n",
    "> Watch [this](https://www.youtube.com/watch?v=IHZwWFHWa-w) video for a visual introduction to Gradient Descent\n",
    "\n",
    "Once all our training samples have been computed and the error calculated with our cost function, we need to _minimize_ that cost function. A method for doing that is gradient descent. There are many [articles](https://en.wikipedia.org/wiki/Gradient_descent) that contain detailed explanations _and_ implementations of GD, so let's not do this here. However is good to have an intuition.\n",
    "\n",
    "For illustration purposes, let's think about a function with two parameters. Something like this one:\n",
    "\n",
    "![Gradient Descent](./images/Gradient_descent.png)\n",
    "\n",
    "Gradient descent will try to find the minimum of the function. To do so, we calculate the slope of the function at a certain point, and move towards the direction that makes the function decrease. There are some things to have in mind though.\n",
    "\n",
    "As you can see a function can have one or several _local minimum_. In a local minimum, the slope will be zero and GD will \"think\" it's found the global minimum. To avoid this, we can choose a bigger \"step\" when we move towards the minimum. The \"size\" of the step towards the minimun is what we call the **learning rate**, and it's another adjustable parameter.\n",
    "\n",
    "We need to be careful here: If we choose a too small learning rate, we can get stuck in a local minimum. If we instead choose a too big learning rate, we risk overshooting the global minimum. We need to experiment, and the adecuate learning rate depends on the particular problem and the data."
   ]
  },
  {
   "cell_type": "markdown",
   "metadata": {},
   "source": [
    "### The training process\n",
    "\n",
    "In order for logistic regression to learn, we need to repeat the process descrived before several times. Each one of these times is called an **epoch**. The number of epochs to run depends on the problem and the training data. It is... yes, another tunnable parameter of the algorithm.\n",
    "\n",
    "The set of all tunnable parameters is called **hyperparameters** of the model.\n",
    "\n",
    "Like with the leatning rate, we need to be careful when choosing the number of epochs: If we train too many epochs, we risk **overfitting**. This means that our model will \"memorize\" the training data and will generalize badly when presented new data. \n",
    "\n",
    "If we train too little, it will fail to find any pattern and the prediction accuracy will be very low. This is known as **underfitting**.\n",
    "\n",
    "There are techniques that help prevent overfitting. These **regularization** techniques are out of the scope of this tutorial, but... guess! It's also something to tune and experiment with :)\n",
    "\n",
    "This is why when training a model you need to set aside a _test dataset_ in order to know the accuracy of your algorithm in unknown data. The test dataset will **never** be used during training"
   ]
  },
  {
   "cell_type": "markdown",
   "metadata": {},
   "source": [
    "## Sentiment analysis\n",
    "\n",
    "Let's first of all have a look at the data"
   ]
  },
  {
   "cell_type": "code",
   "execution_count": 9,
   "metadata": {},
   "outputs": [
    {
     "data": {
      "text/html": [
       "<div>\n",
       "<style>\n",
       "    .dataframe thead tr:only-child th {\n",
       "        text-align: right;\n",
       "    }\n",
       "\n",
       "    .dataframe thead th {\n",
       "        text-align: left;\n",
       "    }\n",
       "\n",
       "    .dataframe tbody tr th {\n",
       "        vertical-align: top;\n",
       "    }\n",
       "</style>\n",
       "<table border=\"1\" class=\"dataframe\">\n",
       "  <thead>\n",
       "    <tr style=\"text-align: right;\">\n",
       "      <th></th>\n",
       "      <th>recipedetails</th>\n",
       "      <th>label</th>\n",
       "    </tr>\n",
       "  </thead>\n",
       "  <tbody>\n",
       "    <tr>\n",
       "      <th>0</th>\n",
       "      <td>add the tuna and salt saute for a while and co...</td>\n",
       "      <td>no</td>\n",
       "    </tr>\n",
       "    <tr>\n",
       "      <th>1</th>\n",
       "      <td>remove chicken from the pan and cook the bacon...</td>\n",
       "      <td>no</td>\n",
       "    </tr>\n",
       "    <tr>\n",
       "      <th>2</th>\n",
       "      <td>preheat oven to 400 degrees</td>\n",
       "      <td>yes</td>\n",
       "    </tr>\n",
       "    <tr>\n",
       "      <th>3</th>\n",
       "      <td>mix with hands till the dough is smooth if it ...</td>\n",
       "      <td>no</td>\n",
       "    </tr>\n",
       "    <tr>\n",
       "      <th>4</th>\n",
       "      <td>preheat oven to 475Âºf place peppers on an ove...</td>\n",
       "      <td>yes</td>\n",
       "    </tr>\n",
       "    <tr>\n",
       "      <th>5</th>\n",
       "      <td>serve them and enjoy the taste</td>\n",
       "      <td>no</td>\n",
       "    </tr>\n",
       "    <tr>\n",
       "      <th>6</th>\n",
       "      <td>method</td>\n",
       "      <td>yes</td>\n",
       "    </tr>\n",
       "    <tr>\n",
       "      <th>7</th>\n",
       "      <td>rise the barley</td>\n",
       "      <td>yes</td>\n",
       "    </tr>\n",
       "    <tr>\n",
       "      <th>8</th>\n",
       "      <td>combine both flours  baking powder  pumpkin pi...</td>\n",
       "      <td>yes</td>\n",
       "    </tr>\n",
       "    <tr>\n",
       "      <th>9</th>\n",
       "      <td>note fresh mulberries or loganberries  as well...</td>\n",
       "      <td>no</td>\n",
       "    </tr>\n",
       "  </tbody>\n",
       "</table>\n",
       "</div>"
      ],
      "text/plain": [
       "                                       recipedetails label\n",
       "0  add the tuna and salt saute for a while and co...    no\n",
       "1  remove chicken from the pan and cook the bacon...    no\n",
       "2                        preheat oven to 400 degrees   yes\n",
       "3  mix with hands till the dough is smooth if it ...    no\n",
       "4  preheat oven to 475Âºf place peppers on an ove...   yes\n",
       "5                     serve them and enjoy the taste    no\n",
       "6                                             method   yes\n",
       "7                                    rise the barley   yes\n",
       "8  combine both flours  baking powder  pumpkin pi...   yes\n",
       "9  note fresh mulberries or loganberries  as well...    no"
      ]
     },
     "execution_count": 9,
     "metadata": {},
     "output_type": "execute_result"
    }
   ],
   "source": [
    "import pandas as pd\n",
    "\n",
    "#Load the data into a DataFrame\n",
    "train = pd.read_csv('../pytorch-text-classification/data/question_1/train.tsv', encoding='latin-1',sep='\\t')\n",
    "test = pd.read_csv('../pytorch-text-classification/data/question_1/test.tsv', encoding='latin-1',sep='\\t')\n",
    "\n",
    "train.head(10)"
   ]
  },
  {
   "cell_type": "code",
   "execution_count": 10,
   "metadata": {},
   "outputs": [
    {
     "data": {
      "text/plain": [
       "dict_keys(['is_copy', '_data', '_item_cache', '_iloc'])"
      ]
     },
     "execution_count": 10,
     "metadata": {},
     "output_type": "execute_result"
    }
   ],
   "source": [
    "train.recipedetails"
   ]
  },
  {
   "cell_type": "markdown",
   "metadata": {},
   "source": [
    "As we can see, the structure of a twit varies a lot between twit and twit. They have different lengths, letters, numbers, extrange characters, etc. \n",
    "\n",
    "It is also important to note that **a lot** of words are not correctly spelled, for example the word _\"Juuuuuuuuuuuuuuuuussssst\"_ or the word _\"frie\"_ instear of _\"friend\"_\n",
    "\n",
    "This makes it hard to mesure how positive or negative are the words withing the corpus of twits. If they were all correct dictionary words, we could use a **lexicon** to punctuate words. However because of the nature of social media language, we cannot do that. \n",
    "\n",
    "So we need a way of scoring the words such that words that appear in positive twits have greater score that those that appear in negative twits.\n",
    "\n",
    "But first... how do we represent the twits as vectors we can input to our algorithm?\n",
    "\n",
    "### Bag of words\n",
    "\n",
    "One thing we could do to represent the twits as equal-sized vectors of numbers is the following:\n",
    "\n",
    "* Create a list (vocabulary) with all the unique words in the whole corpus of twits. \n",
    "* We construct a feature vector from each twit that contains the counts of how often each word occurs in the particular twit\n",
    "\n",
    "_Note that since the unique words in each twit represent only a small subset of all the words in the bag-of-words vocabulary, the feature vectors will mostly consist of zeros_\n",
    "\n",
    "Let's construct the bag of words. We will work with a smaller example for illustrative purposes, and at the end we will work with our real data."
   ]
  },
  {
   "cell_type": "code",
   "execution_count": 14,
   "metadata": {},
   "outputs": [
    {
     "data": {
      "text/plain": [
       "{'about': 0,\n",
       " 'am': 1,\n",
       " 'amazing': 2,\n",
       " 'best': 3,\n",
       " 'end': 4,\n",
       " 'going': 5,\n",
       " 'how': 6,\n",
       " 'is': 7,\n",
       " 'it': 8,\n",
       " 'ml': 9,\n",
       " 'not': 10,\n",
       " 'sure': 11,\n",
       " 'the': 12,\n",
       " 'this': 13,\n",
       " 'to': 14,\n",
       " 'yes': 15}"
      ]
     },
     "execution_count": 14,
     "metadata": {},
     "output_type": "execute_result"
    }
   ],
   "source": [
    "from sklearn.feature_extraction.text import CountVectorizer\n",
    "\n",
    "twits = [\n",
    "    'This is amazing!',\n",
    "    'ML is the best, yes it is',\n",
    "    'I am not sure about how this is going to end...'\n",
    "]\n",
    "\n",
    "count = CountVectorizer()\n",
    "bag = count.fit_transform(twits)\n",
    "\n",
    "count.vocabulary_"
   ]
  },
  {
   "cell_type": "markdown",
   "metadata": {},
   "source": [
    "As we can see from executing the preceding command, the vocabulary is stored in a Python dictionary that maps the unique words to integer indices. Next, let's print the feature vectors that we just created:"
   ]
  },
  {
   "cell_type": "code",
   "execution_count": 3,
   "metadata": {},
   "outputs": [
    {
     "data": {
      "text/plain": [
       "array([[0, 0, 1, 0, 0, 0, 0, 1, 0, 0, 0, 0, 0, 1, 0, 0],\n",
       "       [0, 0, 0, 1, 0, 0, 0, 2, 1, 1, 0, 0, 1, 0, 0, 1],\n",
       "       [1, 1, 0, 0, 1, 1, 1, 1, 0, 0, 1, 1, 0, 1, 1, 0]], dtype=int64)"
      ]
     },
     "execution_count": 3,
     "metadata": {},
     "output_type": "execute_result"
    }
   ],
   "source": [
    "bag.toarray()"
   ]
  },
  {
   "cell_type": "markdown",
   "metadata": {},
   "source": [
    "Each index position in the feature vectors corresponds to the integer values that are stored as dictionary items in the CountVectorizer vocabulary. For example, the first feature at index position 0 resembles the count of the word 'about' , which only occurs in the last document, and the word 'is' , at index position 7, occurs in all three twits (two times in the second twit). These values in the feature vectors are also called the **raw term frequencies**: `tf(t,d )` —the number of times a term `t` occurs in a document `d`."
   ]
  },
  {
   "cell_type": "markdown",
   "metadata": {},
   "source": [
    "### How relevant are words? Term frequency-inverse document frequency\n",
    "\n",
    "We could use these raw term frequencies to score the words in our algorithm. There is a problem though: If a word is very frequent in _all_ documents, then it probably doesn't carry a lot of information. In order to tacke this problem we can use **term frequency-inverse document frequency**, which will reduce the score the more frequent the word is accross all twits. It is calculated like this:\n",
    "\n",
    "\\begin{equation*}\n",
    "tf-idf(t,d) = tf(t,d) ~ idf(t,d)\n",
    "\\end{equation*}\n",
    "\n",
    "_tf(t,d)_ is the raw term frequency descrived above. _idf(t,d)_ is the inverse document frequency, than can be calculated as follows:\n",
    "\n",
    "\\begin{equation*}\n",
    "\\log \\frac{n_d}{1+df\\left(d,t\\right)}\n",
    "\\end{equation*}\n",
    "\n",
    "where `n` is the total number of documents and _df(t,d)_ is the number of documents where the term `t` appears. \n",
    "\n",
    "The `1` addition in the denominator is just to avoid zero term for terms that appear in all documents. Ans the `log` ensures that low frequency term don't get too much weight.\n",
    "\n",
    "Fortunately for us `scikit-learn` does all those calculations for us:"
   ]
  },
  {
   "cell_type": "code",
   "execution_count": 15,
   "metadata": {},
   "outputs": [
    {
     "data": {
      "text/plain": [
       "array([[0.  , 0.  , 0.72, 0.  , 0.  , 0.  , 0.  , 0.43, 0.  , 0.  , 0.  ,\n",
       "        0.  , 0.  , 0.55, 0.  , 0.  ],\n",
       "       [0.  , 0.  , 0.  , 0.4 , 0.  , 0.  , 0.  , 0.47, 0.4 , 0.4 , 0.  ,\n",
       "        0.  , 0.4 , 0.  , 0.  , 0.4 ],\n",
       "       [0.33, 0.33, 0.  , 0.  , 0.33, 0.33, 0.33, 0.2 , 0.  , 0.  , 0.33,\n",
       "        0.33, 0.  , 0.25, 0.33, 0.  ]])"
      ]
     },
     "execution_count": 15,
     "metadata": {},
     "output_type": "execute_result"
    }
   ],
   "source": [
    "import numpy as np\n",
    "\n",
    "from sklearn.feature_extraction.text import TfidfTransformer\n",
    "\n",
    "tfidf = TfidfTransformer(use_idf=True,\n",
    "                         norm='l2',\n",
    "                         smooth_idf=True)\n",
    "\n",
    "np.set_printoptions(precision=2)\n",
    "\n",
    "# Feed the tf-idf transformer with our previously created Bag of Words\n",
    "tfidf.fit_transform(bag).toarray()"
   ]
  },
  {
   "cell_type": "markdown",
   "metadata": {},
   "source": [
    "As you can see, words that appear in all documents like _is_ (with 0.47 ), get a lower score than others that don't appear in all documents, like _amazing_ (with 0.72).\n",
    "\n",
    "Note also that `norm='l2'` parameter: This is an important one, and what is doing is normalize the tf-idfs so that they're all in the same scale and thus work better with Logistic Regression."
   ]
  },
  {
   "cell_type": "markdown",
   "metadata": {},
   "source": [
    "## Data clean up (yay...)\n",
    "\n",
    "### Removing stop words\n",
    "\n",
    "Now that we know how to format and score our input, we can start doing the analysis! Can we?... Well, we _can_, but let's look at our **real** vocabulary. Specifically, the most common words:"
   ]
  },
  {
   "cell_type": "code",
   "execution_count": 11,
   "metadata": {},
   "outputs": [
    {
     "data": {
      "text/plain": [
       "[('the', 10866),\n",
       " ('', 10136),\n",
       " ('and', 9098),\n",
       " ('a', 5676),\n",
       " ('to', 4750),\n",
       " ('in', 4748),\n",
       " ('with', 3095),\n",
       " ('of', 2786),\n",
       " ('add', 2564),\n",
       " ('for', 2526),\n",
       " ('until', 2364),\n",
       " ('minutes', 2038),\n",
       " ('on', 1578),\n",
       " ('or', 1573),\n",
       " ('into', 1391),\n",
       " ('heat', 1290),\n",
       " ('it', 1229),\n",
       " ('is', 1103),\n",
       " ('water', 1023),\n",
       " ('over', 986)]"
      ]
     },
     "execution_count": 11,
     "metadata": {},
     "output_type": "execute_result"
    }
   ],
   "source": [
    "from collections import Counter\n",
    "\n",
    "vocab = Counter()\n",
    "for twit in train.recipedetails:\n",
    "    for word in twit.split(' '):\n",
    "        vocab[word] += 1\n",
    "\n",
    "vocab.most_common(20)"
   ]
  },
  {
   "cell_type": "markdown",
   "metadata": {},
   "source": [
    "As you can see, the most common words are meaningless in terms of sentiment: _I, to, the, and_... they don't give any information on positiveness or negativeness. They're basically **noise** that can most probably be eliminated. Let's see the whole distribution to convince ourselves of this:"
   ]
  },
  {
   "cell_type": "code",
   "execution_count": 12,
   "metadata": {},
   "outputs": [
    {
     "data": {
      "text/html": [
       "\n",
       "    <div class=\"bk-root\">\n",
       "        <a href=\"https://bokeh.pydata.org\" target=\"_blank\" class=\"bk-logo bk-logo-small bk-logo-notebook\"></a>\n",
       "        <span id=\"fc86c40e-b173-49be-97c4-6be91360fe8c\">Loading BokehJS ...</span>\n",
       "    </div>"
      ]
     },
     "metadata": {},
     "output_type": "display_data"
    },
    {
     "data": {
      "application/javascript": [
       "\n",
       "(function(root) {\n",
       "  function now() {\n",
       "    return new Date();\n",
       "  }\n",
       "\n",
       "  var force = true;\n",
       "\n",
       "  if (typeof (root._bokeh_onload_callbacks) === \"undefined\" || force === true) {\n",
       "    root._bokeh_onload_callbacks = [];\n",
       "    root._bokeh_is_loading = undefined;\n",
       "  }\n",
       "\n",
       "  var JS_MIME_TYPE = 'application/javascript';\n",
       "  var HTML_MIME_TYPE = 'text/html';\n",
       "  var EXEC_MIME_TYPE = 'application/vnd.bokehjs_exec.v0+json';\n",
       "  var CLASS_NAME = 'output_bokeh rendered_html';\n",
       "\n",
       "  /**\n",
       "   * Render data to the DOM node\n",
       "   */\n",
       "  function render(props, node) {\n",
       "    var script = document.createElement(\"script\");\n",
       "    node.appendChild(script);\n",
       "  }\n",
       "\n",
       "  /**\n",
       "   * Handle when an output is cleared or removed\n",
       "   */\n",
       "  function handleClearOutput(event, handle) {\n",
       "    var cell = handle.cell;\n",
       "\n",
       "    var id = cell.output_area._bokeh_element_id;\n",
       "    var server_id = cell.output_area._bokeh_server_id;\n",
       "    // Clean up Bokeh references\n",
       "    if (id !== undefined) {\n",
       "      Bokeh.index[id].model.document.clear();\n",
       "      delete Bokeh.index[id];\n",
       "    }\n",
       "\n",
       "    if (server_id !== undefined) {\n",
       "      // Clean up Bokeh references\n",
       "      var cmd = \"from bokeh.io.state import curstate; print(curstate().uuid_to_server['\" + server_id + \"'].get_sessions()[0].document.roots[0]._id)\";\n",
       "      cell.notebook.kernel.execute(cmd, {\n",
       "        iopub: {\n",
       "          output: function(msg) {\n",
       "            var element_id = msg.content.text.trim();\n",
       "            Bokeh.index[element_id].model.document.clear();\n",
       "            delete Bokeh.index[element_id];\n",
       "          }\n",
       "        }\n",
       "      });\n",
       "      // Destroy server and session\n",
       "      var cmd = \"import bokeh.io.notebook as ion; ion.destroy_server('\" + server_id + \"')\";\n",
       "      cell.notebook.kernel.execute(cmd);\n",
       "    }\n",
       "  }\n",
       "\n",
       "  /**\n",
       "   * Handle when a new output is added\n",
       "   */\n",
       "  function handleAddOutput(event, handle) {\n",
       "    var output_area = handle.output_area;\n",
       "    var output = handle.output;\n",
       "\n",
       "    // limit handleAddOutput to display_data with EXEC_MIME_TYPE content only\n",
       "    if ((output.output_type != \"display_data\") || (!output.data.hasOwnProperty(EXEC_MIME_TYPE))) {\n",
       "      return\n",
       "    }\n",
       "\n",
       "    var toinsert = output_area.element.find(`.${CLASS_NAME.split(' ')[0]}`);\n",
       "\n",
       "    if (output.metadata[EXEC_MIME_TYPE][\"id\"] !== undefined) {\n",
       "      toinsert[0].firstChild.textContent = output.data[JS_MIME_TYPE];\n",
       "      // store reference to embed id on output_area\n",
       "      output_area._bokeh_element_id = output.metadata[EXEC_MIME_TYPE][\"id\"];\n",
       "    }\n",
       "    if (output.metadata[EXEC_MIME_TYPE][\"server_id\"] !== undefined) {\n",
       "      var bk_div = document.createElement(\"div\");\n",
       "      bk_div.innerHTML = output.data[HTML_MIME_TYPE];\n",
       "      var script_attrs = bk_div.children[0].attributes;\n",
       "      for (var i = 0; i < script_attrs.length; i++) {\n",
       "        toinsert[0].firstChild.setAttribute(script_attrs[i].name, script_attrs[i].value);\n",
       "      }\n",
       "      // store reference to server id on output_area\n",
       "      output_area._bokeh_server_id = output.metadata[EXEC_MIME_TYPE][\"server_id\"];\n",
       "    }\n",
       "  }\n",
       "\n",
       "  function register_renderer(events, OutputArea) {\n",
       "\n",
       "    function append_mime(data, metadata, element) {\n",
       "      // create a DOM node to render to\n",
       "      var toinsert = this.create_output_subarea(\n",
       "        metadata,\n",
       "        CLASS_NAME,\n",
       "        EXEC_MIME_TYPE\n",
       "      );\n",
       "      this.keyboard_manager.register_events(toinsert);\n",
       "      // Render to node\n",
       "      var props = {data: data, metadata: metadata[EXEC_MIME_TYPE]};\n",
       "      render(props, toinsert[0]);\n",
       "      element.append(toinsert);\n",
       "      return toinsert\n",
       "    }\n",
       "\n",
       "    /* Handle when an output is cleared or removed */\n",
       "    events.on('clear_output.CodeCell', handleClearOutput);\n",
       "    events.on('delete.Cell', handleClearOutput);\n",
       "\n",
       "    /* Handle when a new output is added */\n",
       "    events.on('output_added.OutputArea', handleAddOutput);\n",
       "\n",
       "    /**\n",
       "     * Register the mime type and append_mime function with output_area\n",
       "     */\n",
       "    OutputArea.prototype.register_mime_type(EXEC_MIME_TYPE, append_mime, {\n",
       "      /* Is output safe? */\n",
       "      safe: true,\n",
       "      /* Index of renderer in `output_area.display_order` */\n",
       "      index: 0\n",
       "    });\n",
       "  }\n",
       "\n",
       "  // register the mime type if in Jupyter Notebook environment and previously unregistered\n",
       "  if (root.Jupyter !== undefined) {\n",
       "    var events = require('base/js/events');\n",
       "    var OutputArea = require('notebook/js/outputarea').OutputArea;\n",
       "\n",
       "    if (OutputArea.prototype.mime_types().indexOf(EXEC_MIME_TYPE) == -1) {\n",
       "      register_renderer(events, OutputArea);\n",
       "    }\n",
       "  }\n",
       "\n",
       "  \n",
       "  if (typeof (root._bokeh_timeout) === \"undefined\" || force === true) {\n",
       "    root._bokeh_timeout = Date.now() + 5000;\n",
       "    root._bokeh_failed_load = false;\n",
       "  }\n",
       "\n",
       "  var NB_LOAD_WARNING = {'data': {'text/html':\n",
       "     \"<div style='background-color: #fdd'>\\n\"+\n",
       "     \"<p>\\n\"+\n",
       "     \"BokehJS does not appear to have successfully loaded. If loading BokehJS from CDN, this \\n\"+\n",
       "     \"may be due to a slow or bad network connection. Possible fixes:\\n\"+\n",
       "     \"</p>\\n\"+\n",
       "     \"<ul>\\n\"+\n",
       "     \"<li>re-rerun `output_notebook()` to attempt to load from CDN again, or</li>\\n\"+\n",
       "     \"<li>use INLINE resources instead, as so:</li>\\n\"+\n",
       "     \"</ul>\\n\"+\n",
       "     \"<code>\\n\"+\n",
       "     \"from bokeh.resources import INLINE\\n\"+\n",
       "     \"output_notebook(resources=INLINE)\\n\"+\n",
       "     \"</code>\\n\"+\n",
       "     \"</div>\"}};\n",
       "\n",
       "  function display_loaded() {\n",
       "    var el = document.getElementById(\"fc86c40e-b173-49be-97c4-6be91360fe8c\");\n",
       "    if (el != null) {\n",
       "      el.textContent = \"BokehJS is loading...\";\n",
       "    }\n",
       "    if (root.Bokeh !== undefined) {\n",
       "      if (el != null) {\n",
       "        el.textContent = \"BokehJS \" + root.Bokeh.version + \" successfully loaded.\";\n",
       "      }\n",
       "    } else if (Date.now() < root._bokeh_timeout) {\n",
       "      setTimeout(display_loaded, 100)\n",
       "    }\n",
       "  }\n",
       "\n",
       "\n",
       "  function run_callbacks() {\n",
       "    try {\n",
       "      root._bokeh_onload_callbacks.forEach(function(callback) { callback() });\n",
       "    }\n",
       "    finally {\n",
       "      delete root._bokeh_onload_callbacks\n",
       "    }\n",
       "    console.info(\"Bokeh: all callbacks have finished\");\n",
       "  }\n",
       "\n",
       "  function load_libs(js_urls, callback) {\n",
       "    root._bokeh_onload_callbacks.push(callback);\n",
       "    if (root._bokeh_is_loading > 0) {\n",
       "      console.log(\"Bokeh: BokehJS is being loaded, scheduling callback at\", now());\n",
       "      return null;\n",
       "    }\n",
       "    if (js_urls == null || js_urls.length === 0) {\n",
       "      run_callbacks();\n",
       "      return null;\n",
       "    }\n",
       "    console.log(\"Bokeh: BokehJS not loaded, scheduling load and callback at\", now());\n",
       "    root._bokeh_is_loading = js_urls.length;\n",
       "    for (var i = 0; i < js_urls.length; i++) {\n",
       "      var url = js_urls[i];\n",
       "      var s = document.createElement('script');\n",
       "      s.src = url;\n",
       "      s.async = false;\n",
       "      s.onreadystatechange = s.onload = function() {\n",
       "        root._bokeh_is_loading--;\n",
       "        if (root._bokeh_is_loading === 0) {\n",
       "          console.log(\"Bokeh: all BokehJS libraries loaded\");\n",
       "          run_callbacks()\n",
       "        }\n",
       "      };\n",
       "      s.onerror = function() {\n",
       "        console.warn(\"failed to load library \" + url);\n",
       "      };\n",
       "      console.log(\"Bokeh: injecting script tag for BokehJS library: \", url);\n",
       "      document.getElementsByTagName(\"head\")[0].appendChild(s);\n",
       "    }\n",
       "  };var element = document.getElementById(\"fc86c40e-b173-49be-97c4-6be91360fe8c\");\n",
       "  if (element == null) {\n",
       "    console.log(\"Bokeh: ERROR: autoload.js configured with elementid 'fc86c40e-b173-49be-97c4-6be91360fe8c' but no matching script tag was found. \")\n",
       "    return false;\n",
       "  }\n",
       "\n",
       "  var js_urls = [\"https://cdn.pydata.org/bokeh/release/bokeh-0.12.10.min.js\", \"https://cdn.pydata.org/bokeh/release/bokeh-widgets-0.12.10.min.js\", \"https://cdn.pydata.org/bokeh/release/bokeh-tables-0.12.10.min.js\", \"https://cdn.pydata.org/bokeh/release/bokeh-gl-0.12.10.min.js\"];\n",
       "\n",
       "  var inline_js = [\n",
       "    function(Bokeh) {\n",
       "      Bokeh.set_log_level(\"info\");\n",
       "    },\n",
       "    \n",
       "    function(Bokeh) {\n",
       "      \n",
       "    },\n",
       "    function(Bokeh) {\n",
       "      console.log(\"Bokeh: injecting CSS: https://cdn.pydata.org/bokeh/release/bokeh-0.12.10.min.css\");\n",
       "      Bokeh.embed.inject_css(\"https://cdn.pydata.org/bokeh/release/bokeh-0.12.10.min.css\");\n",
       "      console.log(\"Bokeh: injecting CSS: https://cdn.pydata.org/bokeh/release/bokeh-widgets-0.12.10.min.css\");\n",
       "      Bokeh.embed.inject_css(\"https://cdn.pydata.org/bokeh/release/bokeh-widgets-0.12.10.min.css\");\n",
       "      console.log(\"Bokeh: injecting CSS: https://cdn.pydata.org/bokeh/release/bokeh-tables-0.12.10.min.css\");\n",
       "      Bokeh.embed.inject_css(\"https://cdn.pydata.org/bokeh/release/bokeh-tables-0.12.10.min.css\");\n",
       "    }\n",
       "  ];\n",
       "\n",
       "  function run_inline_js() {\n",
       "    \n",
       "    if ((root.Bokeh !== undefined) || (force === true)) {\n",
       "      for (var i = 0; i < inline_js.length; i++) {\n",
       "        inline_js[i].call(root, root.Bokeh);\n",
       "      }if (force === true) {\n",
       "        display_loaded();\n",
       "      }} else if (Date.now() < root._bokeh_timeout) {\n",
       "      setTimeout(run_inline_js, 100);\n",
       "    } else if (!root._bokeh_failed_load) {\n",
       "      console.log(\"Bokeh: BokehJS failed to load within specified timeout.\");\n",
       "      root._bokeh_failed_load = true;\n",
       "    } else if (force !== true) {\n",
       "      var cell = $(document.getElementById(\"fc86c40e-b173-49be-97c4-6be91360fe8c\")).parents('.cell').data().cell;\n",
       "      cell.output_area.append_execute_result(NB_LOAD_WARNING)\n",
       "    }\n",
       "\n",
       "  }\n",
       "\n",
       "  if (root._bokeh_is_loading === 0) {\n",
       "    console.log(\"Bokeh: BokehJS loaded, going straight to plotting\");\n",
       "    run_inline_js();\n",
       "  } else {\n",
       "    load_libs(js_urls, function() {\n",
       "      console.log(\"Bokeh: BokehJS plotting callback run at\", now());\n",
       "      run_inline_js();\n",
       "    });\n",
       "  }\n",
       "}(window));"
      ],
      "application/vnd.bokehjs_load.v0+json": "\n(function(root) {\n  function now() {\n    return new Date();\n  }\n\n  var force = true;\n\n  if (typeof (root._bokeh_onload_callbacks) === \"undefined\" || force === true) {\n    root._bokeh_onload_callbacks = [];\n    root._bokeh_is_loading = undefined;\n  }\n\n  \n\n  \n  if (typeof (root._bokeh_timeout) === \"undefined\" || force === true) {\n    root._bokeh_timeout = Date.now() + 5000;\n    root._bokeh_failed_load = false;\n  }\n\n  var NB_LOAD_WARNING = {'data': {'text/html':\n     \"<div style='background-color: #fdd'>\\n\"+\n     \"<p>\\n\"+\n     \"BokehJS does not appear to have successfully loaded. If loading BokehJS from CDN, this \\n\"+\n     \"may be due to a slow or bad network connection. Possible fixes:\\n\"+\n     \"</p>\\n\"+\n     \"<ul>\\n\"+\n     \"<li>re-rerun `output_notebook()` to attempt to load from CDN again, or</li>\\n\"+\n     \"<li>use INLINE resources instead, as so:</li>\\n\"+\n     \"</ul>\\n\"+\n     \"<code>\\n\"+\n     \"from bokeh.resources import INLINE\\n\"+\n     \"output_notebook(resources=INLINE)\\n\"+\n     \"</code>\\n\"+\n     \"</div>\"}};\n\n  function display_loaded() {\n    var el = document.getElementById(\"fc86c40e-b173-49be-97c4-6be91360fe8c\");\n    if (el != null) {\n      el.textContent = \"BokehJS is loading...\";\n    }\n    if (root.Bokeh !== undefined) {\n      if (el != null) {\n        el.textContent = \"BokehJS \" + root.Bokeh.version + \" successfully loaded.\";\n      }\n    } else if (Date.now() < root._bokeh_timeout) {\n      setTimeout(display_loaded, 100)\n    }\n  }\n\n\n  function run_callbacks() {\n    try {\n      root._bokeh_onload_callbacks.forEach(function(callback) { callback() });\n    }\n    finally {\n      delete root._bokeh_onload_callbacks\n    }\n    console.info(\"Bokeh: all callbacks have finished\");\n  }\n\n  function load_libs(js_urls, callback) {\n    root._bokeh_onload_callbacks.push(callback);\n    if (root._bokeh_is_loading > 0) {\n      console.log(\"Bokeh: BokehJS is being loaded, scheduling callback at\", now());\n      return null;\n    }\n    if (js_urls == null || js_urls.length === 0) {\n      run_callbacks();\n      return null;\n    }\n    console.log(\"Bokeh: BokehJS not loaded, scheduling load and callback at\", now());\n    root._bokeh_is_loading = js_urls.length;\n    for (var i = 0; i < js_urls.length; i++) {\n      var url = js_urls[i];\n      var s = document.createElement('script');\n      s.src = url;\n      s.async = false;\n      s.onreadystatechange = s.onload = function() {\n        root._bokeh_is_loading--;\n        if (root._bokeh_is_loading === 0) {\n          console.log(\"Bokeh: all BokehJS libraries loaded\");\n          run_callbacks()\n        }\n      };\n      s.onerror = function() {\n        console.warn(\"failed to load library \" + url);\n      };\n      console.log(\"Bokeh: injecting script tag for BokehJS library: \", url);\n      document.getElementsByTagName(\"head\")[0].appendChild(s);\n    }\n  };var element = document.getElementById(\"fc86c40e-b173-49be-97c4-6be91360fe8c\");\n  if (element == null) {\n    console.log(\"Bokeh: ERROR: autoload.js configured with elementid 'fc86c40e-b173-49be-97c4-6be91360fe8c' but no matching script tag was found. \")\n    return false;\n  }\n\n  var js_urls = [\"https://cdn.pydata.org/bokeh/release/bokeh-0.12.10.min.js\", \"https://cdn.pydata.org/bokeh/release/bokeh-widgets-0.12.10.min.js\", \"https://cdn.pydata.org/bokeh/release/bokeh-tables-0.12.10.min.js\", \"https://cdn.pydata.org/bokeh/release/bokeh-gl-0.12.10.min.js\"];\n\n  var inline_js = [\n    function(Bokeh) {\n      Bokeh.set_log_level(\"info\");\n    },\n    \n    function(Bokeh) {\n      \n    },\n    function(Bokeh) {\n      console.log(\"Bokeh: injecting CSS: https://cdn.pydata.org/bokeh/release/bokeh-0.12.10.min.css\");\n      Bokeh.embed.inject_css(\"https://cdn.pydata.org/bokeh/release/bokeh-0.12.10.min.css\");\n      console.log(\"Bokeh: injecting CSS: https://cdn.pydata.org/bokeh/release/bokeh-widgets-0.12.10.min.css\");\n      Bokeh.embed.inject_css(\"https://cdn.pydata.org/bokeh/release/bokeh-widgets-0.12.10.min.css\");\n      console.log(\"Bokeh: injecting CSS: https://cdn.pydata.org/bokeh/release/bokeh-tables-0.12.10.min.css\");\n      Bokeh.embed.inject_css(\"https://cdn.pydata.org/bokeh/release/bokeh-tables-0.12.10.min.css\");\n    }\n  ];\n\n  function run_inline_js() {\n    \n    if ((root.Bokeh !== undefined) || (force === true)) {\n      for (var i = 0; i < inline_js.length; i++) {\n        inline_js[i].call(root, root.Bokeh);\n      }if (force === true) {\n        display_loaded();\n      }} else if (Date.now() < root._bokeh_timeout) {\n      setTimeout(run_inline_js, 100);\n    } else if (!root._bokeh_failed_load) {\n      console.log(\"Bokeh: BokehJS failed to load within specified timeout.\");\n      root._bokeh_failed_load = true;\n    } else if (force !== true) {\n      var cell = $(document.getElementById(\"fc86c40e-b173-49be-97c4-6be91360fe8c\")).parents('.cell').data().cell;\n      cell.output_area.append_execute_result(NB_LOAD_WARNING)\n    }\n\n  }\n\n  if (root._bokeh_is_loading === 0) {\n    console.log(\"Bokeh: BokehJS loaded, going straight to plotting\");\n    run_inline_js();\n  } else {\n    load_libs(js_urls, function() {\n      console.log(\"Bokeh: BokehJS plotting callback run at\", now());\n      run_inline_js();\n    });\n  }\n}(window));"
     },
     "metadata": {},
     "output_type": "display_data"
    }
   ],
   "source": [
    "from bokeh.models import ColumnDataSource, LabelSet\n",
    "from bokeh.plotting import figure, show, output_file\n",
    "from bokeh.io import output_notebook\n",
    "output_notebook()"
   ]
  },
  {
   "cell_type": "code",
   "execution_count": 16,
   "metadata": {},
   "outputs": [
    {
     "data": {
      "text/html": [
       "\n",
       "<div class=\"bk-root\">\n",
       "    <div class=\"bk-plotdiv\" id=\"f15242db-ba84-4244-a755-d1350c867775\"></div>\n",
       "</div>"
      ]
     },
     "metadata": {},
     "output_type": "display_data"
    },
    {
     "data": {
      "application/javascript": [
       "(function(root) {\n",
       "  function embed_document(root) {\n",
       "    var docs_json = {\"1c2ffea5-c4d8-4266-b751-05c06fafd625\":{\"roots\":{\"references\":[{\"attributes\":{},\"id\":\"d7f960d9-73d2-43d3-802d-0c36cbff043c\",\"type\":\"ResetTool\"},{\"attributes\":{\"plot\":null,\"text\":\"Word distribution accross all twits\"},\"id\":\"e26b4d7a-ef7c-4a7f-96d8-f5ba36b8c6f9\",\"type\":\"Title\"},{\"attributes\":{},\"id\":\"f242bbc4-6108-44bd-a2c9-95e7cc9f3713\",\"type\":\"SaveTool\"},{\"attributes\":{},\"id\":\"4e6167d7-dbee-46f6-b145-4f437a0d6ac0\",\"type\":\"LinearScale\"},{\"attributes\":{\"source\":{\"id\":\"a21e22ca-cdee-4b1c-a3d6-eb7010f3ecc6\",\"type\":\"ColumnDataSource\"}},\"id\":\"a8e63550-8be9-4454-a1e6-af37b5afa7f4\",\"type\":\"CDSView\"},{\"attributes\":{\"bottom\":{\"value\":0},\"fill_color\":{\"value\":\"#1f77b4\"},\"left\":{\"field\":\"left\"},\"line_color\":{\"value\":\"#555555\"},\"right\":{\"field\":\"right\"},\"top\":{\"field\":\"top\"}},\"id\":\"1656d1cf-b781-4c8c-bd8a-c303796e19e0\",\"type\":\"Quad\"},{\"attributes\":{\"callback\":null},\"id\":\"e7e3352b-4c23-475f-aed6-783d17eb1d92\",\"type\":\"DataRange1d\"},{\"attributes\":{},\"id\":\"ed5fbd5b-51ef-4c54-9d20-48708bb17360\",\"type\":\"LinearScale\"},{\"attributes\":{},\"id\":\"aaf0a7b6-1f21-40aa-92b4-d7c3e8be56b5\",\"type\":\"BasicTickFormatter\"},{\"attributes\":{\"formatter\":{\"id\":\"aaf0a7b6-1f21-40aa-92b4-d7c3e8be56b5\",\"type\":\"BasicTickFormatter\"},\"plot\":{\"id\":\"4c0f6bba-e6e3-4bf1-886c-aed14e1cc7f1\",\"subtype\":\"Figure\",\"type\":\"Plot\"},\"ticker\":{\"id\":\"affc3c01-240c-45a1-8f01-8ebe3ab422bf\",\"type\":\"BasicTicker\"}},\"id\":\"0a082354-fdae-4cb1-821b-247eb1f0d585\",\"type\":\"LinearAxis\"},{\"attributes\":{},\"id\":\"affc3c01-240c-45a1-8f01-8ebe3ab422bf\",\"type\":\"BasicTicker\"},{\"attributes\":{\"plot\":{\"id\":\"4c0f6bba-e6e3-4bf1-886c-aed14e1cc7f1\",\"subtype\":\"Figure\",\"type\":\"Plot\"},\"ticker\":{\"id\":\"affc3c01-240c-45a1-8f01-8ebe3ab422bf\",\"type\":\"BasicTicker\"}},\"id\":\"30324ae6-60c1-4242-92d4-9c626ddd8cc8\",\"type\":\"Grid\"},{\"attributes\":{\"formatter\":{\"id\":\"e777b396-aa8b-4a87-9dd9-d49e0c7c8329\",\"type\":\"BasicTickFormatter\"},\"plot\":{\"id\":\"4c0f6bba-e6e3-4bf1-886c-aed14e1cc7f1\",\"subtype\":\"Figure\",\"type\":\"Plot\"},\"ticker\":{\"id\":\"18c7235f-7b6f-4dcc-bdd6-6caaf018e069\",\"type\":\"BasicTicker\"}},\"id\":\"b8d21bad-5946-4b8e-bfdd-60046ce821e6\",\"type\":\"LinearAxis\"},{\"attributes\":{\"callback\":null,\"column_names\":[\"left\",\"right\",\"top\"],\"data\":{\"left\":{\"__ndarray__\":\"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\",\"dtype\":\"float64\",\"shape\":[500]},\"right\":{\"__ndarray__\":\"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\",\"dtype\":\"float64\",\"shape\":[500]},\"top\":{\"__ndarray__\":\"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\",\"dtype\":\"float64\",\"shape\":[500]}}},\"id\":\"a21e22ca-cdee-4b1c-a3d6-eb7010f3ecc6\",\"type\":\"ColumnDataSource\"},{\"attributes\":{\"bottom\":{\"value\":0},\"fill_alpha\":{\"value\":0.1},\"fill_color\":{\"value\":\"#1f77b4\"},\"left\":{\"field\":\"left\"},\"line_alpha\":{\"value\":0.1},\"line_color\":{\"value\":\"#1f77b4\"},\"right\":{\"field\":\"right\"},\"top\":{\"field\":\"top\"}},\"id\":\"8679f24d-c95f-4b8a-9bfc-000bdfe00aa5\",\"type\":\"Quad\"},{\"attributes\":{},\"id\":\"18c7235f-7b6f-4dcc-bdd6-6caaf018e069\",\"type\":\"BasicTicker\"},{\"attributes\":{\"callback\":null},\"id\":\"8947b0b0-bd63-43c3-a0cc-b08b59760416\",\"type\":\"DataRange1d\"},{\"attributes\":{\"dimension\":1,\"plot\":{\"id\":\"4c0f6bba-e6e3-4bf1-886c-aed14e1cc7f1\",\"subtype\":\"Figure\",\"type\":\"Plot\"},\"ticker\":{\"id\":\"18c7235f-7b6f-4dcc-bdd6-6caaf018e069\",\"type\":\"BasicTicker\"}},\"id\":\"5756987b-0b4d-469d-a7d7-1d2ab16231f4\",\"type\":\"Grid\"},{\"attributes\":{\"data_source\":{\"id\":\"a21e22ca-cdee-4b1c-a3d6-eb7010f3ecc6\",\"type\":\"ColumnDataSource\"},\"glyph\":{\"id\":\"1656d1cf-b781-4c8c-bd8a-c303796e19e0\",\"type\":\"Quad\"},\"hover_glyph\":null,\"muted_glyph\":null,\"nonselection_glyph\":{\"id\":\"8679f24d-c95f-4b8a-9bfc-000bdfe00aa5\",\"type\":\"Quad\"},\"selection_glyph\":null,\"view\":{\"id\":\"a8e63550-8be9-4454-a1e6-af37b5afa7f4\",\"type\":\"CDSView\"}},\"id\":\"22fff6c7-43f1-48c6-a960-bbd7580af652\",\"type\":\"GlyphRenderer\"},{\"attributes\":{\"active_drag\":\"auto\",\"active_inspect\":\"auto\",\"active_scroll\":\"auto\",\"active_tap\":\"auto\",\"tools\":[{\"id\":\"1b27d5ec-f231-4158-b7f1-61e5667713e0\",\"type\":\"PanTool\"},{\"id\":\"d930ffff-3369-4b49-8638-0603fbd1d313\",\"type\":\"WheelZoomTool\"},{\"id\":\"d7f960d9-73d2-43d3-802d-0c36cbff043c\",\"type\":\"ResetTool\"},{\"id\":\"f242bbc4-6108-44bd-a2c9-95e7cc9f3713\",\"type\":\"SaveTool\"}]},\"id\":\"7a9f7ab4-134b-47cb-b5f7-38c1413402aa\",\"type\":\"Toolbar\"},{\"attributes\":{},\"id\":\"1b27d5ec-f231-4158-b7f1-61e5667713e0\",\"type\":\"PanTool\"},{\"attributes\":{},\"id\":\"e777b396-aa8b-4a87-9dd9-d49e0c7c8329\",\"type\":\"BasicTickFormatter\"},{\"attributes\":{},\"id\":\"d930ffff-3369-4b49-8638-0603fbd1d313\",\"type\":\"WheelZoomTool\"},{\"attributes\":{\"below\":[{\"id\":\"0a082354-fdae-4cb1-821b-247eb1f0d585\",\"type\":\"LinearAxis\"}],\"left\":[{\"id\":\"b8d21bad-5946-4b8e-bfdd-60046ce821e6\",\"type\":\"LinearAxis\"}],\"renderers\":[{\"id\":\"0a082354-fdae-4cb1-821b-247eb1f0d585\",\"type\":\"LinearAxis\"},{\"id\":\"30324ae6-60c1-4242-92d4-9c626ddd8cc8\",\"type\":\"Grid\"},{\"id\":\"b8d21bad-5946-4b8e-bfdd-60046ce821e6\",\"type\":\"LinearAxis\"},{\"id\":\"5756987b-0b4d-469d-a7d7-1d2ab16231f4\",\"type\":\"Grid\"},{\"id\":\"22fff6c7-43f1-48c6-a960-bbd7580af652\",\"type\":\"GlyphRenderer\"}],\"title\":{\"id\":\"e26b4d7a-ef7c-4a7f-96d8-f5ba36b8c6f9\",\"type\":\"Title\"},\"toolbar\":{\"id\":\"7a9f7ab4-134b-47cb-b5f7-38c1413402aa\",\"type\":\"Toolbar\"},\"toolbar_location\":\"above\",\"x_range\":{\"id\":\"8947b0b0-bd63-43c3-a0cc-b08b59760416\",\"type\":\"DataRange1d\"},\"x_scale\":{\"id\":\"4e6167d7-dbee-46f6-b145-4f437a0d6ac0\",\"type\":\"LinearScale\"},\"y_range\":{\"id\":\"e7e3352b-4c23-475f-aed6-783d17eb1d92\",\"type\":\"DataRange1d\"},\"y_scale\":{\"id\":\"ed5fbd5b-51ef-4c54-9d20-48708bb17360\",\"type\":\"LinearScale\"}},\"id\":\"4c0f6bba-e6e3-4bf1-886c-aed14e1cc7f1\",\"subtype\":\"Figure\",\"type\":\"Plot\"}],\"root_ids\":[\"4c0f6bba-e6e3-4bf1-886c-aed14e1cc7f1\"]},\"title\":\"Bokeh Application\",\"version\":\"0.12.10\"}};\n",
       "    var render_items = [{\"docid\":\"1c2ffea5-c4d8-4266-b751-05c06fafd625\",\"elementid\":\"f15242db-ba84-4244-a755-d1350c867775\",\"modelid\":\"4c0f6bba-e6e3-4bf1-886c-aed14e1cc7f1\"}];\n",
       "\n",
       "    root.Bokeh.embed.embed_items(docs_json, render_items);\n",
       "  }\n",
       "\n",
       "  if (root.Bokeh !== undefined) {\n",
       "    embed_document(root);\n",
       "  } else {\n",
       "    var attempts = 0;\n",
       "    var timer = setInterval(function(root) {\n",
       "      if (root.Bokeh !== undefined) {\n",
       "        embed_document(root);\n",
       "        clearInterval(timer);\n",
       "      }\n",
       "      attempts++;\n",
       "      if (attempts > 100) {\n",
       "        console.log(\"Bokeh: ERROR: Unable to embed document because BokehJS library is missing\")\n",
       "        clearInterval(timer);\n",
       "      }\n",
       "    }, 10, root)\n",
       "  }\n",
       "})(window);"
      ],
      "application/vnd.bokehjs_exec.v0+json": ""
     },
     "metadata": {
      "application/vnd.bokehjs_exec.v0+json": {
       "id": "4c0f6bba-e6e3-4bf1-886c-aed14e1cc7f1"
      }
     },
     "output_type": "display_data"
    }
   ],
   "source": [
    "import math\n",
    "\n",
    "def plot_distribution(vocabulary):\n",
    "\n",
    "    hist, edges = np.histogram(list(map(lambda x:math.log(x[1]),vocabulary.most_common())), density=True, bins=500)\n",
    "\n",
    "    p = figure(tools=\"pan,wheel_zoom,reset,save\",\n",
    "               toolbar_location=\"above\",\n",
    "               title=\"Word distribution accross all twits\")\n",
    "    p.quad(top=hist, bottom=0, left=edges[:-1], right=edges[1:], line_color=\"#555555\", )\n",
    "    show(p)\n",
    "\n",
    "plot_distribution(vocab)"
   ]
  },
  {
   "cell_type": "markdown",
   "metadata": {},
   "source": [
    "It's clear now that a porcion of the words are overly represented. These kind of words are called _stop words_, and it is a common practice to remove them when doing text analysis. Let's do it and see the distribution again:"
   ]
  },
  {
   "cell_type": "code",
   "execution_count": 17,
   "metadata": {},
   "outputs": [
    {
     "name": "stdout",
     "output_type": "stream",
     "text": [
      "[nltk_data] Downloading package stopwords to\n",
      "[nltk_data]     /export/home/ehsan/nltk_data...\n",
      "[nltk_data]   Unzipping corpora/stopwords.zip.\n"
     ]
    },
    {
     "data": {
      "text/plain": [
       "True"
      ]
     },
     "execution_count": 17,
     "metadata": {},
     "output_type": "execute_result"
    }
   ],
   "source": [
    "import nltk\n",
    "\n",
    "nltk.download('stopwords')"
   ]
  },
  {
   "cell_type": "code",
   "execution_count": 18,
   "metadata": {},
   "outputs": [
    {
     "data": {
      "text/plain": [
       "[('', 10136),\n",
       " ('add', 2564),\n",
       " ('minutes', 2038),\n",
       " ('heat', 1290),\n",
       " ('water', 1023),\n",
       " ('bowl', 974),\n",
       " ('pan', 965),\n",
       " ('mixture', 958),\n",
       " ('place', 906),\n",
       " ('mix', 897),\n",
       " ('oil', 887),\n",
       " ('stir', 823),\n",
       " ('cook', 811),\n",
       " ('oven', 811),\n",
       " ('dough', 791),\n",
       " ('salt', 769),\n",
       " ('sugar', 729),\n",
       " ('1', 716),\n",
       " ('remove', 708),\n",
       " ('butter', 693)]"
      ]
     },
     "execution_count": 18,
     "metadata": {},
     "output_type": "execute_result"
    }
   ],
   "source": [
    "from nltk.corpus import stopwords\n",
    "stop = stopwords.words('english')\n",
    "\n",
    "vocab_reduced = Counter()\n",
    "for w, c in vocab.items():\n",
    "    if not w in stop:\n",
    "        vocab_reduced[w]=c\n",
    "\n",
    "vocab_reduced.most_common(20)"
   ]
  },
  {
   "cell_type": "code",
   "execution_count": 19,
   "metadata": {},
   "outputs": [
    {
     "data": {
      "text/plain": [
       "['i',\n",
       " 'me',\n",
       " 'my',\n",
       " 'myself',\n",
       " 'we',\n",
       " 'our',\n",
       " 'ours',\n",
       " 'ourselves',\n",
       " 'you',\n",
       " \"you're\",\n",
       " \"you've\",\n",
       " \"you'll\",\n",
       " \"you'd\",\n",
       " 'your',\n",
       " 'yours',\n",
       " 'yourself',\n",
       " 'yourselves',\n",
       " 'he',\n",
       " 'him',\n",
       " 'his',\n",
       " 'himself',\n",
       " 'she',\n",
       " \"she's\",\n",
       " 'her',\n",
       " 'hers',\n",
       " 'herself',\n",
       " 'it',\n",
       " \"it's\",\n",
       " 'its',\n",
       " 'itself',\n",
       " 'they',\n",
       " 'them',\n",
       " 'their',\n",
       " 'theirs',\n",
       " 'themselves',\n",
       " 'what',\n",
       " 'which',\n",
       " 'who',\n",
       " 'whom',\n",
       " 'this',\n",
       " 'that',\n",
       " \"that'll\",\n",
       " 'these',\n",
       " 'those',\n",
       " 'am',\n",
       " 'is',\n",
       " 'are',\n",
       " 'was',\n",
       " 'were',\n",
       " 'be',\n",
       " 'been',\n",
       " 'being',\n",
       " 'have',\n",
       " 'has',\n",
       " 'had',\n",
       " 'having',\n",
       " 'do',\n",
       " 'does',\n",
       " 'did',\n",
       " 'doing',\n",
       " 'a',\n",
       " 'an',\n",
       " 'the',\n",
       " 'and',\n",
       " 'but',\n",
       " 'if',\n",
       " 'or',\n",
       " 'because',\n",
       " 'as',\n",
       " 'until',\n",
       " 'while',\n",
       " 'of',\n",
       " 'at',\n",
       " 'by',\n",
       " 'for',\n",
       " 'with',\n",
       " 'about',\n",
       " 'against',\n",
       " 'between',\n",
       " 'into',\n",
       " 'through',\n",
       " 'during',\n",
       " 'before',\n",
       " 'after',\n",
       " 'above',\n",
       " 'below',\n",
       " 'to',\n",
       " 'from',\n",
       " 'up',\n",
       " 'down',\n",
       " 'in',\n",
       " 'out',\n",
       " 'on',\n",
       " 'off',\n",
       " 'over',\n",
       " 'under',\n",
       " 'again',\n",
       " 'further',\n",
       " 'then',\n",
       " 'once',\n",
       " 'here',\n",
       " 'there',\n",
       " 'when',\n",
       " 'where',\n",
       " 'why',\n",
       " 'how',\n",
       " 'all',\n",
       " 'any',\n",
       " 'both',\n",
       " 'each',\n",
       " 'few',\n",
       " 'more',\n",
       " 'most',\n",
       " 'other',\n",
       " 'some',\n",
       " 'such',\n",
       " 'no',\n",
       " 'nor',\n",
       " 'not',\n",
       " 'only',\n",
       " 'own',\n",
       " 'same',\n",
       " 'so',\n",
       " 'than',\n",
       " 'too',\n",
       " 'very',\n",
       " 's',\n",
       " 't',\n",
       " 'can',\n",
       " 'will',\n",
       " 'just',\n",
       " 'don',\n",
       " \"don't\",\n",
       " 'should',\n",
       " \"should've\",\n",
       " 'now',\n",
       " 'd',\n",
       " 'll',\n",
       " 'm',\n",
       " 'o',\n",
       " 're',\n",
       " 've',\n",
       " 'y',\n",
       " 'ain',\n",
       " 'aren',\n",
       " \"aren't\",\n",
       " 'couldn',\n",
       " \"couldn't\",\n",
       " 'didn',\n",
       " \"didn't\",\n",
       " 'doesn',\n",
       " \"doesn't\",\n",
       " 'hadn',\n",
       " \"hadn't\",\n",
       " 'hasn',\n",
       " \"hasn't\",\n",
       " 'haven',\n",
       " \"haven't\",\n",
       " 'isn',\n",
       " \"isn't\",\n",
       " 'ma',\n",
       " 'mightn',\n",
       " \"mightn't\",\n",
       " 'mustn',\n",
       " \"mustn't\",\n",
       " 'needn',\n",
       " \"needn't\",\n",
       " 'shan',\n",
       " \"shan't\",\n",
       " 'shouldn',\n",
       " \"shouldn't\",\n",
       " 'wasn',\n",
       " \"wasn't\",\n",
       " 'weren',\n",
       " \"weren't\",\n",
       " 'won',\n",
       " \"won't\",\n",
       " 'wouldn',\n",
       " \"wouldn't\"]"
      ]
     },
     "execution_count": 19,
     "metadata": {},
     "output_type": "execute_result"
    }
   ],
   "source": [
    "stop"
   ]
  },
  {
   "cell_type": "markdown",
   "metadata": {},
   "source": [
    "This looks better, only in the 20 most common words we already see words that make sense: _good, love, really_... Let's see the distribution now"
   ]
  },
  {
   "cell_type": "code",
   "execution_count": 20,
   "metadata": {},
   "outputs": [
    {
     "data": {
      "text/html": [
       "\n",
       "<div class=\"bk-root\">\n",
       "    <div class=\"bk-plotdiv\" id=\"b3364ceb-8557-42b5-8626-10dd467f6c43\"></div>\n",
       "</div>"
      ]
     },
     "metadata": {},
     "output_type": "display_data"
    },
    {
     "data": {
      "application/javascript": [
       "(function(root) {\n",
       "  function embed_document(root) {\n",
       "    var docs_json = {\"892a0b5c-b1bc-4d63-8488-407996a029c2\":{\"roots\":{\"references\":[{\"attributes\":{\"plot\":{\"id\":\"07d01e37-6dcc-4e5f-82d1-65dc79fc2d1c\",\"subtype\":\"Figure\",\"type\":\"Plot\"},\"ticker\":{\"id\":\"276e4f4e-2c9c-410f-88fc-5ff9f2370b62\",\"type\":\"BasicTicker\"}},\"id\":\"a64d52aa-be30-466b-b02b-10ffa467b36f\",\"type\":\"Grid\"},{\"attributes\":{},\"id\":\"276e4f4e-2c9c-410f-88fc-5ff9f2370b62\",\"type\":\"BasicTicker\"},{\"attributes\":{},\"id\":\"983aab52-ccc4-4076-8ee2-8d9655b070f9\",\"type\":\"SaveTool\"},{\"attributes\":{\"formatter\":{\"id\":\"279b00ad-dab1-4399-85b3-15c4270d7c2f\",\"type\":\"BasicTickFormatter\"},\"plot\":{\"id\":\"07d01e37-6dcc-4e5f-82d1-65dc79fc2d1c\",\"subtype\":\"Figure\",\"type\":\"Plot\"},\"ticker\":{\"id\":\"276e4f4e-2c9c-410f-88fc-5ff9f2370b62\",\"type\":\"BasicTicker\"}},\"id\":\"c7e4630f-e287-4986-b9d2-ec6ebe8666e2\",\"type\":\"LinearAxis\"},{\"attributes\":{},\"id\":\"830a841b-d4fe-4c28-876f-594a7509112a\",\"type\":\"LinearScale\"},{\"attributes\":{\"source\":{\"id\":\"06c97d8d-29e6-488e-973d-8f56e53a6513\",\"type\":\"ColumnDataSource\"}},\"id\":\"78581709-6a2e-4023-9517-e545a7a7363c\",\"type\":\"CDSView\"},{\"attributes\":{\"plot\":null,\"text\":\"Word distribution accross all twits\"},\"id\":\"c9497769-af6c-4552-a109-e0e2c4957214\",\"type\":\"Title\"},{\"attributes\":{},\"id\":\"58435bfa-fbd5-4469-bed1-47bf91f71518\",\"type\":\"BasicTickFormatter\"},{\"attributes\":{},\"id\":\"1d50edfa-42c1-489e-8557-471538d8bc7b\",\"type\":\"PanTool\"},{\"attributes\":{\"active_drag\":\"auto\",\"active_inspect\":\"auto\",\"active_scroll\":\"auto\",\"active_tap\":\"auto\",\"tools\":[{\"id\":\"1d50edfa-42c1-489e-8557-471538d8bc7b\",\"type\":\"PanTool\"},{\"id\":\"d15b8f9c-4f16-4587-b969-540abbb09029\",\"type\":\"WheelZoomTool\"},{\"id\":\"a464bb44-ee5b-48dc-9425-05d6bc21bdd0\",\"type\":\"ResetTool\"},{\"id\":\"983aab52-ccc4-4076-8ee2-8d9655b070f9\",\"type\":\"SaveTool\"}]},\"id\":\"aeec9af7-5cf7-44b3-9679-af5602c69c31\",\"type\":\"Toolbar\"},{\"attributes\":{\"data_source\":{\"id\":\"06c97d8d-29e6-488e-973d-8f56e53a6513\",\"type\":\"ColumnDataSource\"},\"glyph\":{\"id\":\"8e0a6070-4e8a-4c5b-90ae-b5fbd3acba64\",\"type\":\"Quad\"},\"hover_glyph\":null,\"muted_glyph\":null,\"nonselection_glyph\":{\"id\":\"601a0ab8-033a-4e5d-8bea-cee58c9e2af7\",\"type\":\"Quad\"},\"selection_glyph\":null,\"view\":{\"id\":\"78581709-6a2e-4023-9517-e545a7a7363c\",\"type\":\"CDSView\"}},\"id\":\"5717cb9d-e11b-493b-9b65-9589e80feb19\",\"type\":\"GlyphRenderer\"},{\"attributes\":{\"callback\":null,\"column_names\":[\"left\",\"right\",\"top\"],\"data\":{\"left\":{\"__ndarray__\":\"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\",\"dtype\":\"float64\",\"shape\":[500]},\"right\":{\"__ndarray__\":\"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\",\"dtype\":\"float64\",\"shape\":[500]},\"top\":{\"__ndarray__\":\"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\",\"dtype\":\"float64\",\"shape\":[500]}}},\"id\":\"06c97d8d-29e6-488e-973d-8f56e53a6513\",\"type\":\"ColumnDataSource\"},{\"attributes\":{\"dimension\":1,\"plot\":{\"id\":\"07d01e37-6dcc-4e5f-82d1-65dc79fc2d1c\",\"subtype\":\"Figure\",\"type\":\"Plot\"},\"ticker\":{\"id\":\"4b9a5a79-201c-4be2-affb-9162140a4e72\",\"type\":\"BasicTicker\"}},\"id\":\"de5b5cbe-3525-4ace-ad9e-9e895e644cd5\",\"type\":\"Grid\"},{\"attributes\":{},\"id\":\"a464bb44-ee5b-48dc-9425-05d6bc21bdd0\",\"type\":\"ResetTool\"},{\"attributes\":{},\"id\":\"4b9a5a79-201c-4be2-affb-9162140a4e72\",\"type\":\"BasicTicker\"},{\"attributes\":{\"formatter\":{\"id\":\"58435bfa-fbd5-4469-bed1-47bf91f71518\",\"type\":\"BasicTickFormatter\"},\"plot\":{\"id\":\"07d01e37-6dcc-4e5f-82d1-65dc79fc2d1c\",\"subtype\":\"Figure\",\"type\":\"Plot\"},\"ticker\":{\"id\":\"4b9a5a79-201c-4be2-affb-9162140a4e72\",\"type\":\"BasicTicker\"}},\"id\":\"7973e257-4011-4bfd-b841-cb4df33c8468\",\"type\":\"LinearAxis\"},{\"attributes\":{},\"id\":\"df245291-abed-40b0-928a-dea0aad88331\",\"type\":\"LinearScale\"},{\"attributes\":{},\"id\":\"279b00ad-dab1-4399-85b3-15c4270d7c2f\",\"type\":\"BasicTickFormatter\"},{\"attributes\":{},\"id\":\"d15b8f9c-4f16-4587-b969-540abbb09029\",\"type\":\"WheelZoomTool\"},{\"attributes\":{\"bottom\":{\"value\":0},\"fill_color\":{\"value\":\"#1f77b4\"},\"left\":{\"field\":\"left\"},\"line_color\":{\"value\":\"#555555\"},\"right\":{\"field\":\"right\"},\"top\":{\"field\":\"top\"}},\"id\":\"8e0a6070-4e8a-4c5b-90ae-b5fbd3acba64\",\"type\":\"Quad\"},{\"attributes\":{\"bottom\":{\"value\":0},\"fill_alpha\":{\"value\":0.1},\"fill_color\":{\"value\":\"#1f77b4\"},\"left\":{\"field\":\"left\"},\"line_alpha\":{\"value\":0.1},\"line_color\":{\"value\":\"#1f77b4\"},\"right\":{\"field\":\"right\"},\"top\":{\"field\":\"top\"}},\"id\":\"601a0ab8-033a-4e5d-8bea-cee58c9e2af7\",\"type\":\"Quad\"},{\"attributes\":{\"below\":[{\"id\":\"c7e4630f-e287-4986-b9d2-ec6ebe8666e2\",\"type\":\"LinearAxis\"}],\"left\":[{\"id\":\"7973e257-4011-4bfd-b841-cb4df33c8468\",\"type\":\"LinearAxis\"}],\"renderers\":[{\"id\":\"c7e4630f-e287-4986-b9d2-ec6ebe8666e2\",\"type\":\"LinearAxis\"},{\"id\":\"a64d52aa-be30-466b-b02b-10ffa467b36f\",\"type\":\"Grid\"},{\"id\":\"7973e257-4011-4bfd-b841-cb4df33c8468\",\"type\":\"LinearAxis\"},{\"id\":\"de5b5cbe-3525-4ace-ad9e-9e895e644cd5\",\"type\":\"Grid\"},{\"id\":\"5717cb9d-e11b-493b-9b65-9589e80feb19\",\"type\":\"GlyphRenderer\"}],\"title\":{\"id\":\"c9497769-af6c-4552-a109-e0e2c4957214\",\"type\":\"Title\"},\"toolbar\":{\"id\":\"aeec9af7-5cf7-44b3-9679-af5602c69c31\",\"type\":\"Toolbar\"},\"toolbar_location\":\"above\",\"x_range\":{\"id\":\"e3313f09-9707-4894-a749-df385785717a\",\"type\":\"DataRange1d\"},\"x_scale\":{\"id\":\"830a841b-d4fe-4c28-876f-594a7509112a\",\"type\":\"LinearScale\"},\"y_range\":{\"id\":\"c962452c-a7da-4e7a-83e7-6a18bec574a7\",\"type\":\"DataRange1d\"},\"y_scale\":{\"id\":\"df245291-abed-40b0-928a-dea0aad88331\",\"type\":\"LinearScale\"}},\"id\":\"07d01e37-6dcc-4e5f-82d1-65dc79fc2d1c\",\"subtype\":\"Figure\",\"type\":\"Plot\"},{\"attributes\":{\"callback\":null},\"id\":\"c962452c-a7da-4e7a-83e7-6a18bec574a7\",\"type\":\"DataRange1d\"},{\"attributes\":{\"callback\":null},\"id\":\"e3313f09-9707-4894-a749-df385785717a\",\"type\":\"DataRange1d\"}],\"root_ids\":[\"07d01e37-6dcc-4e5f-82d1-65dc79fc2d1c\"]},\"title\":\"Bokeh Application\",\"version\":\"0.12.10\"}};\n",
       "    var render_items = [{\"docid\":\"892a0b5c-b1bc-4d63-8488-407996a029c2\",\"elementid\":\"b3364ceb-8557-42b5-8626-10dd467f6c43\",\"modelid\":\"07d01e37-6dcc-4e5f-82d1-65dc79fc2d1c\"}];\n",
       "\n",
       "    root.Bokeh.embed.embed_items(docs_json, render_items);\n",
       "  }\n",
       "\n",
       "  if (root.Bokeh !== undefined) {\n",
       "    embed_document(root);\n",
       "  } else {\n",
       "    var attempts = 0;\n",
       "    var timer = setInterval(function(root) {\n",
       "      if (root.Bokeh !== undefined) {\n",
       "        embed_document(root);\n",
       "        clearInterval(timer);\n",
       "      }\n",
       "      attempts++;\n",
       "      if (attempts > 100) {\n",
       "        console.log(\"Bokeh: ERROR: Unable to embed document because BokehJS library is missing\")\n",
       "        clearInterval(timer);\n",
       "      }\n",
       "    }, 10, root)\n",
       "  }\n",
       "})(window);"
      ],
      "application/vnd.bokehjs_exec.v0+json": ""
     },
     "metadata": {
      "application/vnd.bokehjs_exec.v0+json": {
       "id": "07d01e37-6dcc-4e5f-82d1-65dc79fc2d1c"
      }
     },
     "output_type": "display_data"
    }
   ],
   "source": [
    "plot_distribution(vocab_reduced)"
   ]
  },
  {
   "cell_type": "markdown",
   "metadata": {},
   "source": [
    "### Removing special characters and \"trash\"\n",
    "\n",
    "We still se a very uneaven distribution. If you look closer, you'll see that we're also taking into consideration punctuation signs ('-', ',', etc) and other html tags like `&amp`. We can definitely remove them for the sentiment analysis, but we will try to keep the emoticons, since those _do_ have a sentiment load:"
   ]
  },
  {
   "cell_type": "code",
   "execution_count": 21,
   "metadata": {},
   "outputs": [
    {
     "name": "stdout",
     "output_type": "stream",
     "text": [
      "this twit man is nice :)\n"
     ]
    }
   ],
   "source": [
    "import re\n",
    "\n",
    "def preprocessor(text):\n",
    "    \"\"\" Return a cleaned version of text\n",
    "    \"\"\"\n",
    "    # Remove HTML markup\n",
    "    text = re.sub('<[^>]*>', '', text)\n",
    "    # Save emoticons for later appending\n",
    "    emoticons = re.findall('(?::|;|=)(?:-)?(?:\\)|\\(|D|P)', text)\n",
    "    # Remove any non-word character and append the emoticons,\n",
    "    # removing the nose character for standarization. Convert to lower case\n",
    "    text = (re.sub('[\\W]+', ' ', text.lower()) + ' ' + ' '.join(emoticons).replace('-', ''))\n",
    "    \n",
    "    return text\n",
    "\n",
    "print(preprocessor('This!! twit man :) is <b>nice</b>'))"
   ]
  },
  {
   "cell_type": "markdown",
   "metadata": {},
   "source": [
    "We are almost ready! There is another trick we can use to reduce our vocabulary and consolidate words. If you think about it, words like: love, loving, etc. _Could_ express the same positivity. If that was the case, we would be  having two words in our vocabulary when we could have only one: lov. This process of reducing a word to its root is called **steaming**.\n",
    "\n",
    "We also need a _tokenizer_ to break down our twits in individual words. We will implement two tokenizers, a regular one and one that does steaming:"
   ]
  },
  {
   "cell_type": "code",
   "execution_count": 22,
   "metadata": {},
   "outputs": [
    {
     "name": "stdout",
     "output_type": "stream",
     "text": [
      "['Hi', 'there,', 'I', 'am', 'loving', 'this,', 'like', 'with', 'a', 'lot', 'of', 'love']\n",
      "['Hi', 'there,', 'I', 'am', 'love', 'this,', 'like', 'with', 'a', 'lot', 'of', 'love']\n"
     ]
    }
   ],
   "source": [
    "from nltk.stem import PorterStemmer\n",
    "\n",
    "porter = PorterStemmer()\n",
    "\n",
    "def tokenizer(text):\n",
    "    return text.split()\n",
    "\n",
    "def tokenizer_porter(text):\n",
    "    return [porter.stem(word) for word in text.split()]\n",
    "\n",
    "print(tokenizer('Hi there, I am loving this, like with a lot of love'))\n",
    "print(tokenizer_porter('Hi there, I am loving this, like with a lot of love'))"
   ]
  },
  {
   "cell_type": "markdown",
   "metadata": {},
   "source": [
    "## Training Logistic Regression\n",
    "\n",
    "We are finally ready to train our algorythm. We need to choose the best hyperparameters like the _learning rate_ or _regularization strength_. We also would like to know if our algorithm performs better steaming words or not, or removing html or not, etc...\n",
    "\n",
    "To take these decisions methodically, we can use a Grid Search. Grid search is a method of training an algorythm with different variations of parameters to latter select the best combination"
   ]
  },
  {
   "cell_type": "code",
   "execution_count": 23,
   "metadata": {
    "collapsed": true
   },
   "outputs": [],
   "source": [
    "from sklearn.model_selection import train_test_split\n",
    "\n",
    "# split the dataset in train and test\n",
    "X = train['recipedetails']\n",
    "y = train['label']\n",
    "X_train, X_test, y_train, y_test = train_test_split(X, y, test_size=0.3, random_state=0, stratify=y)"
   ]
  },
  {
   "cell_type": "markdown",
   "metadata": {},
   "source": [
    "In the code line above, `stratify` will create a train set with the same class balance than the original set"
   ]
  },
  {
   "cell_type": "code",
   "execution_count": 24,
   "metadata": {
    "collapsed": true
   },
   "outputs": [],
   "source": [
    "from sklearn.model_selection import GridSearchCV\n",
    "from sklearn.pipeline import Pipeline\n",
    "from sklearn.linear_model import LogisticRegression\n",
    "from sklearn.feature_extraction.text import TfidfVectorizer\n",
    "\n",
    "tfidf = TfidfVectorizer(strip_accents=None,\n",
    "                        lowercase=False,\n",
    "                        preprocessor=None)\n",
    "\n",
    "param_grid = [{'vect__ngram_range': [(1, 1)],\n",
    "               'vect__stop_words': [stop, None],\n",
    "               'vect__tokenizer': [tokenizer, tokenizer_porter],\n",
    "               'vect__preprocessor': [None, preprocessor],\n",
    "               'clf__penalty': ['l1', 'l2'],\n",
    "               'clf__C': [1.0, 10.0, 100.0]},\n",
    "              {'vect__ngram_range': [(1, 1)],\n",
    "               'vect__stop_words': [stop, None],\n",
    "               'vect__tokenizer': [tokenizer, tokenizer_porter],\n",
    "               'vect__preprocessor': [None, preprocessor],\n",
    "               'vect__use_idf':[False],\n",
    "               'vect__norm':[None],\n",
    "               'clf__penalty': ['l1', 'l2'],\n",
    "               'clf__C': [1.0, 10.0, 100.0]},\n",
    "              ]\n",
    "\n",
    "lr_tfidf = Pipeline([('vect', tfidf),\n",
    "                     ('clf', LogisticRegression(random_state=0))])\n",
    "\n",
    "gs_lr_tfidf = GridSearchCV(lr_tfidf, param_grid,\n",
    "                           scoring='accuracy',\n",
    "                           cv=5,\n",
    "                           verbose=1,\n",
    "                           n_jobs=-1)"
   ]
  },
  {
   "cell_type": "code",
   "execution_count": 25,
   "metadata": {},
   "outputs": [
    {
     "name": "stdout",
     "output_type": "stream",
     "text": [
      "Fitting 5 folds for each of 96 candidates, totalling 480 fits\n"
     ]
    },
    {
     "name": "stderr",
     "output_type": "stream",
     "text": [
      "[Parallel(n_jobs=-1)]: Done  72 tasks      | elapsed:    9.0s\n",
      "[Parallel(n_jobs=-1)]: Done 322 tasks      | elapsed:   28.0s\n",
      "[Parallel(n_jobs=-1)]: Done 480 out of 480 | elapsed:   42.8s finished\n"
     ]
    },
    {
     "data": {
      "text/plain": [
       "GridSearchCV(cv=5, error_score='raise',\n",
       "       estimator=Pipeline(memory=None,\n",
       "     steps=[('vect', TfidfVectorizer(analyzer='word', binary=False, decode_error='strict',\n",
       "        dtype=<class 'numpy.int64'>, encoding='utf-8', input='content',\n",
       "        lowercase=False, max_df=1.0, max_features=None, min_df=1,\n",
       "        ngram_range=(1, 1), norm='l2', preprocessor=None, smooth_idf=True,\n",
       " ...nalty='l2', random_state=0, solver='liblinear', tol=0.0001,\n",
       "          verbose=0, warm_start=False))]),\n",
       "       fit_params=None, iid=True, n_jobs=-1,\n",
       "       param_grid=[{'vect__ngram_range': [(1, 1)], 'vect__stop_words': [['i', 'me', 'my', 'myself', 'we', 'our', 'ours', 'ourselves', 'you', \"you're\", \"you've\", \"you'll\", \"you'd\", 'your', 'yours', 'yourself', 'yourselves', 'he', 'him', 'his', 'himself', 'she', \"she's\", 'her', 'hers', 'herself', 'it', \"it's...se_idf': [False], 'vect__norm': [None], 'clf__penalty': ['l1', 'l2'], 'clf__C': [1.0, 10.0, 100.0]}],\n",
       "       pre_dispatch='2*n_jobs', refit=True, return_train_score='warn',\n",
       "       scoring='accuracy', verbose=1)"
      ]
     },
     "execution_count": 25,
     "metadata": {},
     "output_type": "execute_result"
    }
   ],
   "source": [
    "# Note: This may take a long while to execute, like... 1 or 2 hours\n",
    "gs_lr_tfidf.fit(X_train, y_train)"
   ]
  },
  {
   "cell_type": "code",
   "execution_count": 26,
   "metadata": {},
   "outputs": [
    {
     "name": "stdout",
     "output_type": "stream",
     "text": [
      "Best parameter set: {'clf__C': 100.0, 'clf__penalty': 'l1', 'vect__ngram_range': (1, 1), 'vect__preprocessor': None, 'vect__stop_words': ['i', 'me', 'my', 'myself', 'we', 'our', 'ours', 'ourselves', 'you', \"you're\", \"you've\", \"you'll\", \"you'd\", 'your', 'yours', 'yourself', 'yourselves', 'he', 'him', 'his', 'himself', 'she', \"she's\", 'her', 'hers', 'herself', 'it', \"it's\", 'its', 'itself', 'they', 'them', 'their', 'theirs', 'themselves', 'what', 'which', 'who', 'whom', 'this', 'that', \"that'll\", 'these', 'those', 'am', 'is', 'are', 'was', 'were', 'be', 'been', 'being', 'have', 'has', 'had', 'having', 'do', 'does', 'did', 'doing', 'a', 'an', 'the', 'and', 'but', 'if', 'or', 'because', 'as', 'until', 'while', 'of', 'at', 'by', 'for', 'with', 'about', 'against', 'between', 'into', 'through', 'during', 'before', 'after', 'above', 'below', 'to', 'from', 'up', 'down', 'in', 'out', 'on', 'off', 'over', 'under', 'again', 'further', 'then', 'once', 'here', 'there', 'when', 'where', 'why', 'how', 'all', 'any', 'both', 'each', 'few', 'more', 'most', 'other', 'some', 'such', 'no', 'nor', 'not', 'only', 'own', 'same', 'so', 'than', 'too', 'very', 's', 't', 'can', 'will', 'just', 'don', \"don't\", 'should', \"should've\", 'now', 'd', 'll', 'm', 'o', 're', 've', 'y', 'ain', 'aren', \"aren't\", 'couldn', \"couldn't\", 'didn', \"didn't\", 'doesn', \"doesn't\", 'hadn', \"hadn't\", 'hasn', \"hasn't\", 'haven', \"haven't\", 'isn', \"isn't\", 'ma', 'mightn', \"mightn't\", 'mustn', \"mustn't\", 'needn', \"needn't\", 'shan', \"shan't\", 'shouldn', \"shouldn't\", 'wasn', \"wasn't\", 'weren', \"weren't\", 'won', \"won't\", 'wouldn', \"wouldn't\"], 'vect__tokenizer': <function tokenizer at 0x7f88486fa400>}\n",
      "Best accuracy: 0.928\n"
     ]
    }
   ],
   "source": [
    "print('Best parameter set: ' + str(gs_lr_tfidf.best_params_))\n",
    "print('Best accuracy: %.3f' % gs_lr_tfidf.best_score_)"
   ]
  },
  {
   "cell_type": "markdown",
   "metadata": {},
   "source": [
    "Interestingly, the set of parameters that best results give us are:\n",
    "\n",
    "* A regularization strength of `1.0` using `l2` regularization\n",
    "* Using our `preprocessor` (removing html, keeping emoticons, etc) _does_ improve the performance\n",
    "* Surprisingly, removing stop words does not improve accuracy\n",
    "* word steming doesn't seem to help either\n",
    "\n",
    "As youcan see, sometimes intuition may lead to wrong decisions, and it's important to _test_ all our assumptions. \n",
    "\n",
    "Let's see what's our best accuracy then:"
   ]
  },
  {
   "cell_type": "code",
   "execution_count": 27,
   "metadata": {},
   "outputs": [
    {
     "name": "stdout",
     "output_type": "stream",
     "text": [
      "Accuracy in test: 0.946\n"
     ]
    }
   ],
   "source": [
    "clf = gs_lr_tfidf.best_estimator_\n",
    "print('Accuracy in test: %.3f' % clf.score(X_test, y_test))"
   ]
  },
  {
   "cell_type": "markdown",
   "metadata": {},
   "source": [
    "If we would like to use the classifier in another place, or just not train it again and again everytime, we can save the model in a pickle file:"
   ]
  },
  {
   "cell_type": "code",
   "execution_count": 28,
   "metadata": {
    "collapsed": true
   },
   "outputs": [],
   "source": [
    "import pickle\n",
    "import os\n",
    "\n",
    "pickle.dump(clf, open(os.path.join('data', 'logisticRegression.pkl'), 'wb'), protocol=4)"
   ]
  },
  {
   "cell_type": "markdown",
   "metadata": {},
   "source": [
    "Finally, let's run some tests :-)"
   ]
  },
  {
   "cell_type": "code",
   "execution_count": 29,
   "metadata": {},
   "outputs": [
    {
     "name": "stdout",
     "output_type": "stream",
     "text": [
      "This is really bad, I don't like it at all --> no\n",
      "I love this! --> no\n",
      ":) --> no\n",
      "I'm sad... :( --> no\n"
     ]
    }
   ],
   "source": [
    "twits = [\n",
    "    \"This is really bad, I don't like it at all\",\n",
    "    \"I love this!\",\n",
    "    \":)\",\n",
    "    \"I'm sad... :(\"\n",
    "]\n",
    "\n",
    "preds = clf.predict(twits)\n",
    "\n",
    "for i in range(len(twits)):\n",
    "    print(f'{twits[i]} --> {preds[i]}')"
   ]
  },
  {
   "cell_type": "markdown",
   "metadata": {},
   "source": [
    "## And you're done! I hope you liked this!"
   ]
  }
 ],
 "metadata": {
  "kernelspec": {
   "display_name": "Python 3",
   "language": "python",
   "name": "python3"
  },
  "language_info": {
   "codemirror_mode": {
    "name": "ipython",
    "version": 3
   },
   "file_extension": ".py",
   "mimetype": "text/x-python",
   "name": "python",
   "nbconvert_exporter": "python",
   "pygments_lexer": "ipython3",
   "version": "3.6.6"
  }
 },
 "nbformat": 4,
 "nbformat_minor": 2
}
