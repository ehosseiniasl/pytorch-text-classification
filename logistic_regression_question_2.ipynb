{
 "cells": [
  {
   "cell_type": "markdown",
   "metadata": {},
   "source": [
    "# Sentiment analysis with Logistic Regression"
   ]
  },
  {
   "cell_type": "markdown",
   "metadata": {},
   "source": [
    "## Sentiment analysis\n",
    "\n",
    "Let's first of all have a look at the data"
   ]
  },
  {
   "cell_type": "code",
   "execution_count": 3,
   "metadata": {},
   "outputs": [
    {
     "data": {
      "text/html": [
       "<div>\n",
       "<style>\n",
       "    .dataframe thead tr:only-child th {\n",
       "        text-align: right;\n",
       "    }\n",
       "\n",
       "    .dataframe thead th {\n",
       "        text-align: left;\n",
       "    }\n",
       "\n",
       "    .dataframe tbody tr th {\n",
       "        vertical-align: top;\n",
       "    }\n",
       "</style>\n",
       "<table border=\"1\" class=\"dataframe\">\n",
       "  <thead>\n",
       "    <tr style=\"text-align: right;\">\n",
       "      <th></th>\n",
       "      <th>recipedetails</th>\n",
       "      <th>device_speaker_screen</th>\n",
       "      <th>device_camera</th>\n",
       "      <th>device__wearable</th>\n",
       "      <th>device_tablet</th>\n",
       "      <th>device_kitchen</th>\n",
       "      <th>device_speaker_no_screen</th>\n",
       "    </tr>\n",
       "  </thead>\n",
       "  <tbody>\n",
       "    <tr>\n",
       "      <th>0</th>\n",
       "      <td>preheat the oven to 350 degrees 175 celsius se...</td>\n",
       "      <td>0</td>\n",
       "      <td>0</td>\n",
       "      <td>1</td>\n",
       "      <td>1</td>\n",
       "      <td>0</td>\n",
       "      <td>0</td>\n",
       "    </tr>\n",
       "    <tr>\n",
       "      <th>1</th>\n",
       "      <td>ground beef may be used instead of ground chicken</td>\n",
       "      <td>0</td>\n",
       "      <td>0</td>\n",
       "      <td>1</td>\n",
       "      <td>0</td>\n",
       "      <td>0</td>\n",
       "      <td>0</td>\n",
       "    </tr>\n",
       "    <tr>\n",
       "      <th>2</th>\n",
       "      <td>deglaze with some chicken broth then add a can...</td>\n",
       "      <td>1</td>\n",
       "      <td>0</td>\n",
       "      <td>0</td>\n",
       "      <td>1</td>\n",
       "      <td>0</td>\n",
       "      <td>0</td>\n",
       "    </tr>\n",
       "    <tr>\n",
       "      <th>3</th>\n",
       "      <td>note onion are 1012 numbers medium size</td>\n",
       "      <td>1</td>\n",
       "      <td>0</td>\n",
       "      <td>0</td>\n",
       "      <td>0</td>\n",
       "      <td>0</td>\n",
       "      <td>0</td>\n",
       "    </tr>\n",
       "    <tr>\n",
       "      <th>4</th>\n",
       "      <td>while the swordfish is cooking in a small skil...</td>\n",
       "      <td>1</td>\n",
       "      <td>0</td>\n",
       "      <td>0</td>\n",
       "      <td>0</td>\n",
       "      <td>0</td>\n",
       "      <td>1</td>\n",
       "    </tr>\n",
       "    <tr>\n",
       "      <th>5</th>\n",
       "      <td>spray a inch tube pan with a nostic cooking sp...</td>\n",
       "      <td>0</td>\n",
       "      <td>0</td>\n",
       "      <td>0</td>\n",
       "      <td>1</td>\n",
       "      <td>0</td>\n",
       "      <td>0</td>\n",
       "    </tr>\n",
       "    <tr>\n",
       "      <th>6</th>\n",
       "      <td>return skillet to burner</td>\n",
       "      <td>0</td>\n",
       "      <td>0</td>\n",
       "      <td>0</td>\n",
       "      <td>1</td>\n",
       "      <td>0</td>\n",
       "      <td>0</td>\n",
       "    </tr>\n",
       "    <tr>\n",
       "      <th>7</th>\n",
       "      <td>roast the garlic cloves onion and tomatoes on ...</td>\n",
       "      <td>1</td>\n",
       "      <td>0</td>\n",
       "      <td>0</td>\n",
       "      <td>0</td>\n",
       "      <td>0</td>\n",
       "      <td>1</td>\n",
       "    </tr>\n",
       "    <tr>\n",
       "      <th>8</th>\n",
       "      <td>add mayonnaise before serving enjoy</td>\n",
       "      <td>0</td>\n",
       "      <td>0</td>\n",
       "      <td>0</td>\n",
       "      <td>1</td>\n",
       "      <td>0</td>\n",
       "      <td>0</td>\n",
       "    </tr>\n",
       "    <tr>\n",
       "      <th>9</th>\n",
       "      <td>variation spoon dessert topping over prepared ...</td>\n",
       "      <td>0</td>\n",
       "      <td>0</td>\n",
       "      <td>0</td>\n",
       "      <td>0</td>\n",
       "      <td>0</td>\n",
       "      <td>1</td>\n",
       "    </tr>\n",
       "  </tbody>\n",
       "</table>\n",
       "</div>"
      ],
      "text/plain": [
       "                                       recipedetails  device_speaker_screen  \\\n",
       "0  preheat the oven to 350 degrees 175 celsius se...                      0   \n",
       "1  ground beef may be used instead of ground chicken                      0   \n",
       "2  deglaze with some chicken broth then add a can...                      1   \n",
       "3            note onion are 1012 numbers medium size                      1   \n",
       "4  while the swordfish is cooking in a small skil...                      1   \n",
       "5  spray a inch tube pan with a nostic cooking sp...                      0   \n",
       "6                           return skillet to burner                      0   \n",
       "7  roast the garlic cloves onion and tomatoes on ...                      1   \n",
       "8                add mayonnaise before serving enjoy                      0   \n",
       "9  variation spoon dessert topping over prepared ...                      0   \n",
       "\n",
       "   device_camera  device__wearable  device_tablet  device_kitchen  \\\n",
       "0              0                 1              1               0   \n",
       "1              0                 1              0               0   \n",
       "2              0                 0              1               0   \n",
       "3              0                 0              0               0   \n",
       "4              0                 0              0               0   \n",
       "5              0                 0              1               0   \n",
       "6              0                 0              1               0   \n",
       "7              0                 0              0               0   \n",
       "8              0                 0              1               0   \n",
       "9              0                 0              0               0   \n",
       "\n",
       "   device_speaker_no_screen  \n",
       "0                         0  \n",
       "1                         0  \n",
       "2                         0  \n",
       "3                         0  \n",
       "4                         1  \n",
       "5                         0  \n",
       "6                         0  \n",
       "7                         1  \n",
       "8                         0  \n",
       "9                         1  "
      ]
     },
     "execution_count": 3,
     "metadata": {},
     "output_type": "execute_result"
    }
   ],
   "source": [
    "import pandas as pd\n",
    "\n",
    "#Load the data into a DataFrame\n",
    "train = pd.read_csv('../pytorch-text-classification/data/question_2/train.csv', encoding='latin-1',sep=',')\n",
    "test = pd.read_csv('../pytorch-text-classification/data/question_2/test.csv', encoding='latin-1',sep=',')\n",
    "\n",
    "train.head(10)"
   ]
  },
  {
   "cell_type": "code",
   "execution_count": 4,
   "metadata": {
    "scrolled": true
   },
   "outputs": [
    {
     "data": {
      "text/plain": [
       "0       preheat the oven to 350 degrees 175 celsius se...\n",
       "1       ground beef may be used instead of ground chicken\n",
       "2       deglaze with some chicken broth then add a can...\n",
       "3                 note onion are 1012 numbers medium size\n",
       "4       while the swordfish is cooking in a small skil...\n",
       "5       spray a inch tube pan with a nostic cooking sp...\n",
       "6                                return skillet to burner\n",
       "7       roast the garlic cloves onion and tomatoes on ...\n",
       "8                     add mayonnaise before serving enjoy\n",
       "9       variation spoon dessert topping over prepared ...\n",
       "10      combine all of the ingredients except the orga...\n",
       "11      combine kosher salt paprika and one teaspoon o...\n",
       "12                        yield a to a appetizer servings\n",
       "13      authors intro malaysian restaurateur Aziza Ali...\n",
       "14                                   preheat oven to 350f\n",
       "15      mix with hands till the dough is smooth if it ...\n",
       "16      bring to a boil over mediumhigh heat cover red...\n",
       "17      for the dough place all ingredients in the pan...\n",
       "18      mix all ingredients in a bowl until it forms a...\n",
       "19      note the author says that a tsp dried mint cou...\n",
       "20      in a heavy of inch skillet heat a tablespoons ...\n",
       "21      preheat the oven to 375 degrees and bake the c...\n",
       "22           roll into balls or press into a shallow dish\n",
       "23      flatten the steaks very lightly with a meat ma...\n",
       "24      add the cool whip to the yogurt and on low spe...\n",
       "25      roll each disc of dough into thin sheet large ...\n",
       "26      skin the pheasant and remove all the meat chop...\n",
       "27      serve extra parmesan on the side use fresh fet...\n",
       "28      combine mango onion garlic and chiles into the...\n",
       "29                 cover pot with lid and bring to a boil\n",
       "                              ...                        \n",
       "7882                       this recipe yields of pastries\n",
       "7883    begin to heat the goat milk slowly until the t...\n",
       "7884    put all ingredients in the blender and blend u...\n",
       "7885    unmold the cake onto a serving platter top wit...\n",
       "7886    serve on a chilled dish and add the desired am...\n",
       "7887                             peel and grate the beets\n",
       "7888    take a cups of the vanilla wafers and crush wi...\n",
       "7889    slash an x in the top of each panettone with b...\n",
       "7890                  add mayonnaise before serving enjoy\n",
       "7891                                                notes\n",
       "7892                  slowly whisk in milk until combined\n",
       "7893                 a small loaf pans 350 for of minutes\n",
       "7894                           cool store in refrigerator\n",
       "7895    press walnutsized pieces of the pastry dough e...\n",
       "7896                border with chocolate lace if desired\n",
       "7897    cut a small corner out of the sandwich bag dri...\n",
       "7898    mix all ingredients in a small bowl if not usi...\n",
       "7899    next well add in the prosciutto onions and mus...\n",
       "7900          this recipe will make a of cups of dressing\n",
       "7901    pour into the pie shell bake for 3040 minutes ...\n",
       "7902    in a small casserole dish place the whole head...\n",
       "7903    secure the bag closure with a twist tie double...\n",
       "7904        place the pork in the middle rack of the oven\n",
       "7905    add the flour a cup at a time stirring constan...\n",
       "7906    in a large mixing bowl add the chvre along wit...\n",
       "7907    divide the dough into four pieces and run thro...\n",
       "7908                     preheat the oven to 350degrees f\n",
       "7909    a fry the gingergarlic paste onions and green ...\n",
       "7910              zest limes and reserve zest on the side\n",
       "7911                          return to stove on med heat\n",
       "Name: recipedetails, Length: 7912, dtype: object"
      ]
     },
     "execution_count": 4,
     "metadata": {},
     "output_type": "execute_result"
    }
   ],
   "source": [
    "train.recipedetails"
   ]
  },
  {
   "cell_type": "code",
   "execution_count": 17,
   "metadata": {
    "collapsed": true
   },
   "outputs": [],
   "source": [
    "labels = ['device_speaker_screen', \n",
    "          'device_camera', \n",
    "          'device__wearable', \n",
    "          'device_tablet', \n",
    "          'device_kitchen', \n",
    "          'device_speaker_no_screen']"
   ]
  },
  {
   "cell_type": "code",
   "execution_count": 5,
   "metadata": {},
   "outputs": [
    {
     "data": {
      "text/plain": [
       "{'about': 0,\n",
       " 'am': 1,\n",
       " 'amazing': 2,\n",
       " 'best': 3,\n",
       " 'end': 4,\n",
       " 'going': 5,\n",
       " 'how': 6,\n",
       " 'is': 7,\n",
       " 'it': 8,\n",
       " 'ml': 9,\n",
       " 'not': 10,\n",
       " 'sure': 11,\n",
       " 'the': 12,\n",
       " 'this': 13,\n",
       " 'to': 14,\n",
       " 'yes': 15}"
      ]
     },
     "execution_count": 5,
     "metadata": {},
     "output_type": "execute_result"
    }
   ],
   "source": [
    "from sklearn.feature_extraction.text import CountVectorizer\n",
    "\n",
    "twits = [\n",
    "    'This is amazing!',\n",
    "    'ML is the best, yes it is',\n",
    "    'I am not sure about how this is going to end...'\n",
    "]\n",
    "\n",
    "count = CountVectorizer()\n",
    "bag = count.fit_transform(twits)\n",
    "\n",
    "count.vocabulary_"
   ]
  },
  {
   "cell_type": "markdown",
   "metadata": {},
   "source": [
    "As we can see from executing the preceding command, the vocabulary is stored in a Python dictionary that maps the unique words to integer indices. Next, let's print the feature vectors that we just created:"
   ]
  },
  {
   "cell_type": "code",
   "execution_count": 3,
   "metadata": {},
   "outputs": [
    {
     "data": {
      "text/plain": [
       "array([[0, 0, 1, 0, 0, 0, 0, 1, 0, 0, 0, 0, 0, 1, 0, 0],\n",
       "       [0, 0, 0, 1, 0, 0, 0, 2, 1, 1, 0, 0, 1, 0, 0, 1],\n",
       "       [1, 1, 0, 0, 1, 1, 1, 1, 0, 0, 1, 1, 0, 1, 1, 0]], dtype=int64)"
      ]
     },
     "execution_count": 3,
     "metadata": {},
     "output_type": "execute_result"
    }
   ],
   "source": [
    "bag.toarray()"
   ]
  },
  {
   "cell_type": "code",
   "execution_count": 6,
   "metadata": {},
   "outputs": [
    {
     "data": {
      "text/plain": [
       "array([[0.  , 0.  , 0.72, 0.  , 0.  , 0.  , 0.  , 0.43, 0.  , 0.  , 0.  ,\n",
       "        0.  , 0.  , 0.55, 0.  , 0.  ],\n",
       "       [0.  , 0.  , 0.  , 0.4 , 0.  , 0.  , 0.  , 0.47, 0.4 , 0.4 , 0.  ,\n",
       "        0.  , 0.4 , 0.  , 0.  , 0.4 ],\n",
       "       [0.33, 0.33, 0.  , 0.  , 0.33, 0.33, 0.33, 0.2 , 0.  , 0.  , 0.33,\n",
       "        0.33, 0.  , 0.25, 0.33, 0.  ]])"
      ]
     },
     "execution_count": 6,
     "metadata": {},
     "output_type": "execute_result"
    }
   ],
   "source": [
    "import numpy as np\n",
    "\n",
    "from sklearn.feature_extraction.text import TfidfTransformer\n",
    "\n",
    "tfidf = TfidfTransformer(use_idf=True,\n",
    "                         norm='l2',\n",
    "                         smooth_idf=True)\n",
    "\n",
    "np.set_printoptions(precision=2)\n",
    "\n",
    "# Feed the tf-idf transformer with our previously created Bag of Words\n",
    "tfidf.fit_transform(bag).toarray()"
   ]
  },
  {
   "cell_type": "markdown",
   "metadata": {},
   "source": [
    "As you can see, words that appear in all documents like _is_ (with 0.47 ), get a lower score than others that don't appear in all documents, like _amazing_ (with 0.72).\n",
    "\n",
    "Note also that `norm='l2'` parameter: This is an important one, and what is doing is normalize the tf-idfs so that they're all in the same scale and thus work better with Logistic Regression."
   ]
  },
  {
   "cell_type": "markdown",
   "metadata": {},
   "source": [
    "## Data clean up (yay...)\n",
    "\n",
    "### Removing stop words\n",
    "\n",
    "Now that we know how to format and score our input, we can start doing the analysis! Can we?... Well, we _can_, but let's look at our **real** vocabulary. Specifically, the most common words:"
   ]
  },
  {
   "cell_type": "code",
   "execution_count": 7,
   "metadata": {},
   "outputs": [
    {
     "data": {
      "text/plain": [
       "[('the', 10566),\n",
       " ('and', 8953),\n",
       " ('a', 8032),\n",
       " ('of', 5041),\n",
       " ('to', 4621),\n",
       " ('in', 4562),\n",
       " ('with', 2998),\n",
       " ('add', 2515),\n",
       " ('for', 2455),\n",
       " ('until', 2308),\n",
       " ('minutes', 1988),\n",
       " ('on', 1480),\n",
       " ('or', 1454),\n",
       " ('into', 1419),\n",
       " ('heat', 1248),\n",
       " ('it', 1164),\n",
       " ('is', 1079),\n",
       " ('water', 999),\n",
       " ('over', 963),\n",
       " ('pan', 958)]"
      ]
     },
     "execution_count": 7,
     "metadata": {},
     "output_type": "execute_result"
    }
   ],
   "source": [
    "from collections import Counter\n",
    "\n",
    "vocab = Counter()\n",
    "for twit in train.recipedetails:\n",
    "    for word in twit.split(' '):\n",
    "        vocab[word] += 1\n",
    "\n",
    "vocab.most_common(20)"
   ]
  },
  {
   "cell_type": "markdown",
   "metadata": {},
   "source": [
    "As you can see, the most common words are meaningless in terms of sentiment: _I, to, the, and_... they don't give any information on positiveness or negativeness. They're basically **noise** that can most probably be eliminated. Let's see the whole distribution to convince ourselves of this:"
   ]
  },
  {
   "cell_type": "code",
   "execution_count": 8,
   "metadata": {},
   "outputs": [
    {
     "data": {
      "text/html": [
       "\n",
       "    <div class=\"bk-root\">\n",
       "        <a href=\"https://bokeh.pydata.org\" target=\"_blank\" class=\"bk-logo bk-logo-small bk-logo-notebook\"></a>\n",
       "        <span id=\"ead582a3-6859-40ee-8359-2102aef4b58c\">Loading BokehJS ...</span>\n",
       "    </div>"
      ]
     },
     "metadata": {},
     "output_type": "display_data"
    },
    {
     "data": {
      "application/javascript": [
       "\n",
       "(function(root) {\n",
       "  function now() {\n",
       "    return new Date();\n",
       "  }\n",
       "\n",
       "  var force = true;\n",
       "\n",
       "  if (typeof (root._bokeh_onload_callbacks) === \"undefined\" || force === true) {\n",
       "    root._bokeh_onload_callbacks = [];\n",
       "    root._bokeh_is_loading = undefined;\n",
       "  }\n",
       "\n",
       "  var JS_MIME_TYPE = 'application/javascript';\n",
       "  var HTML_MIME_TYPE = 'text/html';\n",
       "  var EXEC_MIME_TYPE = 'application/vnd.bokehjs_exec.v0+json';\n",
       "  var CLASS_NAME = 'output_bokeh rendered_html';\n",
       "\n",
       "  /**\n",
       "   * Render data to the DOM node\n",
       "   */\n",
       "  function render(props, node) {\n",
       "    var script = document.createElement(\"script\");\n",
       "    node.appendChild(script);\n",
       "  }\n",
       "\n",
       "  /**\n",
       "   * Handle when an output is cleared or removed\n",
       "   */\n",
       "  function handleClearOutput(event, handle) {\n",
       "    var cell = handle.cell;\n",
       "\n",
       "    var id = cell.output_area._bokeh_element_id;\n",
       "    var server_id = cell.output_area._bokeh_server_id;\n",
       "    // Clean up Bokeh references\n",
       "    if (id !== undefined) {\n",
       "      Bokeh.index[id].model.document.clear();\n",
       "      delete Bokeh.index[id];\n",
       "    }\n",
       "\n",
       "    if (server_id !== undefined) {\n",
       "      // Clean up Bokeh references\n",
       "      var cmd = \"from bokeh.io.state import curstate; print(curstate().uuid_to_server['\" + server_id + \"'].get_sessions()[0].document.roots[0]._id)\";\n",
       "      cell.notebook.kernel.execute(cmd, {\n",
       "        iopub: {\n",
       "          output: function(msg) {\n",
       "            var element_id = msg.content.text.trim();\n",
       "            Bokeh.index[element_id].model.document.clear();\n",
       "            delete Bokeh.index[element_id];\n",
       "          }\n",
       "        }\n",
       "      });\n",
       "      // Destroy server and session\n",
       "      var cmd = \"import bokeh.io.notebook as ion; ion.destroy_server('\" + server_id + \"')\";\n",
       "      cell.notebook.kernel.execute(cmd);\n",
       "    }\n",
       "  }\n",
       "\n",
       "  /**\n",
       "   * Handle when a new output is added\n",
       "   */\n",
       "  function handleAddOutput(event, handle) {\n",
       "    var output_area = handle.output_area;\n",
       "    var output = handle.output;\n",
       "\n",
       "    // limit handleAddOutput to display_data with EXEC_MIME_TYPE content only\n",
       "    if ((output.output_type != \"display_data\") || (!output.data.hasOwnProperty(EXEC_MIME_TYPE))) {\n",
       "      return\n",
       "    }\n",
       "\n",
       "    var toinsert = output_area.element.find(`.${CLASS_NAME.split(' ')[0]}`);\n",
       "\n",
       "    if (output.metadata[EXEC_MIME_TYPE][\"id\"] !== undefined) {\n",
       "      toinsert[0].firstChild.textContent = output.data[JS_MIME_TYPE];\n",
       "      // store reference to embed id on output_area\n",
       "      output_area._bokeh_element_id = output.metadata[EXEC_MIME_TYPE][\"id\"];\n",
       "    }\n",
       "    if (output.metadata[EXEC_MIME_TYPE][\"server_id\"] !== undefined) {\n",
       "      var bk_div = document.createElement(\"div\");\n",
       "      bk_div.innerHTML = output.data[HTML_MIME_TYPE];\n",
       "      var script_attrs = bk_div.children[0].attributes;\n",
       "      for (var i = 0; i < script_attrs.length; i++) {\n",
       "        toinsert[0].firstChild.setAttribute(script_attrs[i].name, script_attrs[i].value);\n",
       "      }\n",
       "      // store reference to server id on output_area\n",
       "      output_area._bokeh_server_id = output.metadata[EXEC_MIME_TYPE][\"server_id\"];\n",
       "    }\n",
       "  }\n",
       "\n",
       "  function register_renderer(events, OutputArea) {\n",
       "\n",
       "    function append_mime(data, metadata, element) {\n",
       "      // create a DOM node to render to\n",
       "      var toinsert = this.create_output_subarea(\n",
       "        metadata,\n",
       "        CLASS_NAME,\n",
       "        EXEC_MIME_TYPE\n",
       "      );\n",
       "      this.keyboard_manager.register_events(toinsert);\n",
       "      // Render to node\n",
       "      var props = {data: data, metadata: metadata[EXEC_MIME_TYPE]};\n",
       "      render(props, toinsert[0]);\n",
       "      element.append(toinsert);\n",
       "      return toinsert\n",
       "    }\n",
       "\n",
       "    /* Handle when an output is cleared or removed */\n",
       "    events.on('clear_output.CodeCell', handleClearOutput);\n",
       "    events.on('delete.Cell', handleClearOutput);\n",
       "\n",
       "    /* Handle when a new output is added */\n",
       "    events.on('output_added.OutputArea', handleAddOutput);\n",
       "\n",
       "    /**\n",
       "     * Register the mime type and append_mime function with output_area\n",
       "     */\n",
       "    OutputArea.prototype.register_mime_type(EXEC_MIME_TYPE, append_mime, {\n",
       "      /* Is output safe? */\n",
       "      safe: true,\n",
       "      /* Index of renderer in `output_area.display_order` */\n",
       "      index: 0\n",
       "    });\n",
       "  }\n",
       "\n",
       "  // register the mime type if in Jupyter Notebook environment and previously unregistered\n",
       "  if (root.Jupyter !== undefined) {\n",
       "    var events = require('base/js/events');\n",
       "    var OutputArea = require('notebook/js/outputarea').OutputArea;\n",
       "\n",
       "    if (OutputArea.prototype.mime_types().indexOf(EXEC_MIME_TYPE) == -1) {\n",
       "      register_renderer(events, OutputArea);\n",
       "    }\n",
       "  }\n",
       "\n",
       "  \n",
       "  if (typeof (root._bokeh_timeout) === \"undefined\" || force === true) {\n",
       "    root._bokeh_timeout = Date.now() + 5000;\n",
       "    root._bokeh_failed_load = false;\n",
       "  }\n",
       "\n",
       "  var NB_LOAD_WARNING = {'data': {'text/html':\n",
       "     \"<div style='background-color: #fdd'>\\n\"+\n",
       "     \"<p>\\n\"+\n",
       "     \"BokehJS does not appear to have successfully loaded. If loading BokehJS from CDN, this \\n\"+\n",
       "     \"may be due to a slow or bad network connection. Possible fixes:\\n\"+\n",
       "     \"</p>\\n\"+\n",
       "     \"<ul>\\n\"+\n",
       "     \"<li>re-rerun `output_notebook()` to attempt to load from CDN again, or</li>\\n\"+\n",
       "     \"<li>use INLINE resources instead, as so:</li>\\n\"+\n",
       "     \"</ul>\\n\"+\n",
       "     \"<code>\\n\"+\n",
       "     \"from bokeh.resources import INLINE\\n\"+\n",
       "     \"output_notebook(resources=INLINE)\\n\"+\n",
       "     \"</code>\\n\"+\n",
       "     \"</div>\"}};\n",
       "\n",
       "  function display_loaded() {\n",
       "    var el = document.getElementById(\"ead582a3-6859-40ee-8359-2102aef4b58c\");\n",
       "    if (el != null) {\n",
       "      el.textContent = \"BokehJS is loading...\";\n",
       "    }\n",
       "    if (root.Bokeh !== undefined) {\n",
       "      if (el != null) {\n",
       "        el.textContent = \"BokehJS \" + root.Bokeh.version + \" successfully loaded.\";\n",
       "      }\n",
       "    } else if (Date.now() < root._bokeh_timeout) {\n",
       "      setTimeout(display_loaded, 100)\n",
       "    }\n",
       "  }\n",
       "\n",
       "\n",
       "  function run_callbacks() {\n",
       "    try {\n",
       "      root._bokeh_onload_callbacks.forEach(function(callback) { callback() });\n",
       "    }\n",
       "    finally {\n",
       "      delete root._bokeh_onload_callbacks\n",
       "    }\n",
       "    console.info(\"Bokeh: all callbacks have finished\");\n",
       "  }\n",
       "\n",
       "  function load_libs(js_urls, callback) {\n",
       "    root._bokeh_onload_callbacks.push(callback);\n",
       "    if (root._bokeh_is_loading > 0) {\n",
       "      console.log(\"Bokeh: BokehJS is being loaded, scheduling callback at\", now());\n",
       "      return null;\n",
       "    }\n",
       "    if (js_urls == null || js_urls.length === 0) {\n",
       "      run_callbacks();\n",
       "      return null;\n",
       "    }\n",
       "    console.log(\"Bokeh: BokehJS not loaded, scheduling load and callback at\", now());\n",
       "    root._bokeh_is_loading = js_urls.length;\n",
       "    for (var i = 0; i < js_urls.length; i++) {\n",
       "      var url = js_urls[i];\n",
       "      var s = document.createElement('script');\n",
       "      s.src = url;\n",
       "      s.async = false;\n",
       "      s.onreadystatechange = s.onload = function() {\n",
       "        root._bokeh_is_loading--;\n",
       "        if (root._bokeh_is_loading === 0) {\n",
       "          console.log(\"Bokeh: all BokehJS libraries loaded\");\n",
       "          run_callbacks()\n",
       "        }\n",
       "      };\n",
       "      s.onerror = function() {\n",
       "        console.warn(\"failed to load library \" + url);\n",
       "      };\n",
       "      console.log(\"Bokeh: injecting script tag for BokehJS library: \", url);\n",
       "      document.getElementsByTagName(\"head\")[0].appendChild(s);\n",
       "    }\n",
       "  };var element = document.getElementById(\"ead582a3-6859-40ee-8359-2102aef4b58c\");\n",
       "  if (element == null) {\n",
       "    console.log(\"Bokeh: ERROR: autoload.js configured with elementid 'ead582a3-6859-40ee-8359-2102aef4b58c' but no matching script tag was found. \")\n",
       "    return false;\n",
       "  }\n",
       "\n",
       "  var js_urls = [\"https://cdn.pydata.org/bokeh/release/bokeh-0.12.10.min.js\", \"https://cdn.pydata.org/bokeh/release/bokeh-widgets-0.12.10.min.js\", \"https://cdn.pydata.org/bokeh/release/bokeh-tables-0.12.10.min.js\", \"https://cdn.pydata.org/bokeh/release/bokeh-gl-0.12.10.min.js\"];\n",
       "\n",
       "  var inline_js = [\n",
       "    function(Bokeh) {\n",
       "      Bokeh.set_log_level(\"info\");\n",
       "    },\n",
       "    \n",
       "    function(Bokeh) {\n",
       "      \n",
       "    },\n",
       "    function(Bokeh) {\n",
       "      console.log(\"Bokeh: injecting CSS: https://cdn.pydata.org/bokeh/release/bokeh-0.12.10.min.css\");\n",
       "      Bokeh.embed.inject_css(\"https://cdn.pydata.org/bokeh/release/bokeh-0.12.10.min.css\");\n",
       "      console.log(\"Bokeh: injecting CSS: https://cdn.pydata.org/bokeh/release/bokeh-widgets-0.12.10.min.css\");\n",
       "      Bokeh.embed.inject_css(\"https://cdn.pydata.org/bokeh/release/bokeh-widgets-0.12.10.min.css\");\n",
       "      console.log(\"Bokeh: injecting CSS: https://cdn.pydata.org/bokeh/release/bokeh-tables-0.12.10.min.css\");\n",
       "      Bokeh.embed.inject_css(\"https://cdn.pydata.org/bokeh/release/bokeh-tables-0.12.10.min.css\");\n",
       "    }\n",
       "  ];\n",
       "\n",
       "  function run_inline_js() {\n",
       "    \n",
       "    if ((root.Bokeh !== undefined) || (force === true)) {\n",
       "      for (var i = 0; i < inline_js.length; i++) {\n",
       "        inline_js[i].call(root, root.Bokeh);\n",
       "      }if (force === true) {\n",
       "        display_loaded();\n",
       "      }} else if (Date.now() < root._bokeh_timeout) {\n",
       "      setTimeout(run_inline_js, 100);\n",
       "    } else if (!root._bokeh_failed_load) {\n",
       "      console.log(\"Bokeh: BokehJS failed to load within specified timeout.\");\n",
       "      root._bokeh_failed_load = true;\n",
       "    } else if (force !== true) {\n",
       "      var cell = $(document.getElementById(\"ead582a3-6859-40ee-8359-2102aef4b58c\")).parents('.cell').data().cell;\n",
       "      cell.output_area.append_execute_result(NB_LOAD_WARNING)\n",
       "    }\n",
       "\n",
       "  }\n",
       "\n",
       "  if (root._bokeh_is_loading === 0) {\n",
       "    console.log(\"Bokeh: BokehJS loaded, going straight to plotting\");\n",
       "    run_inline_js();\n",
       "  } else {\n",
       "    load_libs(js_urls, function() {\n",
       "      console.log(\"Bokeh: BokehJS plotting callback run at\", now());\n",
       "      run_inline_js();\n",
       "    });\n",
       "  }\n",
       "}(window));"
      ],
      "application/vnd.bokehjs_load.v0+json": "\n(function(root) {\n  function now() {\n    return new Date();\n  }\n\n  var force = true;\n\n  if (typeof (root._bokeh_onload_callbacks) === \"undefined\" || force === true) {\n    root._bokeh_onload_callbacks = [];\n    root._bokeh_is_loading = undefined;\n  }\n\n  \n\n  \n  if (typeof (root._bokeh_timeout) === \"undefined\" || force === true) {\n    root._bokeh_timeout = Date.now() + 5000;\n    root._bokeh_failed_load = false;\n  }\n\n  var NB_LOAD_WARNING = {'data': {'text/html':\n     \"<div style='background-color: #fdd'>\\n\"+\n     \"<p>\\n\"+\n     \"BokehJS does not appear to have successfully loaded. If loading BokehJS from CDN, this \\n\"+\n     \"may be due to a slow or bad network connection. Possible fixes:\\n\"+\n     \"</p>\\n\"+\n     \"<ul>\\n\"+\n     \"<li>re-rerun `output_notebook()` to attempt to load from CDN again, or</li>\\n\"+\n     \"<li>use INLINE resources instead, as so:</li>\\n\"+\n     \"</ul>\\n\"+\n     \"<code>\\n\"+\n     \"from bokeh.resources import INLINE\\n\"+\n     \"output_notebook(resources=INLINE)\\n\"+\n     \"</code>\\n\"+\n     \"</div>\"}};\n\n  function display_loaded() {\n    var el = document.getElementById(\"ead582a3-6859-40ee-8359-2102aef4b58c\");\n    if (el != null) {\n      el.textContent = \"BokehJS is loading...\";\n    }\n    if (root.Bokeh !== undefined) {\n      if (el != null) {\n        el.textContent = \"BokehJS \" + root.Bokeh.version + \" successfully loaded.\";\n      }\n    } else if (Date.now() < root._bokeh_timeout) {\n      setTimeout(display_loaded, 100)\n    }\n  }\n\n\n  function run_callbacks() {\n    try {\n      root._bokeh_onload_callbacks.forEach(function(callback) { callback() });\n    }\n    finally {\n      delete root._bokeh_onload_callbacks\n    }\n    console.info(\"Bokeh: all callbacks have finished\");\n  }\n\n  function load_libs(js_urls, callback) {\n    root._bokeh_onload_callbacks.push(callback);\n    if (root._bokeh_is_loading > 0) {\n      console.log(\"Bokeh: BokehJS is being loaded, scheduling callback at\", now());\n      return null;\n    }\n    if (js_urls == null || js_urls.length === 0) {\n      run_callbacks();\n      return null;\n    }\n    console.log(\"Bokeh: BokehJS not loaded, scheduling load and callback at\", now());\n    root._bokeh_is_loading = js_urls.length;\n    for (var i = 0; i < js_urls.length; i++) {\n      var url = js_urls[i];\n      var s = document.createElement('script');\n      s.src = url;\n      s.async = false;\n      s.onreadystatechange = s.onload = function() {\n        root._bokeh_is_loading--;\n        if (root._bokeh_is_loading === 0) {\n          console.log(\"Bokeh: all BokehJS libraries loaded\");\n          run_callbacks()\n        }\n      };\n      s.onerror = function() {\n        console.warn(\"failed to load library \" + url);\n      };\n      console.log(\"Bokeh: injecting script tag for BokehJS library: \", url);\n      document.getElementsByTagName(\"head\")[0].appendChild(s);\n    }\n  };var element = document.getElementById(\"ead582a3-6859-40ee-8359-2102aef4b58c\");\n  if (element == null) {\n    console.log(\"Bokeh: ERROR: autoload.js configured with elementid 'ead582a3-6859-40ee-8359-2102aef4b58c' but no matching script tag was found. \")\n    return false;\n  }\n\n  var js_urls = [\"https://cdn.pydata.org/bokeh/release/bokeh-0.12.10.min.js\", \"https://cdn.pydata.org/bokeh/release/bokeh-widgets-0.12.10.min.js\", \"https://cdn.pydata.org/bokeh/release/bokeh-tables-0.12.10.min.js\", \"https://cdn.pydata.org/bokeh/release/bokeh-gl-0.12.10.min.js\"];\n\n  var inline_js = [\n    function(Bokeh) {\n      Bokeh.set_log_level(\"info\");\n    },\n    \n    function(Bokeh) {\n      \n    },\n    function(Bokeh) {\n      console.log(\"Bokeh: injecting CSS: https://cdn.pydata.org/bokeh/release/bokeh-0.12.10.min.css\");\n      Bokeh.embed.inject_css(\"https://cdn.pydata.org/bokeh/release/bokeh-0.12.10.min.css\");\n      console.log(\"Bokeh: injecting CSS: https://cdn.pydata.org/bokeh/release/bokeh-widgets-0.12.10.min.css\");\n      Bokeh.embed.inject_css(\"https://cdn.pydata.org/bokeh/release/bokeh-widgets-0.12.10.min.css\");\n      console.log(\"Bokeh: injecting CSS: https://cdn.pydata.org/bokeh/release/bokeh-tables-0.12.10.min.css\");\n      Bokeh.embed.inject_css(\"https://cdn.pydata.org/bokeh/release/bokeh-tables-0.12.10.min.css\");\n    }\n  ];\n\n  function run_inline_js() {\n    \n    if ((root.Bokeh !== undefined) || (force === true)) {\n      for (var i = 0; i < inline_js.length; i++) {\n        inline_js[i].call(root, root.Bokeh);\n      }if (force === true) {\n        display_loaded();\n      }} else if (Date.now() < root._bokeh_timeout) {\n      setTimeout(run_inline_js, 100);\n    } else if (!root._bokeh_failed_load) {\n      console.log(\"Bokeh: BokehJS failed to load within specified timeout.\");\n      root._bokeh_failed_load = true;\n    } else if (force !== true) {\n      var cell = $(document.getElementById(\"ead582a3-6859-40ee-8359-2102aef4b58c\")).parents('.cell').data().cell;\n      cell.output_area.append_execute_result(NB_LOAD_WARNING)\n    }\n\n  }\n\n  if (root._bokeh_is_loading === 0) {\n    console.log(\"Bokeh: BokehJS loaded, going straight to plotting\");\n    run_inline_js();\n  } else {\n    load_libs(js_urls, function() {\n      console.log(\"Bokeh: BokehJS plotting callback run at\", now());\n      run_inline_js();\n    });\n  }\n}(window));"
     },
     "metadata": {},
     "output_type": "display_data"
    }
   ],
   "source": [
    "from bokeh.models import ColumnDataSource, LabelSet\n",
    "from bokeh.plotting import figure, show, output_file\n",
    "from bokeh.io import output_notebook\n",
    "output_notebook()"
   ]
  },
  {
   "cell_type": "code",
   "execution_count": 9,
   "metadata": {},
   "outputs": [
    {
     "data": {
      "text/html": [
       "\n",
       "<div class=\"bk-root\">\n",
       "    <div class=\"bk-plotdiv\" id=\"478d738a-fbb9-4797-9b15-0d9614ab55f2\"></div>\n",
       "</div>"
      ]
     },
     "metadata": {},
     "output_type": "display_data"
    },
    {
     "data": {
      "application/javascript": [
       "(function(root) {\n",
       "  function embed_document(root) {\n",
       "    var docs_json = {\"8bba621b-ac64-47cd-bb68-c926057188d8\":{\"roots\":{\"references\":[{\"attributes\":{\"callback\":null},\"id\":\"90cbde45-d16c-4b48-8963-5707e16ad6e4\",\"type\":\"DataRange1d\"},{\"attributes\":{},\"id\":\"0fa1632f-f34d-47e8-bfeb-d641f266c1d9\",\"type\":\"LinearScale\"},{\"attributes\":{\"bottom\":{\"value\":0},\"fill_alpha\":{\"value\":0.1},\"fill_color\":{\"value\":\"#1f77b4\"},\"left\":{\"field\":\"left\"},\"line_alpha\":{\"value\":0.1},\"line_color\":{\"value\":\"#1f77b4\"},\"right\":{\"field\":\"right\"},\"top\":{\"field\":\"top\"}},\"id\":\"4e84fa61-3bb4-4558-a0eb-c559cf72a264\",\"type\":\"Quad\"},{\"attributes\":{\"plot\":null,\"text\":\"Word distribution accross all twits\"},\"id\":\"a812ccd7-cf2f-45e9-b183-2be50eb6530e\",\"type\":\"Title\"},{\"attributes\":{\"formatter\":{\"id\":\"86e0ac88-4508-4d1c-b1dd-c2a65d036b37\",\"type\":\"BasicTickFormatter\"},\"plot\":{\"id\":\"8d564dcf-6dd0-4090-9a07-803f4853c9e2\",\"subtype\":\"Figure\",\"type\":\"Plot\"},\"ticker\":{\"id\":\"1f69d8a1-ba2a-4190-87c0-56cb7348654e\",\"type\":\"BasicTicker\"}},\"id\":\"cf018887-fe63-432b-a0e2-2cf76b9e0287\",\"type\":\"LinearAxis\"},{\"attributes\":{},\"id\":\"1f69d8a1-ba2a-4190-87c0-56cb7348654e\",\"type\":\"BasicTicker\"},{\"attributes\":{\"plot\":{\"id\":\"8d564dcf-6dd0-4090-9a07-803f4853c9e2\",\"subtype\":\"Figure\",\"type\":\"Plot\"},\"ticker\":{\"id\":\"1f69d8a1-ba2a-4190-87c0-56cb7348654e\",\"type\":\"BasicTicker\"}},\"id\":\"e783c5b1-292d-47dd-a306-0ebf5aa449cf\",\"type\":\"Grid\"},{\"attributes\":{\"callback\":null,\"column_names\":[\"left\",\"right\",\"top\"],\"data\":{\"left\":{\"__ndarray__\":\"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\",\"dtype\":\"float64\",\"shape\":[500]},\"right\":{\"__ndarray__\":\"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\",\"dtype\":\"float64\",\"shape\":[500]},\"top\":{\"__ndarray__\":\"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\",\"dtype\":\"float64\",\"shape\":[500]}}},\"id\":\"c617c9af-7c89-4fc8-83dc-fd3e7c512a95\",\"type\":\"ColumnDataSource\"},{\"attributes\":{},\"id\":\"86e0ac88-4508-4d1c-b1dd-c2a65d036b37\",\"type\":\"BasicTickFormatter\"},{\"attributes\":{\"formatter\":{\"id\":\"77775299-31c8-411b-a96b-8b15dfa784f5\",\"type\":\"BasicTickFormatter\"},\"plot\":{\"id\":\"8d564dcf-6dd0-4090-9a07-803f4853c9e2\",\"subtype\":\"Figure\",\"type\":\"Plot\"},\"ticker\":{\"id\":\"7ef6f63d-5b5c-4a4a-9cec-39fc34848a7a\",\"type\":\"BasicTicker\"}},\"id\":\"396ff4a3-b381-4fd7-bca3-083e7666487c\",\"type\":\"LinearAxis\"},{\"attributes\":{},\"id\":\"77775299-31c8-411b-a96b-8b15dfa784f5\",\"type\":\"BasicTickFormatter\"},{\"attributes\":{},\"id\":\"7ef6f63d-5b5c-4a4a-9cec-39fc34848a7a\",\"type\":\"BasicTicker\"},{\"attributes\":{\"dimension\":1,\"plot\":{\"id\":\"8d564dcf-6dd0-4090-9a07-803f4853c9e2\",\"subtype\":\"Figure\",\"type\":\"Plot\"},\"ticker\":{\"id\":\"7ef6f63d-5b5c-4a4a-9cec-39fc34848a7a\",\"type\":\"BasicTicker\"}},\"id\":\"4ecb8bca-53f5-4247-a7a1-3a6cef112ec4\",\"type\":\"Grid\"},{\"attributes\":{\"bottom\":{\"value\":0},\"fill_color\":{\"value\":\"#1f77b4\"},\"left\":{\"field\":\"left\"},\"line_color\":{\"value\":\"#555555\"},\"right\":{\"field\":\"right\"},\"top\":{\"field\":\"top\"}},\"id\":\"41cc0b51-29e0-4400-b8e4-9eb9f59a35b0\",\"type\":\"Quad\"},{\"attributes\":{},\"id\":\"5c8632f8-b0da-4a0d-b866-3728e12d3075\",\"type\":\"PanTool\"},{\"attributes\":{\"below\":[{\"id\":\"cf018887-fe63-432b-a0e2-2cf76b9e0287\",\"type\":\"LinearAxis\"}],\"left\":[{\"id\":\"396ff4a3-b381-4fd7-bca3-083e7666487c\",\"type\":\"LinearAxis\"}],\"renderers\":[{\"id\":\"cf018887-fe63-432b-a0e2-2cf76b9e0287\",\"type\":\"LinearAxis\"},{\"id\":\"e783c5b1-292d-47dd-a306-0ebf5aa449cf\",\"type\":\"Grid\"},{\"id\":\"396ff4a3-b381-4fd7-bca3-083e7666487c\",\"type\":\"LinearAxis\"},{\"id\":\"4ecb8bca-53f5-4247-a7a1-3a6cef112ec4\",\"type\":\"Grid\"},{\"id\":\"b7724d67-9128-4660-b98d-29edfab71c20\",\"type\":\"GlyphRenderer\"}],\"title\":{\"id\":\"a812ccd7-cf2f-45e9-b183-2be50eb6530e\",\"type\":\"Title\"},\"toolbar\":{\"id\":\"ee5743c8-20cf-4dd8-9300-3be2eab8a46d\",\"type\":\"Toolbar\"},\"toolbar_location\":\"above\",\"x_range\":{\"id\":\"72c9703f-8a7d-4be1-a609-89ec6ab71e57\",\"type\":\"DataRange1d\"},\"x_scale\":{\"id\":\"8fe5efcc-8f9f-446e-a6de-a3a6db9f3e3a\",\"type\":\"LinearScale\"},\"y_range\":{\"id\":\"90cbde45-d16c-4b48-8963-5707e16ad6e4\",\"type\":\"DataRange1d\"},\"y_scale\":{\"id\":\"0fa1632f-f34d-47e8-bfeb-d641f266c1d9\",\"type\":\"LinearScale\"}},\"id\":\"8d564dcf-6dd0-4090-9a07-803f4853c9e2\",\"subtype\":\"Figure\",\"type\":\"Plot\"},{\"attributes\":{\"source\":{\"id\":\"c617c9af-7c89-4fc8-83dc-fd3e7c512a95\",\"type\":\"ColumnDataSource\"}},\"id\":\"a3ef0e7e-fee5-4898-a54d-0d061c9e73e5\",\"type\":\"CDSView\"},{\"attributes\":{\"active_drag\":\"auto\",\"active_inspect\":\"auto\",\"active_scroll\":\"auto\",\"active_tap\":\"auto\",\"tools\":[{\"id\":\"5c8632f8-b0da-4a0d-b866-3728e12d3075\",\"type\":\"PanTool\"},{\"id\":\"ac51221c-d27b-48a6-9f09-a2e322cf9a86\",\"type\":\"WheelZoomTool\"},{\"id\":\"4c8bc8a1-4d90-43cb-9706-c0b43c9f7a81\",\"type\":\"ResetTool\"},{\"id\":\"b181bc82-f37b-497a-8a22-d882151d3970\",\"type\":\"SaveTool\"}]},\"id\":\"ee5743c8-20cf-4dd8-9300-3be2eab8a46d\",\"type\":\"Toolbar\"},{\"attributes\":{},\"id\":\"ac51221c-d27b-48a6-9f09-a2e322cf9a86\",\"type\":\"WheelZoomTool\"},{\"attributes\":{},\"id\":\"4c8bc8a1-4d90-43cb-9706-c0b43c9f7a81\",\"type\":\"ResetTool\"},{\"attributes\":{},\"id\":\"b181bc82-f37b-497a-8a22-d882151d3970\",\"type\":\"SaveTool\"},{\"attributes\":{\"callback\":null},\"id\":\"72c9703f-8a7d-4be1-a609-89ec6ab71e57\",\"type\":\"DataRange1d\"},{\"attributes\":{\"data_source\":{\"id\":\"c617c9af-7c89-4fc8-83dc-fd3e7c512a95\",\"type\":\"ColumnDataSource\"},\"glyph\":{\"id\":\"41cc0b51-29e0-4400-b8e4-9eb9f59a35b0\",\"type\":\"Quad\"},\"hover_glyph\":null,\"muted_glyph\":null,\"nonselection_glyph\":{\"id\":\"4e84fa61-3bb4-4558-a0eb-c559cf72a264\",\"type\":\"Quad\"},\"selection_glyph\":null,\"view\":{\"id\":\"a3ef0e7e-fee5-4898-a54d-0d061c9e73e5\",\"type\":\"CDSView\"}},\"id\":\"b7724d67-9128-4660-b98d-29edfab71c20\",\"type\":\"GlyphRenderer\"},{\"attributes\":{},\"id\":\"8fe5efcc-8f9f-446e-a6de-a3a6db9f3e3a\",\"type\":\"LinearScale\"}],\"root_ids\":[\"8d564dcf-6dd0-4090-9a07-803f4853c9e2\"]},\"title\":\"Bokeh Application\",\"version\":\"0.12.10\"}};\n",
       "    var render_items = [{\"docid\":\"8bba621b-ac64-47cd-bb68-c926057188d8\",\"elementid\":\"478d738a-fbb9-4797-9b15-0d9614ab55f2\",\"modelid\":\"8d564dcf-6dd0-4090-9a07-803f4853c9e2\"}];\n",
       "\n",
       "    root.Bokeh.embed.embed_items(docs_json, render_items);\n",
       "  }\n",
       "\n",
       "  if (root.Bokeh !== undefined) {\n",
       "    embed_document(root);\n",
       "  } else {\n",
       "    var attempts = 0;\n",
       "    var timer = setInterval(function(root) {\n",
       "      if (root.Bokeh !== undefined) {\n",
       "        embed_document(root);\n",
       "        clearInterval(timer);\n",
       "      }\n",
       "      attempts++;\n",
       "      if (attempts > 100) {\n",
       "        console.log(\"Bokeh: ERROR: Unable to embed document because BokehJS library is missing\")\n",
       "        clearInterval(timer);\n",
       "      }\n",
       "    }, 10, root)\n",
       "  }\n",
       "})(window);"
      ],
      "application/vnd.bokehjs_exec.v0+json": ""
     },
     "metadata": {
      "application/vnd.bokehjs_exec.v0+json": {
       "id": "8d564dcf-6dd0-4090-9a07-803f4853c9e2"
      }
     },
     "output_type": "display_data"
    }
   ],
   "source": [
    "import math\n",
    "\n",
    "def plot_distribution(vocabulary):\n",
    "\n",
    "    hist, edges = np.histogram(list(map(lambda x:math.log(x[1]),vocabulary.most_common())), density=True, bins=500)\n",
    "\n",
    "    p = figure(tools=\"pan,wheel_zoom,reset,save\",\n",
    "               toolbar_location=\"above\",\n",
    "               title=\"Word distribution accross all twits\")\n",
    "    p.quad(top=hist, bottom=0, left=edges[:-1], right=edges[1:], line_color=\"#555555\", )\n",
    "    show(p)\n",
    "\n",
    "plot_distribution(vocab)"
   ]
  },
  {
   "cell_type": "markdown",
   "metadata": {},
   "source": [
    "It's clear now that a porcion of the words are overly represented. These kind of words are called _stop words_, and it is a common practice to remove them when doing text analysis. Let's do it and see the distribution again:"
   ]
  },
  {
   "cell_type": "code",
   "execution_count": 10,
   "metadata": {},
   "outputs": [
    {
     "name": "stdout",
     "output_type": "stream",
     "text": [
      "[nltk_data] Downloading package stopwords to\n",
      "[nltk_data]     /export/home/ehsan/nltk_data...\n",
      "[nltk_data]   Package stopwords is already up-to-date!\n"
     ]
    },
    {
     "data": {
      "text/plain": [
       "True"
      ]
     },
     "execution_count": 10,
     "metadata": {},
     "output_type": "execute_result"
    }
   ],
   "source": [
    "import nltk\n",
    "\n",
    "nltk.download('stopwords')"
   ]
  },
  {
   "cell_type": "code",
   "execution_count": 11,
   "metadata": {},
   "outputs": [
    {
     "data": {
      "text/plain": [
       "[('add', 2515),\n",
       " ('minutes', 1988),\n",
       " ('heat', 1248),\n",
       " ('water', 999),\n",
       " ('pan', 958),\n",
       " ('bowl', 938),\n",
       " ('mixture', 924),\n",
       " ('oil', 887),\n",
       " ('mix', 887),\n",
       " ('place', 870),\n",
       " ('oven', 783),\n",
       " ('cook', 779),\n",
       " ('salt', 740),\n",
       " ('stir', 738),\n",
       " ('dough', 734),\n",
       " ('sugar', 722),\n",
       " ('remove', 720),\n",
       " ('butter', 680),\n",
       " ('large', 652),\n",
       " ('well', 637)]"
      ]
     },
     "execution_count": 11,
     "metadata": {},
     "output_type": "execute_result"
    }
   ],
   "source": [
    "from nltk.corpus import stopwords\n",
    "stop = stopwords.words('english')\n",
    "\n",
    "vocab_reduced = Counter()\n",
    "for w, c in vocab.items():\n",
    "    if not w in stop:\n",
    "        vocab_reduced[w]=c\n",
    "\n",
    "vocab_reduced.most_common(20)"
   ]
  },
  {
   "cell_type": "code",
   "execution_count": 12,
   "metadata": {},
   "outputs": [
    {
     "data": {
      "text/plain": [
       "['i',\n",
       " 'me',\n",
       " 'my',\n",
       " 'myself',\n",
       " 'we',\n",
       " 'our',\n",
       " 'ours',\n",
       " 'ourselves',\n",
       " 'you',\n",
       " \"you're\",\n",
       " \"you've\",\n",
       " \"you'll\",\n",
       " \"you'd\",\n",
       " 'your',\n",
       " 'yours',\n",
       " 'yourself',\n",
       " 'yourselves',\n",
       " 'he',\n",
       " 'him',\n",
       " 'his',\n",
       " 'himself',\n",
       " 'she',\n",
       " \"she's\",\n",
       " 'her',\n",
       " 'hers',\n",
       " 'herself',\n",
       " 'it',\n",
       " \"it's\",\n",
       " 'its',\n",
       " 'itself',\n",
       " 'they',\n",
       " 'them',\n",
       " 'their',\n",
       " 'theirs',\n",
       " 'themselves',\n",
       " 'what',\n",
       " 'which',\n",
       " 'who',\n",
       " 'whom',\n",
       " 'this',\n",
       " 'that',\n",
       " \"that'll\",\n",
       " 'these',\n",
       " 'those',\n",
       " 'am',\n",
       " 'is',\n",
       " 'are',\n",
       " 'was',\n",
       " 'were',\n",
       " 'be',\n",
       " 'been',\n",
       " 'being',\n",
       " 'have',\n",
       " 'has',\n",
       " 'had',\n",
       " 'having',\n",
       " 'do',\n",
       " 'does',\n",
       " 'did',\n",
       " 'doing',\n",
       " 'a',\n",
       " 'an',\n",
       " 'the',\n",
       " 'and',\n",
       " 'but',\n",
       " 'if',\n",
       " 'or',\n",
       " 'because',\n",
       " 'as',\n",
       " 'until',\n",
       " 'while',\n",
       " 'of',\n",
       " 'at',\n",
       " 'by',\n",
       " 'for',\n",
       " 'with',\n",
       " 'about',\n",
       " 'against',\n",
       " 'between',\n",
       " 'into',\n",
       " 'through',\n",
       " 'during',\n",
       " 'before',\n",
       " 'after',\n",
       " 'above',\n",
       " 'below',\n",
       " 'to',\n",
       " 'from',\n",
       " 'up',\n",
       " 'down',\n",
       " 'in',\n",
       " 'out',\n",
       " 'on',\n",
       " 'off',\n",
       " 'over',\n",
       " 'under',\n",
       " 'again',\n",
       " 'further',\n",
       " 'then',\n",
       " 'once',\n",
       " 'here',\n",
       " 'there',\n",
       " 'when',\n",
       " 'where',\n",
       " 'why',\n",
       " 'how',\n",
       " 'all',\n",
       " 'any',\n",
       " 'both',\n",
       " 'each',\n",
       " 'few',\n",
       " 'more',\n",
       " 'most',\n",
       " 'other',\n",
       " 'some',\n",
       " 'such',\n",
       " 'no',\n",
       " 'nor',\n",
       " 'not',\n",
       " 'only',\n",
       " 'own',\n",
       " 'same',\n",
       " 'so',\n",
       " 'than',\n",
       " 'too',\n",
       " 'very',\n",
       " 's',\n",
       " 't',\n",
       " 'can',\n",
       " 'will',\n",
       " 'just',\n",
       " 'don',\n",
       " \"don't\",\n",
       " 'should',\n",
       " \"should've\",\n",
       " 'now',\n",
       " 'd',\n",
       " 'll',\n",
       " 'm',\n",
       " 'o',\n",
       " 're',\n",
       " 've',\n",
       " 'y',\n",
       " 'ain',\n",
       " 'aren',\n",
       " \"aren't\",\n",
       " 'couldn',\n",
       " \"couldn't\",\n",
       " 'didn',\n",
       " \"didn't\",\n",
       " 'doesn',\n",
       " \"doesn't\",\n",
       " 'hadn',\n",
       " \"hadn't\",\n",
       " 'hasn',\n",
       " \"hasn't\",\n",
       " 'haven',\n",
       " \"haven't\",\n",
       " 'isn',\n",
       " \"isn't\",\n",
       " 'ma',\n",
       " 'mightn',\n",
       " \"mightn't\",\n",
       " 'mustn',\n",
       " \"mustn't\",\n",
       " 'needn',\n",
       " \"needn't\",\n",
       " 'shan',\n",
       " \"shan't\",\n",
       " 'shouldn',\n",
       " \"shouldn't\",\n",
       " 'wasn',\n",
       " \"wasn't\",\n",
       " 'weren',\n",
       " \"weren't\",\n",
       " 'won',\n",
       " \"won't\",\n",
       " 'wouldn',\n",
       " \"wouldn't\"]"
      ]
     },
     "execution_count": 12,
     "metadata": {},
     "output_type": "execute_result"
    }
   ],
   "source": [
    "stop"
   ]
  },
  {
   "cell_type": "markdown",
   "metadata": {},
   "source": [
    "This looks better, only in the 20 most common words we already see words that make sense: _good, love, really_... Let's see the distribution now"
   ]
  },
  {
   "cell_type": "code",
   "execution_count": 13,
   "metadata": {},
   "outputs": [
    {
     "data": {
      "text/html": [
       "\n",
       "<div class=\"bk-root\">\n",
       "    <div class=\"bk-plotdiv\" id=\"d65bc3d9-ccbc-46ba-93aa-eef3b676cbe3\"></div>\n",
       "</div>"
      ]
     },
     "metadata": {},
     "output_type": "display_data"
    },
    {
     "data": {
      "application/javascript": [
       "(function(root) {\n",
       "  function embed_document(root) {\n",
       "    var docs_json = {\"241c8d24-0bae-4c6a-8d61-6b87b27d55f8\":{\"roots\":{\"references\":[{\"attributes\":{},\"id\":\"a901a1ca-6c10-40d2-88c4-3e41afbc4b59\",\"type\":\"ResetTool\"},{\"attributes\":{\"formatter\":{\"id\":\"2f25dcff-22b9-4141-8952-8473c45fad3b\",\"type\":\"BasicTickFormatter\"},\"plot\":{\"id\":\"22c19379-1353-4a29-8dc9-77b856994fd5\",\"subtype\":\"Figure\",\"type\":\"Plot\"},\"ticker\":{\"id\":\"08827a85-a827-4f10-bc38-da843844025b\",\"type\":\"BasicTicker\"}},\"id\":\"edaf452e-b5e5-4482-8cab-732846e7fde0\",\"type\":\"LinearAxis\"},{\"attributes\":{},\"id\":\"08827a85-a827-4f10-bc38-da843844025b\",\"type\":\"BasicTicker\"},{\"attributes\":{},\"id\":\"8775fc3e-ef7b-4e6a-b7e2-a72877e83b05\",\"type\":\"BasicTickFormatter\"},{\"attributes\":{\"data_source\":{\"id\":\"e4dbb50b-f154-4bb0-bc7c-7f2b61ba2ed5\",\"type\":\"ColumnDataSource\"},\"glyph\":{\"id\":\"6b161542-b2b3-431a-afae-f75f84ac68a0\",\"type\":\"Quad\"},\"hover_glyph\":null,\"muted_glyph\":null,\"nonselection_glyph\":{\"id\":\"f8e99664-fdb1-4522-a6c1-c5029b84d2ab\",\"type\":\"Quad\"},\"selection_glyph\":null,\"view\":{\"id\":\"e4bfd7a1-163c-4804-8d72-81b0651f8fb1\",\"type\":\"CDSView\"}},\"id\":\"b46a406a-e42d-431d-a70f-bacaa10f91fb\",\"type\":\"GlyphRenderer\"},{\"attributes\":{\"plot\":{\"id\":\"22c19379-1353-4a29-8dc9-77b856994fd5\",\"subtype\":\"Figure\",\"type\":\"Plot\"},\"ticker\":{\"id\":\"08827a85-a827-4f10-bc38-da843844025b\",\"type\":\"BasicTicker\"}},\"id\":\"466282f8-a121-439d-8cd0-c0bbc6a42507\",\"type\":\"Grid\"},{\"attributes\":{\"source\":{\"id\":\"e4dbb50b-f154-4bb0-bc7c-7f2b61ba2ed5\",\"type\":\"ColumnDataSource\"}},\"id\":\"e4bfd7a1-163c-4804-8d72-81b0651f8fb1\",\"type\":\"CDSView\"},{\"attributes\":{\"formatter\":{\"id\":\"8775fc3e-ef7b-4e6a-b7e2-a72877e83b05\",\"type\":\"BasicTickFormatter\"},\"plot\":{\"id\":\"22c19379-1353-4a29-8dc9-77b856994fd5\",\"subtype\":\"Figure\",\"type\":\"Plot\"},\"ticker\":{\"id\":\"76080dcb-25a8-4e31-90de-8b55388debd4\",\"type\":\"BasicTicker\"}},\"id\":\"4f11f6ef-1988-4392-9f17-3a927ada8145\",\"type\":\"LinearAxis\"},{\"attributes\":{},\"id\":\"841ae0ac-e525-44ac-ab7d-16f940dab4cd\",\"type\":\"PanTool\"},{\"attributes\":{},\"id\":\"7054c0f3-b357-491d-8fda-2eba5ab6b3cf\",\"type\":\"SaveTool\"},{\"attributes\":{\"bottom\":{\"value\":0},\"fill_alpha\":{\"value\":0.1},\"fill_color\":{\"value\":\"#1f77b4\"},\"left\":{\"field\":\"left\"},\"line_alpha\":{\"value\":0.1},\"line_color\":{\"value\":\"#1f77b4\"},\"right\":{\"field\":\"right\"},\"top\":{\"field\":\"top\"}},\"id\":\"f8e99664-fdb1-4522-a6c1-c5029b84d2ab\",\"type\":\"Quad\"},{\"attributes\":{\"callback\":null},\"id\":\"3b3ffcfb-1bbd-4b4e-8538-34c17709a571\",\"type\":\"DataRange1d\"},{\"attributes\":{\"callback\":null,\"column_names\":[\"left\",\"right\",\"top\"],\"data\":{\"left\":{\"__ndarray__\":\"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\",\"dtype\":\"float64\",\"shape\":[500]},\"right\":{\"__ndarray__\":\"9ndUlDAJkD/2d1SUMAmgP/Gzft7IDag/9ndUlDAJsD/0lWm5fAu0P/Gzft7IDbg/7tGTAxUQvD/2d1SUMAnAP/UG36ZWCsI/9JVpuXwLxD/yJPTLogzGP/Gzft7IDcg/8EIJ8e4Oyj/u0ZMDFRDMP+1gHhY7Ec4/9ndUlDAJ0D91v5mdwwnRP/UG36ZWCtI/dE4ksOkK0z/0lWm5fAvUP3PdrsIPDNU/8iT0y6IM1j9ybDnVNQ3XP/Gzft7IDdg/cPvD51sO2T/wQgnx7g7aP2+KTvqBD9s/7tGTAxUQ3D9uGdkMqBDdP+1gHhY7Ed4/bahjH84R3z/2d1SUMAngP7Yb9xh6ieA/db+ZncMJ4T81YzwiDYrhP/UG36ZWCuI/tKqBK6CK4j90TiSw6QrjPzTyxjQzi+M/9JVpuXwL5D+zOQw+xovkP3PdrsIPDOU/M4FRR1mM5T/yJPTLogzmP7LIllDsjOY/cmw51TUN5z8xENxZf43nP/Gzft7IDeg/sVchYxKO6D9w+8PnWw7pPzCfZmyljuk/8EIJ8e4O6j+v5qt1OI/qP2+KTvqBD+s/Ly7xfsuP6z/u0ZMDFRDsP651NohekOw/bhnZDKgQ7T8uvXuR8ZDtP+1gHhY7Ee4/rQTBmoSR7j9tqGMfzhHvPyxMBqQXku8/9ndUlDAJ8D/WyaVWVUnwP7Yb9xh6ifA/lm1I257J8D91v5mdwwnxP1UR61/oSfE/NWM8Ig2K8T8VtY3kMcrxP/UG36ZWCvI/1VgwaXtK8j+0qoEroIryP5T80u3EyvI/dE4ksOkK8z9UoHVyDkvzPzTyxjQzi/M/FEQY91fL8z/0lWm5fAv0P9PnunuhS/Q/szkMPsaL9D+Ti10A68v0P3PdrsIPDPU/Uy8AhTRM9T8zgVFHWYz1PxLTogl+zPU/8iT0y6IM9j/SdkWOx0z2P7LIllDsjPY/khroEhHN9j9ybDnVNQ33P1G+ipdaTfc/MRDcWX+N9z8RYi0cpM33P/Gzft7IDfg/0QXQoO1N+D+xVyFjEo74P5GpciU3zvg/cPvD51sO+T9QTRWqgE75PzCfZmyljvk/EPG3LsrO+T/wQgnx7g76P9CUWrMTT/o/r+ardTiP+j+POP03Xc/6P2+KTvqBD/s/T9yfvKZP+z8vLvF+y4/7Pw+AQkHwz/s/7tGTAxUQ/D/OI+XFOVD8P651NohekPw/jseHSoPQ/D9uGdkMqBD9P05rKs/MUP0/Lr17kfGQ/T8ND81TFtH9P+1gHhY7Ef4/zbJv2F9R/j+tBMGahJH+P41WEl2p0f4/bahjH84R/z9M+rTh8lH/PyxMBqQXkv8/DJ5XZjzS/z/2d1SUMAkAQOYgffVCKQBA1smlVlVJAEDGcs63Z2kAQLYb9xh6iQBApsQfeoypAECWbUjbnskAQIUWcTyx6QBAdb+ZncMJAUBlaML+1SkBQFUR61/oSQFARboTwfppAUA1YzwiDYoBQCUMZYMfqgFAFbWN5DHKAUAFXrZFROoBQPUG36ZWCgJA5a8HCGkqAkDVWDBpe0oCQMUBWcqNagJAtKqBK6CKAkCkU6qMsqoCQJT80u3EygJAhKX7TtfqAkB0TiSw6QoDQGT3TBH8KgNAVKB1cg5LA0BESZ7TIGsDQDTyxjQziwNAJJvvlUWrA0AURBj3V8sDQATtQFhq6wNA9JVpuXwLBEDjPpIajysEQNPnunuhSwRAw5Dj3LNrBECzOQw+xosEQKPiNJ/YqwRAk4tdAOvLBECDNIZh/esEQHPdrsIPDAVAY4bXIyIsBUBTLwCFNEwFQEPYKOZGbAVAM4FRR1mMBUAiKnqoa6wFQBLTogl+zAVAAnzLapDsBUDyJPTLogwGQOLNHC21LAZA0nZFjsdMBkDCH27v2WwGQLLIllDsjAZAonG/sf6sBkCSGugSEc0GQILDEHQj7QZAcmw51TUNB0BiFWI2SC0HQFG+ipdaTQdAQWez+GxtB0AxENxZf40HQCG5BLuRrQdAEWItHKTNB0ABC1Z9tu0HQPGzft7IDQhA4VynP9stCEDRBdCg7U0IQMGu+AEAbghAsVchYxKOCEChAErEJK4IQJGpciU3zghAgFKbhknuCEBw+8PnWw4JQGCk7EhuLglAUE0VqoBOCUBA9j0Lk24JQDCfZmyljglAIEiPzbeuCUAQ8bcuys4JQACa4I/c7glA8EIJ8e4OCkDg6zFSAS8KQNCUWrMTTwpAwD2DFCZvCkCv5qt1OI8KQJ+P1NZKrwpAjzj9N13PCkB/4SWZb+8KQG+KTvqBDwtAXzN3W5QvC0BP3J+8pk8LQD+FyB25bwtALy7xfsuPC0Af1xng3a8LQA+AQkHwzwtA/yhrogLwC0Du0ZMDFRAMQN56vGQnMAxAziPlxTlQDEC+zA0nTHAMQK51NohekAxAnh5f6XCwDECOx4dKg9AMQH5wsKuV8AxAbhnZDKgQDUBewgFuujANQE5rKs/MUA1APhRTMN9wDUAuvXuR8ZANQB1mpPIDsQ1ADQ/NUxbRDUD9t/W0KPENQO1gHhY7EQ5A3QlHd00xDkDNsm/YX1EOQL1bmDlycQ5ArQTBmoSRDkCdren7lrEOQI1WEl2p0Q5Aff86vrvxDkBtqGMfzhEPQF1RjIDgMQ9ATPq04fJRD0A8o91CBXIPQCxMBqQXkg9AHPUuBSqyD0AMnldmPNIPQPxGgMdO8g9A9ndUlDAJEEBuzOjEORkQQOYgffVCKRBAXnURJkw5EEDWyaVWVUkQQE4eOodeWRBAxnLOt2dpEEA+x2LocHkQQLYb9xh6iRBALnCLSYOZEECmxB96jKkQQB4ZtKqVuRBAlm1I257JEEANwtwLqNkQQIUWcTyx6RBA/WoFbbr5EEB1v5mdwwkRQO0TLs7MGRFAZWjC/tUpEUDdvFYv3zkRQFUR61/oSRFAzWV/kPFZEUBFuhPB+mkRQL0OqPEDehFANWM8Ig2KEUCtt9BSFpoRQCUMZYMfqhFAnWD5syi6EUAVtY3kMcoRQI0JIhU72hFABV62RUTqEUB9skp2TfoRQPUG36ZWChJAbVtz118aEkDlrwcIaSoSQF0EnDhyOhJA1VgwaXtKEkBNrcSZhFoSQMUBWcqNahJAPFbt+pZ6EkC0qoEroIoSQCz/FVypmhJApFOqjLKqEkAcqD69u7oSQJT80u3EyhJADFFnHs7aEkCEpftO1+oSQPz5j3/g+hJAdE4ksOkKE0Dsorjg8hoTQGT3TBH8KhNA3EvhQQU7E0BUoHVyDksTQMz0CaMXWxNAREme0yBrE0C8nTIEKnsTQDTyxjQzixNArEZbZTybE0Akm++VRasTQJzvg8ZOuxNAFEQY91fLE0CMmKwnYdsTQATtQFhq6xNAfEHViHP7E0D0lWm5fAsUQGvq/emFGxRA4z6SGo8rFEBbkyZLmDsUQNPnunuhSxRASzxPrKpbFEDDkOPcs2sUQDvldw29exRAszkMPsaLFEArjqBuz5sUQKPiNJ/YqxRAGzfJz+G7FECTi10A68sUQAvg8TD02xRAgzSGYf3rFED7iBqSBvwUQHPdrsIPDBVA6zFD8xgcFUBjhtcjIiwVQNvaa1QrPBVAUy8AhTRMFUDLg5S1PVwVQEPYKOZGbBVAuyy9FlB8FUAzgVFHWYwVQKvV5XdinBVAIip6qGusFUCafg7ZdLwVQBLTogl+zBVAiic3OofcFUACfMtqkOwVQHrQX5uZ/BVA8iT0y6IMFkBqeYj8qxwWQOLNHC21LBZAWiKxXb48FkDSdkWOx0wWQErL2b7QXBZAwh9u79lsFkA6dAIg43wWQLLIllDsjBZAKh0rgfWcFkCicb+x/qwWQBrGU+IHvRZAkhroEhHNFkAKb3xDGt0WQILDEHQj7RZA+helpCz9FkBybDnVNQ0XQOrAzQU/HRdAYhViNkgtF0DaafZmUT0XQFG+ipdaTRdAyRIfyGNdF0BBZ7P4bG0XQLm7Ryl2fRdAMRDcWX+NF0CpZHCKiJ0XQCG5BLuRrRdAmQ2Z65q9F0ARYi0cpM0XQIm2wUyt3RdAAQtWfbbtF0B5X+qtv/0XQPGzft7IDRhAaQgTD9IdGEDhXKc/2y0YQFmxO3DkPRhA0QXQoO1NGEBJWmTR9l0YQMGu+AEAbhhAOQONMgl+GECxVyFjEo4YQCmstZMbnhhAoQBKxCSuGEAZVd70Lb4YQJGpciU3zhhACP4GVkDeGECAUpuGSe4YQPimL7dS/hhAcPvD51sOGUDoT1gYZR4ZQGCk7EhuLhlA2PiAeXc+GUBQTRWqgE4ZQMihqdqJXhlAQPY9C5NuGUC4StI7nH4ZQDCfZmyljhlAqPP6nK6eGUAgSI/Nt64ZQJicI/7AvhlAEPG3LsrOGUCIRUxf094ZQACa4I/c7hlAeO50wOX+GUDwQgnx7g4aQGiXnSH4HhpA4OsxUgEvGkBYQMaCCj8aQNCUWrMTTxpASOnu4xxfGkDAPYMUJm8aQDeSF0UvfxpAr+ardTiPGkAnO0CmQZ8aQJ+P1NZKrxpAF+RoB1S/GkCPOP03Xc8aQAeNkWhm3xpAf+ElmW/vGkD3NbrJeP8aQG+KTvqBDxtA597iKosfG0BfM3dblC8bQNeHC4ydPxtAT9yfvKZPG0DHMDTtr18bQD+FyB25bxtAt9lcTsJ/G0AvLvF+y48bQKeCha/UnxtAH9cZ4N2vG0CXK64Q578bQA+AQkHwzxtAh9TWcfnfG0D/KGuiAvAbQHd9/9ILABxA7tGTAxUQHEBmJig0HiAcQN56vGQnMBxAVs9QlTBAHEDOI+XFOVAcQEZ4efZCYBxAvswNJ0xwHEA2IaJXVYAcQK51NohekBxAJsrKuGegHECeHl/pcLAcQBZz8xl6wBxAjseHSoPQHEAGHBx7jOAcQH5wsKuV8BxA9sRE3J4AHUBuGdkMqBAdQOZtbT2xIB1AXsIBbrowHUDWFpaew0AdQE5rKs/MUB1Axr++/9VgHUA+FFMw33AdQLZo52DogB1ALr17kfGQHUCmERDC+qAdQB1mpPIDsR1Albo4Iw3BHUAND81TFtEdQIVjYYQf4R1A/bf1tCjxHUB1DIrlMQEeQO1gHhY7ER5AZbWyRkQhHkDdCUd3TTEeQFVe26dWQR5AzbJv2F9RHkBFBwQJaWEeQL1bmDlycR5ANbAsanuBHkCtBMGahJEeQCVZVcuNoR5Ana3p+5axHkAVAn4soMEeQI1WEl2p0R5ABaumjbLhHkB9/zq+u/EeQPVTz+7EAR9AbahjH84RH0Dl/PdP1yEfQF1RjIDgMR9A1aUgselBH0BM+rTh8lEfQA==\",\"dtype\":\"float64\",\"shape\":[500]},\"top\":{\"__ndarray__\":\"nTONUHulEEAAAAAAAAAAAAAAAAAAAAAAAAAAAAAAAAAAAAAAAAAAAAAAAAAAAAAAAAAAAAAAAAAAAAAAAAAAAAAAAAAAAAAAAAAAAAAAAAAAAAAAAAAAAAAAAAAAAAAAAAAAAAAAAAAAAAAAAAAAAAAAAAAAAAAAAAAAAAAAAAAAAAAAAAAAAAAAAAAAAAAAAAAAAAAAAAAAAAAAAAAAAAAAAAAAAAAAAAAAAAAAAAAAAAAAAAAAAAAAAAAAAAAAAAAAAAAAAAAAAAAAAAAAAAAAAAAAAAAAAAAAAAAAAAAAAAAAAAAAAAAAAAAAAAAAAAAAAAAAAAAAAAAAAAAAAAAAAAAAAAAAAAAAAAAAAAAAAAAAAAAAAAAAAAAAAAAAAAAAAAAAAAAAAAAAAAAAAAAAAAAAAAAAAAAAAAAAAAAAAAAAAAAAAAAAAAAAAAAAAAAAAAAAAAAAAAAAAAAAAJRqtGFjzhFAAAAAAAAAAAAAAAAAAAAAAAAAAAAAAAAAAAAAAAAAAAAAAAAAAAAAAAAAAAAAAAAAAAAAAAAAAAAAAAAAAAAAAAAAAAAAAAAAAAAAAAAAAAAAAAAAAAAAAAAAAAAAAAAAAAAAAAAAAAAAAAAAAAAAAAAAAAAAAAAAAAAAAAAAAAAAAAAAAAAAAAAAAAAAAAAAAAAAAAAAAAAAAAAAAAAAAAAAAAAAAAAAAAAAAAAAAAAAAAAAAAAAAAAAAAAAAAAAAAAAAAAAAADYHnyaPJciQAAAAAAAAAAAAAAAAAAAAAAAAAAAAAAAAAAAAAAAAAAAAAAAAAAAAAAAAAAAAAAAAAAAAAAAAAAAAAAAAAAAAAAAAAAAAAAAAAAAAAAAAAAAAAAAAAAAAAAAAAAAAAAAAAAAAAAAAAAAAAAAAAAAAAAAAAAAAAAAAAAAAAAAAAAAAAAAAAAAAAC4WNsYE/QgQAAAAAAAAAAAAAAAAAAAAAAAAAAAAAAAAAAAAAAAAAAAAAAAAAAAAAAAAAAAAAAAAAAAAAAAAAAAAAAAAAAAAAAAAAAAAAAAAAAAAAAAAAAAAAAAAAAAAAAAAAAAAAAAAAAAAAAAAAAAO5nkVD8DFUAAAAAAAAAAAAAAAAAAAAAAAAAAAAAAAAAAAAAAAAAAAAAAAAAAAAAAAAAAAAAAAAAAAAAAAAAAAAAAAAAAAAAAAAAAAAAAAAAAAAAAAAAAAAAAAAAAAAAAw8pMtQlsBUAAAAAAAAAAAAAAAAAAAAAAAAAAAAAAAAAAAAAAAAAAAAAAAAAAAAAAAAAAAAAAAAAAAAAAAAAAAAAAAAAAAAAAAAAAAAAAAAANXf6SORoDQAAAAAAAAAAAAAAAAAAAAAAAAAAAAAAAAAAAAAAAAAAAAAAAAAAAAAAAAAAAAAAAAAAAAAAAAAAA59rYnaME/j8AAAAAAAAAAAAAAAAAAAAAAAAAAAAAAAAAAAAAAAAAAAAAAAAAAAAAAAAAAAAAAAAAAAAAAAAAABMorZvB1fs/AAAAAAAAAAAAAAAAAAAAAAAAAAAAAAAAAAAAAAAAAAAAAAAAAAAAAAAAAAAAAAAAWl3+kjka8z8AAAAAAAAAAAAAAAAAAAAAAAAAAAAAAAAAAAAAAAAAAAAAAAAAAAAAZ+a4Ul3U8j8AAAAAAAAAAAAAAAAAAAAAAAAAAAAAAAAAAAAAAAAAAFiD6JHIAvI/AAAAAAAAAAAAAAAAAAAAAAAAAAAAAAAAAAAAAAAAAABIIBjRMzHxPwAAAAAAAAAAAAAAAAAAAAAAAAAAAAAAAAAAAAAAAAAAtdXKFkXs5j8AAAAAAAAAAAAAAAAAAAAAAAAAAAAAAAALdoGZ36bpPwAAAAAAAAAAAAAAAAAAAAAAAAAAAAAAAAAAAAAAAAAA4CKfFGO95D8AAAAAAAAAAAAAAAAAAAAA7anSkFfr4D8AAAAAAAAAAAAAAAAAAAAAAAAAAAAAAAAx7k0d63jdPwAAAAAAAAAAAAAAAAAAAAAAAAAAAAAAAJYPKpUbSeU/AAAAAAAAAAAAAAAAAAAAAKKWXREQd+E/AAAAAAAAAAAAAAAAAAAAAImI9hgnG9k/AAAAAAAAAAAAAAAAAAAAAHZJiRPypdM/AAAAAAAAAAAAAAAAAAAAAF07IhsJSts/AAAAAAAAAAAMcHMSgY7SPwAAAAAAAAAAAAAAAAAAAADgIp8UY73UPwAAAAAAAAAAAAAAAAAAAABdOyIbCUrbPwAAAAAAAAAAdkmJE/Kl0z8AAAAAAAAAAPNhDBqYMto/AAAAAAAAAAAAAAAAAAAAAAxwcxKBjtI/AAAAAAAAAADgIp8UY73UPwAAAAAAAAAASvy0FdTU1T8AAAAAAAAAAAxwcxKBjtI/AAAAAAAAAACFI58UY73UPwAAAAAAAAAAm8djHlyQzj8AAAAAAAAAAPNhDBqYMso/H6/gF7YDyD8AAAAAAAAAAB+v4Be2A8g/AAAAAAAAAAA4vUcQn1/QP5vHYx5ckL4/AAAAAAAAAADzYQwamDK6PwAAAAAAAAAAOL1HEJ9f0D92SYkT8qXDPwAAAAAAAAAA82EMGpgyyj+ill0REHexPwAAAAAAAAAAH6/gF7YDyD+ill0REHfBP6KWXREQd8E/AAAAAAAAAAB2SYkT8qXDP5vHYx5ckL4/j8hjHlyQvj8AAAAAAAAAAHZJiRPypcM/82EMGpgyuj+ill0REHfBP0r8tBXU1LU/opZdERB3sT8AAAAAAAAAAPNhDBqYMro/H6/gF7YDyD+ill0REHexP6KWXREQd7E/m8djHlyQvj9K/LQV1NS1P6KWXREQd6E/Svy0FdTUtT9K/LQV1NS1P/NhDBqYMqo/dkmJE/Klwz+n/bQV1NS1P6KWXREQd7E/Svy0FdTUtT+ill0REHeRP0r8tBXU1LU/Svy0FdTUxT+ill0REHexP6KWXREQd5E/opZdERB3kT+bx2MeXJC+P/NhDBqYMqo/Svy0FdTUxT9K/LQV1NS1P6KWXREQd6E/opZdERB3wT9K/LQV1NS1P6KWXREQd7E/82EMGpgyuj+ill0REHexP6KWXREQd5E/opZdERB3sT/zYQwamDKqP5vHYx5ckL4/Svy0FdTUtT/zYQwamDK6P6KWXREQd5E/p/20FdTUtT/zYQwamDKqP6KWXREQd5E/82EMGpgyqj/zYQwamDK6P6KWXREQd5E/82EMGpgyqj/zYQwamDK6P/NhDBqYMqo/82EMGpgyqj+ill0REHexP/NhDBqYMqo/82EMGpgyqj+ill0REHehP6KWXREQd6E/82EMGpgyqj/zYQwamDKqP0r8tBXU1LU/opZdERB3oT/zYQwamDK6P6KWXREQd7E/opZdERB3sT+ill0REHehPwAAAAAAAAAAAAAAAAAAAACill0REHehP7mXXREQd7E/opZdERB3kT/zYQwamDKqP6KWXREQd6E/opZdERB3kT8AAAAAAAAAAKKWXREQd6E/opZdERB3oT+ill0REHeRP6KWXREQd7E/opZdERB3kT/zYQwamDKqP6KWXREQd7E/AAAAAAAAAACill0REHeRP6KWXREQd5E/opZdERB3kT/zYQwamDKqP0r8tBXU1LU/AAAAAAAAAADzYQwamDK6P6KWXREQd5E/opZdERB3oT+ill0REHehP6KWXREQd6E/uZddERB3oT+ill0REHeRPwAAAAAAAAAAopZdERB3kT+ill0REHeRP6KWXREQd6E/opZdERB3oT+ill0REHehP/NhDBqYMqo/opZdERB3sT/zYQwamDKqP/NhDBqYMqo/AAAAAAAAAACill0REHehP6KWXREQd5E/opZdERB3oT+ill0REHeRP6KWXREQd5E/AAAAAAAAAACill0REHeRPwAAAAAAAAAAopZdERB3kT8AAAAAAAAAAKKWXREQd5E/opZdERB3oT8AAAAAAAAAAJVjDBqYMqo/AAAAAAAAAAAAAAAAAAAAAKKWXREQd5E/AAAAAAAAAACill0REHeRP6KWXREQd7E/AAAAAAAAAACill0REHeRPwAAAAAAAAAAopZdERB3kT8AAAAAAAAAAAAAAAAAAAAAopZdERB3oT+ill0REHeRPwAAAAAAAAAAAAAAAAAAAACill0REHeRP6KWXREQd6E/opZdERB3kT+ill0REHehP6KWXREQd5E/opZdERB3kT+ill0REHeRP6KWXREQd5E/uZddERB3kT8AAAAAAAAAAAAAAAAAAAAAopZdERB3kT8AAAAAAAAAAKKWXREQd5E/AAAAAAAAAACill0REHehP6KWXREQd5E/opZdERB3kT8AAAAAAAAAAAAAAAAAAAAAopZdERB3kT8AAAAAAAAAAAAAAAAAAAAAAAAAAAAAAACill0REHeRP6KWXREQd5E/AAAAAAAAAAAAAAAAAAAAAKKWXREQd5E/AAAAAAAAAAAAAAAAAAAAAAAAAAAAAAAAopZdERB3oT/zYQwamDKqPwAAAAAAAAAAAAAAAAAAAAAAAAAAAAAAAKKWXREQd6E/AAAAAAAAAAAAAAAAAAAAAAAAAAAAAAAAAAAAAAAAAAAAAAAAAAAAAAAAAAAAAAAAopZdERB3kT+ill0REHehPwAAAAAAAAAAAAAAAAAAAACill0REHeRP6KWXREQd5E/opZdERB3kT8AAAAAAAAAAAAAAAAAAAAAopZdERB3kT8AAAAAAAAAAAAAAAAAAAAAAAAAAAAAAAAAAAAAAAAAAAAAAAAAAAAAAAAAAAAAAAAAAAAAAAAAAAAAAAAAAAAAAAAAAAAAAAAAAAAAAAAAAAAAAAAAAAAAAAAAAAAAAAAAAAAAAAAAAKKWXREQd5E/AAAAAAAAAAAAAAAAAAAAAAAAAAAAAAAAAAAAAAAAAAAAAAAAAAAAAAAAAAAAAAAAAAAAAAAAAAAAAAAAAAAAAAAAAAAAAAAAAAAAAAAAAAAAAAAAAAAAAAAAAAAAAAAAAAAAAAAAAAAAAAAAAAAAAAAAAAAAAAAAAAAAAAAAAAAAAAAAAAAAAAAAAAAAAAAAAAAAAAAAAAAAAAAAAAAAAAAAAAAAAAAAAAAAAAAAAAAAAAAAAAAAAAAAAAAAAAAAAAAAAAAAAAAAAAAAAAAAAAAAAAAAAAAAAAAAAAAAAACill0REHeRPwAAAAAAAAAAAAAAAAAAAAAAAAAAAAAAAAAAAAAAAAAAAAAAAAAAAAAAAAAAAAAAAAAAAAAAAAAAAAAAAAAAAAAAAAAAAAAAAAAAAAAAAAAAAAAAAAAAAAAAAAAAAAAAAAAAAAAAAAAAAAAAAAAAAAC5l10REHeRPw==\",\"dtype\":\"float64\",\"shape\":[500]}}},\"id\":\"e4dbb50b-f154-4bb0-bc7c-7f2b61ba2ed5\",\"type\":\"ColumnDataSource\"},{\"attributes\":{\"dimension\":1,\"plot\":{\"id\":\"22c19379-1353-4a29-8dc9-77b856994fd5\",\"subtype\":\"Figure\",\"type\":\"Plot\"},\"ticker\":{\"id\":\"76080dcb-25a8-4e31-90de-8b55388debd4\",\"type\":\"BasicTicker\"}},\"id\":\"34b52067-a119-4ac0-8055-9f7ea714a9ae\",\"type\":\"Grid\"},{\"attributes\":{\"callback\":null},\"id\":\"a9dddcec-e2ce-42ff-af16-237fd0ab04dd\",\"type\":\"DataRange1d\"},{\"attributes\":{},\"id\":\"bf3cc967-b94e-4fe8-bb67-2c73deb559ed\",\"type\":\"LinearScale\"},{\"attributes\":{\"active_drag\":\"auto\",\"active_inspect\":\"auto\",\"active_scroll\":\"auto\",\"active_tap\":\"auto\",\"tools\":[{\"id\":\"841ae0ac-e525-44ac-ab7d-16f940dab4cd\",\"type\":\"PanTool\"},{\"id\":\"0c7a19c4-08ab-4176-86f2-5f26ad364895\",\"type\":\"WheelZoomTool\"},{\"id\":\"a901a1ca-6c10-40d2-88c4-3e41afbc4b59\",\"type\":\"ResetTool\"},{\"id\":\"7054c0f3-b357-491d-8fda-2eba5ab6b3cf\",\"type\":\"SaveTool\"}]},\"id\":\"aba9c425-6e01-476b-9f7b-026bb2072792\",\"type\":\"Toolbar\"},{\"attributes\":{},\"id\":\"0c7a19c4-08ab-4176-86f2-5f26ad364895\",\"type\":\"WheelZoomTool\"},{\"attributes\":{},\"id\":\"76080dcb-25a8-4e31-90de-8b55388debd4\",\"type\":\"BasicTicker\"},{\"attributes\":{},\"id\":\"2f25dcff-22b9-4141-8952-8473c45fad3b\",\"type\":\"BasicTickFormatter\"},{\"attributes\":{},\"id\":\"e9066045-7afb-4f45-8678-c8a11d9359d6\",\"type\":\"LinearScale\"},{\"attributes\":{\"below\":[{\"id\":\"edaf452e-b5e5-4482-8cab-732846e7fde0\",\"type\":\"LinearAxis\"}],\"left\":[{\"id\":\"4f11f6ef-1988-4392-9f17-3a927ada8145\",\"type\":\"LinearAxis\"}],\"renderers\":[{\"id\":\"edaf452e-b5e5-4482-8cab-732846e7fde0\",\"type\":\"LinearAxis\"},{\"id\":\"466282f8-a121-439d-8cd0-c0bbc6a42507\",\"type\":\"Grid\"},{\"id\":\"4f11f6ef-1988-4392-9f17-3a927ada8145\",\"type\":\"LinearAxis\"},{\"id\":\"34b52067-a119-4ac0-8055-9f7ea714a9ae\",\"type\":\"Grid\"},{\"id\":\"b46a406a-e42d-431d-a70f-bacaa10f91fb\",\"type\":\"GlyphRenderer\"}],\"title\":{\"id\":\"d9126a40-3a18-4866-8e23-d9a7d86af5c6\",\"type\":\"Title\"},\"toolbar\":{\"id\":\"aba9c425-6e01-476b-9f7b-026bb2072792\",\"type\":\"Toolbar\"},\"toolbar_location\":\"above\",\"x_range\":{\"id\":\"a9dddcec-e2ce-42ff-af16-237fd0ab04dd\",\"type\":\"DataRange1d\"},\"x_scale\":{\"id\":\"e9066045-7afb-4f45-8678-c8a11d9359d6\",\"type\":\"LinearScale\"},\"y_range\":{\"id\":\"3b3ffcfb-1bbd-4b4e-8538-34c17709a571\",\"type\":\"DataRange1d\"},\"y_scale\":{\"id\":\"bf3cc967-b94e-4fe8-bb67-2c73deb559ed\",\"type\":\"LinearScale\"}},\"id\":\"22c19379-1353-4a29-8dc9-77b856994fd5\",\"subtype\":\"Figure\",\"type\":\"Plot\"},{\"attributes\":{\"plot\":null,\"text\":\"Word distribution accross all twits\"},\"id\":\"d9126a40-3a18-4866-8e23-d9a7d86af5c6\",\"type\":\"Title\"},{\"attributes\":{\"bottom\":{\"value\":0},\"fill_color\":{\"value\":\"#1f77b4\"},\"left\":{\"field\":\"left\"},\"line_color\":{\"value\":\"#555555\"},\"right\":{\"field\":\"right\"},\"top\":{\"field\":\"top\"}},\"id\":\"6b161542-b2b3-431a-afae-f75f84ac68a0\",\"type\":\"Quad\"}],\"root_ids\":[\"22c19379-1353-4a29-8dc9-77b856994fd5\"]},\"title\":\"Bokeh Application\",\"version\":\"0.12.10\"}};\n",
       "    var render_items = [{\"docid\":\"241c8d24-0bae-4c6a-8d61-6b87b27d55f8\",\"elementid\":\"d65bc3d9-ccbc-46ba-93aa-eef3b676cbe3\",\"modelid\":\"22c19379-1353-4a29-8dc9-77b856994fd5\"}];\n",
       "\n",
       "    root.Bokeh.embed.embed_items(docs_json, render_items);\n",
       "  }\n",
       "\n",
       "  if (root.Bokeh !== undefined) {\n",
       "    embed_document(root);\n",
       "  } else {\n",
       "    var attempts = 0;\n",
       "    var timer = setInterval(function(root) {\n",
       "      if (root.Bokeh !== undefined) {\n",
       "        embed_document(root);\n",
       "        clearInterval(timer);\n",
       "      }\n",
       "      attempts++;\n",
       "      if (attempts > 100) {\n",
       "        console.log(\"Bokeh: ERROR: Unable to embed document because BokehJS library is missing\")\n",
       "        clearInterval(timer);\n",
       "      }\n",
       "    }, 10, root)\n",
       "  }\n",
       "})(window);"
      ],
      "application/vnd.bokehjs_exec.v0+json": ""
     },
     "metadata": {
      "application/vnd.bokehjs_exec.v0+json": {
       "id": "22c19379-1353-4a29-8dc9-77b856994fd5"
      }
     },
     "output_type": "display_data"
    }
   ],
   "source": [
    "plot_distribution(vocab_reduced)"
   ]
  },
  {
   "cell_type": "markdown",
   "metadata": {},
   "source": [
    "### Removing special characters and \"trash\"\n",
    "\n",
    "We still se a very uneaven distribution. If you look closer, you'll see that we're also taking into consideration punctuation signs ('-', ',', etc) and other html tags like `&amp`. We can definitely remove them for the sentiment analysis, but we will try to keep the emoticons, since those _do_ have a sentiment load:"
   ]
  },
  {
   "cell_type": "code",
   "execution_count": 14,
   "metadata": {},
   "outputs": [
    {
     "name": "stdout",
     "output_type": "stream",
     "text": [
      "this twit man is nice :)\n"
     ]
    }
   ],
   "source": [
    "import re\n",
    "\n",
    "def preprocessor(text):\n",
    "    \"\"\" Return a cleaned version of text\n",
    "    \"\"\"\n",
    "    # Remove HTML markup\n",
    "    text = re.sub('<[^>]*>', '', text)\n",
    "    # Save emoticons for later appending\n",
    "    emoticons = re.findall('(?::|;|=)(?:-)?(?:\\)|\\(|D|P)', text)\n",
    "    # Remove any non-word character and append the emoticons,\n",
    "    # removing the nose character for standarization. Convert to lower case\n",
    "    text = (re.sub('[\\W]+', ' ', text.lower()) + ' ' + ' '.join(emoticons).replace('-', ''))\n",
    "    \n",
    "    return text\n",
    "\n",
    "print(preprocessor('This!! twit man :) is <b>nice</b>'))"
   ]
  },
  {
   "cell_type": "markdown",
   "metadata": {},
   "source": [
    "We are almost ready! There is another trick we can use to reduce our vocabulary and consolidate words. If you think about it, words like: love, loving, etc. _Could_ express the same positivity. If that was the case, we would be  having two words in our vocabulary when we could have only one: lov. This process of reducing a word to its root is called **steaming**.\n",
    "\n",
    "We also need a _tokenizer_ to break down our twits in individual words. We will implement two tokenizers, a regular one and one that does steaming:"
   ]
  },
  {
   "cell_type": "code",
   "execution_count": 15,
   "metadata": {},
   "outputs": [
    {
     "name": "stdout",
     "output_type": "stream",
     "text": [
      "['Hi', 'there,', 'I', 'am', 'loving', 'this,', 'like', 'with', 'a', 'lot', 'of', 'love']\n",
      "['Hi', 'there,', 'I', 'am', 'love', 'this,', 'like', 'with', 'a', 'lot', 'of', 'love']\n"
     ]
    }
   ],
   "source": [
    "from nltk.stem import PorterStemmer\n",
    "\n",
    "porter = PorterStemmer()\n",
    "\n",
    "def tokenizer(text):\n",
    "    return text.split()\n",
    "\n",
    "def tokenizer_porter(text):\n",
    "    return [porter.stem(word) for word in text.split()]\n",
    "\n",
    "print(tokenizer('Hi there, I am loving this, like with a lot of love'))\n",
    "print(tokenizer_porter('Hi there, I am loving this, like with a lot of love'))"
   ]
  },
  {
   "cell_type": "markdown",
   "metadata": {},
   "source": [
    "## Training Logistic Regression\n",
    "\n",
    "We are finally ready to train our algorythm. We need to choose the best hyperparameters like the _learning rate_ or _regularization strength_. We also would like to know if our algorithm performs better steaming words or not, or removing html or not, etc...\n",
    "\n",
    "To take these decisions methodically, we can use a Grid Search. Grid search is a method of training an algorythm with different variations of parameters to latter select the best combination"
   ]
  },
  {
   "cell_type": "code",
   "execution_count": 20,
   "metadata": {},
   "outputs": [],
   "source": [
    "from sklearn.model_selection import train_test_split\n",
    "\n",
    "# split the dataset in train and test\n",
    "# X = train['recipedetails']\n",
    "# y = train['label']\n",
    "X_train = train['recipedetails']\n",
    "X_test = test['recipedetails']\n",
    "# X_train, X_test, y_train, y_test = train_test_split(X, y, test_size=0.3, random_state=0)"
   ]
  },
  {
   "cell_type": "markdown",
   "metadata": {},
   "source": [
    "In the code line above, `stratify` will create a train set with the same class balance than the original set"
   ]
  },
  {
   "cell_type": "code",
   "execution_count": 23,
   "metadata": {
    "collapsed": true
   },
   "outputs": [],
   "source": [
    "from sklearn.model_selection import GridSearchCV\n",
    "from sklearn.pipeline import Pipeline\n",
    "from sklearn.linear_model import LogisticRegression\n",
    "from sklearn.feature_extraction.text import TfidfVectorizer\n",
    "from sklearn.multiclass import OneVsRestClassifier\n",
    "from sklearn.metrics import accuracy_score\n",
    "\n",
    "tfidf = TfidfVectorizer(strip_accents=None,\n",
    "                        lowercase=False,\n",
    "                        preprocessor=None)\n",
    "\n",
    "param_grid = [{'vect__ngram_range': [(1, 1)],\n",
    "               'vect__stop_words': [stop, None],\n",
    "               'vect__tokenizer': [tokenizer, tokenizer_porter],\n",
    "               'vect__preprocessor': [None, preprocessor],\n",
    "               'clf__penalty': ['l1', 'l2'],\n",
    "               'clf__C': [1.0, 10.0, 100.0]},\n",
    "              {'vect__ngram_range': [(1, 1)],\n",
    "               'vect__stop_words': [stop, None],\n",
    "               'vect__tokenizer': [tokenizer, tokenizer_porter],\n",
    "               'vect__preprocessor': [None, preprocessor],\n",
    "               'vect__use_idf':[False],\n",
    "               'vect__norm':[None],\n",
    "               'clf__penalty': ['l1', 'l2'],\n",
    "               'clf__C': [1.0, 10.0, 100.0]},\n",
    "              ]\n",
    "\n",
    "lr_tfidf = Pipeline([('vect', tfidf),\n",
    "                     ('clf', OneVsRestClassifier(LogisticRegression(random_state=0)))])\n",
    "\n",
    "# gs_lr_tfidf = GridSearchCV(lr_tfidf, param_grid,\n",
    "#                            scoring='accuracy',\n",
    "#                            cv=5,\n",
    "#                            verbose=1,\n",
    "#                            n_jobs=-1)"
   ]
  },
  {
   "cell_type": "code",
   "execution_count": 33,
   "metadata": {},
   "outputs": [
    {
     "name": "stdout",
     "output_type": "stream",
     "text": [
      "... Processing device_speaker_screen\n",
      "Test accuracy is 0.845711759504863\n",
      "... Processing device_camera\n",
      "Test accuracy is 0.9610963748894783\n",
      "... Processing device__wearable\n",
      "Test accuracy is 0.8576480990274093\n",
      "... Processing device_tablet\n",
      "Test accuracy is 0.8328912466843501\n",
      "... Processing device_kitchen\n",
      "Test accuracy is 0.8616268788682582\n",
      "... Processing device_speaker_no_screen\n",
      "Test accuracy is 0.8311229000884174\n",
      "Avg. accuracy: 0.8650162098437962\n"
     ]
    }
   ],
   "source": [
    "accuracies = []\n",
    "for label in labels:\n",
    "    print('... Processing {}'.format(label))\n",
    "    # train the model using X_dtm & y\n",
    "    lr_tfidf.fit(X_train, train[label])\n",
    "    # compute the testing accuracy\n",
    "    prediction = lr_tfidf.predict(X_test)\n",
    "    acc = accuracy_score(test[label], prediction)\n",
    "    accuracies.append(acc)\n",
    "    print('Test accuracy is {}'.format(acc))\n",
    "\n",
    "print('Avg. accuracy: {}'.format(np.mean(accuracies)))"
   ]
  },
  {
   "cell_type": "code",
   "execution_count": 26,
   "metadata": {},
   "outputs": [
    {
     "name": "stdout",
     "output_type": "stream",
     "text": [
      "Best parameter set: {'clf__C': 100.0, 'clf__penalty': 'l1', 'vect__ngram_range': (1, 1), 'vect__preprocessor': None, 'vect__stop_words': ['i', 'me', 'my', 'myself', 'we', 'our', 'ours', 'ourselves', 'you', \"you're\", \"you've\", \"you'll\", \"you'd\", 'your', 'yours', 'yourself', 'yourselves', 'he', 'him', 'his', 'himself', 'she', \"she's\", 'her', 'hers', 'herself', 'it', \"it's\", 'its', 'itself', 'they', 'them', 'their', 'theirs', 'themselves', 'what', 'which', 'who', 'whom', 'this', 'that', \"that'll\", 'these', 'those', 'am', 'is', 'are', 'was', 'were', 'be', 'been', 'being', 'have', 'has', 'had', 'having', 'do', 'does', 'did', 'doing', 'a', 'an', 'the', 'and', 'but', 'if', 'or', 'because', 'as', 'until', 'while', 'of', 'at', 'by', 'for', 'with', 'about', 'against', 'between', 'into', 'through', 'during', 'before', 'after', 'above', 'below', 'to', 'from', 'up', 'down', 'in', 'out', 'on', 'off', 'over', 'under', 'again', 'further', 'then', 'once', 'here', 'there', 'when', 'where', 'why', 'how', 'all', 'any', 'both', 'each', 'few', 'more', 'most', 'other', 'some', 'such', 'no', 'nor', 'not', 'only', 'own', 'same', 'so', 'than', 'too', 'very', 's', 't', 'can', 'will', 'just', 'don', \"don't\", 'should', \"should've\", 'now', 'd', 'll', 'm', 'o', 're', 've', 'y', 'ain', 'aren', \"aren't\", 'couldn', \"couldn't\", 'didn', \"didn't\", 'doesn', \"doesn't\", 'hadn', \"hadn't\", 'hasn', \"hasn't\", 'haven', \"haven't\", 'isn', \"isn't\", 'ma', 'mightn', \"mightn't\", 'mustn', \"mustn't\", 'needn', \"needn't\", 'shan', \"shan't\", 'shouldn', \"shouldn't\", 'wasn', \"wasn't\", 'weren', \"weren't\", 'won', \"won't\", 'wouldn', \"wouldn't\"], 'vect__tokenizer': <function tokenizer at 0x7f88486fa400>}\n",
      "Best accuracy: 0.928\n"
     ]
    }
   ],
   "source": [
    "# print('Best parameter set: ' + str(gs_lr_tfidf.best_params_))\n",
    "# print('Best accuracy: %.3f' % gs_lr_tfidf.best_score_)"
   ]
  },
  {
   "cell_type": "code",
   "execution_count": 27,
   "metadata": {},
   "outputs": [
    {
     "name": "stdout",
     "output_type": "stream",
     "text": [
      "Accuracy in test: 0.946\n"
     ]
    }
   ],
   "source": [
    "# clf = gs_lr_tfidf.best_estimator_\n",
    "# print('Accuracy in test: %.3f' % clf.score(X_test, y_test))"
   ]
  },
  {
   "cell_type": "markdown",
   "metadata": {},
   "source": [
    "If we would like to use the classifier in another place, or just not train it again and again everytime, we can save the model in a pickle file:"
   ]
  },
  {
   "cell_type": "code",
   "execution_count": 28,
   "metadata": {
    "collapsed": true
   },
   "outputs": [],
   "source": [
    "# import pickle\n",
    "# import os\n",
    "\n",
    "# pickle.dump(clf, open(os.path.join('data', 'logisticRegression.pkl'), 'wb'), protocol=4)"
   ]
  },
  {
   "cell_type": "markdown",
   "metadata": {},
   "source": [
    "Finally, let's run some tests :-)"
   ]
  },
  {
   "cell_type": "code",
   "execution_count": 28,
   "metadata": {},
   "outputs": [
    {
     "ename": "NameError",
     "evalue": "name 'clf' is not defined",
     "output_type": "error",
     "traceback": [
      "\u001b[0;31m---------------------------------------------------------------------------\u001b[0m",
      "\u001b[0;31mNameError\u001b[0m                                 Traceback (most recent call last)",
      "\u001b[0;32m<ipython-input-28-97cf6b14db47>\u001b[0m in \u001b[0;36m<module>\u001b[0;34m()\u001b[0m\n\u001b[1;32m      6\u001b[0m ]\n\u001b[1;32m      7\u001b[0m \u001b[0;34m\u001b[0m\u001b[0m\n\u001b[0;32m----> 8\u001b[0;31m \u001b[0mpreds\u001b[0m \u001b[0;34m=\u001b[0m \u001b[0mclf\u001b[0m\u001b[0;34m.\u001b[0m\u001b[0mpredict\u001b[0m\u001b[0;34m(\u001b[0m\u001b[0mtwits\u001b[0m\u001b[0;34m)\u001b[0m\u001b[0;34m\u001b[0m\u001b[0m\n\u001b[0m\u001b[1;32m      9\u001b[0m \u001b[0;34m\u001b[0m\u001b[0m\n\u001b[1;32m     10\u001b[0m \u001b[0;32mfor\u001b[0m \u001b[0mi\u001b[0m \u001b[0;32min\u001b[0m \u001b[0mrange\u001b[0m\u001b[0;34m(\u001b[0m\u001b[0mlen\u001b[0m\u001b[0;34m(\u001b[0m\u001b[0mtwits\u001b[0m\u001b[0;34m)\u001b[0m\u001b[0;34m)\u001b[0m\u001b[0;34m:\u001b[0m\u001b[0;34m\u001b[0m\u001b[0m\n",
      "\u001b[0;31mNameError\u001b[0m: name 'clf' is not defined"
     ]
    }
   ],
   "source": [
    "twits = [\n",
    "    \"This is really bad, I don't like it at all\",\n",
    "    \"I love this!\",\n",
    "    \":)\",\n",
    "    \"I'm sad... :(\"\n",
    "]\n",
    "\n",
    "preds = clf.predict(twits)\n",
    "\n",
    "for i in range(len(twits)):\n",
    "    print(f'{twits[i]} --> {preds[i]}')"
   ]
  },
  {
   "cell_type": "markdown",
   "metadata": {},
   "source": [
    "## And you're done! I hope you liked this!"
   ]
  }
 ],
 "metadata": {
  "kernelspec": {
   "display_name": "Python 3",
   "language": "python",
   "name": "python3"
  },
  "language_info": {
   "codemirror_mode": {
    "name": "ipython",
    "version": 3
   },
   "file_extension": ".py",
   "mimetype": "text/x-python",
   "name": "python",
   "nbconvert_exporter": "python",
   "pygments_lexer": "ipython3",
   "version": "3.6.6"
  }
 },
 "nbformat": 4,
 "nbformat_minor": 2
}
